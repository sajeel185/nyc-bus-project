{
 "cells": [
  {
   "cell_type": "code",
   "execution_count": 1,
   "metadata": {},
   "outputs": [],
   "source": [
    "import pandas as pd\n",
    "import numpy as np\n",
    "import matplotlib.pyplot as plt\n",
    "%matplotlib inline\n",
    "import seaborn as sns\n",
    "from sklearn.naive_bayes import BernoulliNB\n",
    "from sklearn.model_selection import train_test_split\n",
    "from sklearn.metrics import confusion_matrix\n",
    "from sklearn.neighbors import KNeighborsClassifier\n",
    "from scipy import stats\n",
    "from sklearn.model_selection import cross_val_score\n",
    "from sklearn.model_selection import GridSearchCV\n",
    "from sklearn import ensemble\n",
    "from sklearn import tree\n",
    "from sklearn.linear_model import LogisticRegression\n",
    "from sklearn import metrics\n",
    "from sklearn.metrics import classification_report\n",
    "from sklearn.metrics import roc_curve\n",
    "from sklearn.metrics import roc_auc_score\n",
    "import datetime\n",
    "from sklearn.preprocessing import StandardScaler\n",
    "from sklearn.decomposition import PCA\n",
    "from sklearn.feature_selection import SelectKBest\n",
    "from sklearn.feature_selection import chi2\n",
    "from sklearn.feature_selection import f_classif\n",
    "import geopy.distance\n",
    "from sklearn.pipeline import Pipeline\n",
    "from datetime import timedelta "
   ]
  },
  {
   "cell_type": "code",
   "execution_count": 2,
   "metadata": {},
   "outputs": [
    {
     "name": "stderr",
     "output_type": "stream",
     "text": [
      "C:\\Users\\sajee\\AppData\\Local\\Continuum\\anaconda3\\lib\\site-packages\\IPython\\core\\interactiveshell.py:3020: DtypeWarning: Columns (14,17) have mixed types. Specify dtype option on import or set low_memory=False.\n",
      "  interactivity=interactivity, compiler=compiler, result=result)\n"
     ]
    },
    {
     "data": {
      "text/html": [
       "<div>\n",
       "<style scoped>\n",
       "    .dataframe tbody tr th:only-of-type {\n",
       "        vertical-align: middle;\n",
       "    }\n",
       "\n",
       "    .dataframe tbody tr th {\n",
       "        vertical-align: top;\n",
       "    }\n",
       "\n",
       "    .dataframe thead th {\n",
       "        text-align: right;\n",
       "    }\n",
       "</style>\n",
       "<table border=\"1\" class=\"dataframe\">\n",
       "  <thead>\n",
       "    <tr style=\"text-align: right;\">\n",
       "      <th></th>\n",
       "      <th>RecordedAtTime</th>\n",
       "      <th>DirectionRef</th>\n",
       "      <th>PublishedLineName</th>\n",
       "      <th>OriginName</th>\n",
       "      <th>OriginLat</th>\n",
       "      <th>OriginLong</th>\n",
       "      <th>DestinationName</th>\n",
       "      <th>DestinationLat</th>\n",
       "      <th>DestinationLong</th>\n",
       "      <th>VehicleRef</th>\n",
       "      <th>VehicleLocation.Latitude</th>\n",
       "      <th>VehicleLocation.Longitude</th>\n",
       "      <th>NextStopPointName</th>\n",
       "      <th>ArrivalProximityText</th>\n",
       "      <th>DistanceFromStop</th>\n",
       "      <th>ExpectedArrivalTime</th>\n",
       "      <th>ScheduledArrivalTime</th>\n",
       "      <th>Unnamed: 17</th>\n",
       "    </tr>\n",
       "  </thead>\n",
       "  <tbody>\n",
       "    <tr>\n",
       "      <th>0</th>\n",
       "      <td>6/1/2017 0:03</td>\n",
       "      <td>0</td>\n",
       "      <td>B8</td>\n",
       "      <td>4 AV/95 ST</td>\n",
       "      <td>40.616104</td>\n",
       "      <td>-74.031143</td>\n",
       "      <td>BROWNSVILLE ROCKAWAY AV</td>\n",
       "      <td>40.656048</td>\n",
       "      <td>-73.907379</td>\n",
       "      <td>NYCT_430</td>\n",
       "      <td>40.635170</td>\n",
       "      <td>-73.960803</td>\n",
       "      <td>FOSTER AV/E 18 ST</td>\n",
       "      <td>approaching</td>\n",
       "      <td>76</td>\n",
       "      <td>6/1/2017 0:03</td>\n",
       "      <td>24:06:14</td>\n",
       "      <td>NaN</td>\n",
       "    </tr>\n",
       "    <tr>\n",
       "      <th>1</th>\n",
       "      <td>6/1/2017 0:03</td>\n",
       "      <td>1</td>\n",
       "      <td>S61</td>\n",
       "      <td>ST GEORGE FERRY/S61 &amp; S91</td>\n",
       "      <td>40.643169</td>\n",
       "      <td>-74.073494</td>\n",
       "      <td>S I MALL YUKON AV</td>\n",
       "      <td>40.575935</td>\n",
       "      <td>-74.167686</td>\n",
       "      <td>NYCT_8263</td>\n",
       "      <td>40.590802</td>\n",
       "      <td>-74.158340</td>\n",
       "      <td>MERRYMOUNT ST/TRAVIS AV</td>\n",
       "      <td>approaching</td>\n",
       "      <td>62</td>\n",
       "      <td>6/1/2017 0:03</td>\n",
       "      <td>23:58:02</td>\n",
       "      <td>NaN</td>\n",
       "    </tr>\n",
       "    <tr>\n",
       "      <th>2</th>\n",
       "      <td>6/1/2017 0:03</td>\n",
       "      <td>0</td>\n",
       "      <td>Bx10</td>\n",
       "      <td>E 206 ST/BAINBRIDGE AV</td>\n",
       "      <td>40.875008</td>\n",
       "      <td>-73.880142</td>\n",
       "      <td>RIVERDALE 263 ST</td>\n",
       "      <td>40.912376</td>\n",
       "      <td>-73.902534</td>\n",
       "      <td>NYCT_4223</td>\n",
       "      <td>40.886010</td>\n",
       "      <td>-73.912647</td>\n",
       "      <td>HENRY HUDSON PKY E/W 235 ST</td>\n",
       "      <td>at stop</td>\n",
       "      <td>5</td>\n",
       "      <td>6/1/2017 0:03</td>\n",
       "      <td>24:00:53</td>\n",
       "      <td>NaN</td>\n",
       "    </tr>\n",
       "    <tr>\n",
       "      <th>3</th>\n",
       "      <td>6/1/2017 0:03</td>\n",
       "      <td>0</td>\n",
       "      <td>Q5</td>\n",
       "      <td>TEARDROP/LAYOVER</td>\n",
       "      <td>40.701748</td>\n",
       "      <td>-73.802399</td>\n",
       "      <td>ROSEDALE LIRR STA via MERRICK</td>\n",
       "      <td>40.666012</td>\n",
       "      <td>-73.735939</td>\n",
       "      <td>NYCT_8422</td>\n",
       "      <td>40.668002</td>\n",
       "      <td>-73.729348</td>\n",
       "      <td>HOOK CREEK BL/SUNRISE HY</td>\n",
       "      <td>&lt; 1 stop away</td>\n",
       "      <td>267</td>\n",
       "      <td>6/1/2017 0:04</td>\n",
       "      <td>24:03:00</td>\n",
       "      <td>NaN</td>\n",
       "    </tr>\n",
       "    <tr>\n",
       "      <th>4</th>\n",
       "      <td>6/1/2017 0:03</td>\n",
       "      <td>1</td>\n",
       "      <td>Bx1</td>\n",
       "      <td>RIVERDALE AV/W 231 ST</td>\n",
       "      <td>40.881187</td>\n",
       "      <td>-73.909340</td>\n",
       "      <td>MOTT HAVEN 136 ST via CONCOURSE</td>\n",
       "      <td>40.809654</td>\n",
       "      <td>-73.928360</td>\n",
       "      <td>NYCT_4710</td>\n",
       "      <td>40.868134</td>\n",
       "      <td>-73.893032</td>\n",
       "      <td>GRAND CONCOURSE/E 196 ST</td>\n",
       "      <td>at stop</td>\n",
       "      <td>11</td>\n",
       "      <td>6/1/2017 0:03</td>\n",
       "      <td>23:59:38</td>\n",
       "      <td>NaN</td>\n",
       "    </tr>\n",
       "  </tbody>\n",
       "</table>\n",
       "</div>"
      ],
      "text/plain": [
       "  RecordedAtTime  DirectionRef PublishedLineName                 OriginName  \\\n",
       "0  6/1/2017 0:03             0                B8                 4 AV/95 ST   \n",
       "1  6/1/2017 0:03             1               S61  ST GEORGE FERRY/S61 & S91   \n",
       "2  6/1/2017 0:03             0              Bx10     E 206 ST/BAINBRIDGE AV   \n",
       "3  6/1/2017 0:03             0                Q5           TEARDROP/LAYOVER   \n",
       "4  6/1/2017 0:03             1               Bx1      RIVERDALE AV/W 231 ST   \n",
       "\n",
       "   OriginLat  OriginLong                  DestinationName  DestinationLat  \\\n",
       "0  40.616104  -74.031143          BROWNSVILLE ROCKAWAY AV       40.656048   \n",
       "1  40.643169  -74.073494                S I MALL YUKON AV       40.575935   \n",
       "2  40.875008  -73.880142                 RIVERDALE 263 ST       40.912376   \n",
       "3  40.701748  -73.802399    ROSEDALE LIRR STA via MERRICK       40.666012   \n",
       "4  40.881187  -73.909340  MOTT HAVEN 136 ST via CONCOURSE       40.809654   \n",
       "\n",
       "   DestinationLong VehicleRef  VehicleLocation.Latitude  \\\n",
       "0       -73.907379   NYCT_430                 40.635170   \n",
       "1       -74.167686  NYCT_8263                 40.590802   \n",
       "2       -73.902534  NYCT_4223                 40.886010   \n",
       "3       -73.735939  NYCT_8422                 40.668002   \n",
       "4       -73.928360  NYCT_4710                 40.868134   \n",
       "\n",
       "   VehicleLocation.Longitude            NextStopPointName  \\\n",
       "0                 -73.960803            FOSTER AV/E 18 ST   \n",
       "1                 -74.158340      MERRYMOUNT ST/TRAVIS AV   \n",
       "2                 -73.912647  HENRY HUDSON PKY E/W 235 ST   \n",
       "3                 -73.729348     HOOK CREEK BL/SUNRISE HY   \n",
       "4                 -73.893032     GRAND CONCOURSE/E 196 ST   \n",
       "\n",
       "  ArrivalProximityText DistanceFromStop ExpectedArrivalTime  \\\n",
       "0          approaching               76       6/1/2017 0:03   \n",
       "1          approaching               62       6/1/2017 0:03   \n",
       "2              at stop                5       6/1/2017 0:03   \n",
       "3        < 1 stop away              267       6/1/2017 0:04   \n",
       "4              at stop               11       6/1/2017 0:03   \n",
       "\n",
       "  ScheduledArrivalTime Unnamed: 17  \n",
       "0             24:06:14         NaN  \n",
       "1             23:58:02         NaN  \n",
       "2             24:00:53         NaN  \n",
       "3             24:03:00         NaN  \n",
       "4             23:59:38         NaN  "
      ]
     },
     "execution_count": 2,
     "metadata": {},
     "output_type": "execute_result"
    }
   ],
   "source": [
    "df = pd.read_csv('nyc bus data.csv')\n",
    "df = df.drop_duplicates()\n",
    "# = df.dropna()\n",
    "df.head()"
   ]
  },
  {
   "cell_type": "code",
   "execution_count": 3,
   "metadata": {},
   "outputs": [
    {
     "data": {
      "text/plain": [
       "(1048575, 18)"
      ]
     },
     "execution_count": 3,
     "metadata": {},
     "output_type": "execute_result"
    }
   ],
   "source": [
    "df.shape"
   ]
  },
  {
   "cell_type": "code",
   "execution_count": 4,
   "metadata": {},
   "outputs": [
    {
     "name": "stdout",
     "output_type": "stream",
     "text": [
      "<class 'pandas.core.frame.DataFrame'>\n",
      "Int64Index: 1048575 entries, 0 to 1048574\n",
      "Data columns (total 18 columns):\n",
      "RecordedAtTime               1048575 non-null object\n",
      "DirectionRef                 1048575 non-null int64\n",
      "PublishedLineName            1048575 non-null object\n",
      "OriginName                   1040112 non-null object\n",
      "OriginLat                    1040112 non-null float64\n",
      "OriginLong                   1040112 non-null float64\n",
      "DestinationName              1048575 non-null object\n",
      "DestinationLat               1047329 non-null float64\n",
      "DestinationLong              1047329 non-null float64\n",
      "VehicleRef                   1048575 non-null object\n",
      "VehicleLocation.Latitude     1048575 non-null float64\n",
      "VehicleLocation.Longitude    1048575 non-null float64\n",
      "NextStopPointName            1047439 non-null object\n",
      "ArrivalProximityText         1047439 non-null object\n",
      "DistanceFromStop             1047439 non-null object\n",
      "ExpectedArrivalTime          931342 non-null object\n",
      "ScheduledArrivalTime         1022903 non-null object\n",
      "Unnamed: 17                  59 non-null object\n",
      "dtypes: float64(6), int64(1), object(11)\n",
      "memory usage: 152.0+ MB\n"
     ]
    }
   ],
   "source": [
    "#checking for column types and missing data\n",
    "df.info()"
   ]
  },
  {
   "cell_type": "code",
   "execution_count": 5,
   "metadata": {},
   "outputs": [],
   "source": [
    "#filling in missing data \n",
    "df['OriginName'].ffill(axis=0, inplace=True)\n",
    "df['OriginLat'].ffill(axis=0, inplace=True)\n",
    "df['OriginLong'].ffill(axis=0, inplace=True)\n",
    "df['DestinationLat'].ffill(axis=0, inplace=True)\n",
    "df['DestinationLong'].ffill(axis=0, inplace=True)\n",
    "df['DistanceFromStop'].ffill(axis=0, inplace=True)\n",
    "df['ArrivalProximityText'].ffill(axis=0, inplace=True)\n",
    "df['NextStopPointName'].ffill(axis=0, inplace=True)\n",
    "df['ExpectedArrivalTime'].ffill(axis=0, inplace=True)\n",
    "df['ScheduledArrivalTime'].ffill(axis=0, inplace=True)\n"
   ]
  },
  {
   "cell_type": "code",
   "execution_count": 6,
   "metadata": {},
   "outputs": [
    {
     "name": "stdout",
     "output_type": "stream",
     "text": [
      "          0     1\n",
      "0  6/1/2017  0:03\n",
      "1  6/1/2017  0:03\n",
      "2  6/1/2017  0:03\n",
      "3  6/1/2017  0:04\n",
      "4  6/1/2017  0:03\n"
     ]
    }
   ],
   "source": [
    "#splitting 'ExpectedArrivalTime' column\n",
    "expected_split = df['ExpectedArrivalTime'].str.split(expand=True)\n",
    "print(expected_split.head())"
   ]
  },
  {
   "cell_type": "code",
   "execution_count": 7,
   "metadata": {},
   "outputs": [],
   "source": [
    "#creating new feature; the 'expected_date' column\n",
    "df['expected_date'] = expected_split[0]"
   ]
  },
  {
   "cell_type": "code",
   "execution_count": 8,
   "metadata": {},
   "outputs": [],
   "source": [
    "#formatting the 'ScheduledArrivalTime'\n",
    "df['ScheduledArrivalTime'] = df['ScheduledArrivalTime'].apply(lambda x: x[0:2].replace('24', '00')) + df['ScheduledArrivalTime'].apply(lambda x: x[2:])"
   ]
  },
  {
   "cell_type": "code",
   "execution_count": 9,
   "metadata": {},
   "outputs": [
    {
     "data": {
      "text/plain": [
       "0    00:06:14\n",
       "1    23:58:02\n",
       "2    00:00:53\n",
       "3    00:03:00\n",
       "4    23:59:38\n",
       "Name: ScheduledArrivalTime, dtype: object"
      ]
     },
     "execution_count": 9,
     "metadata": {},
     "output_type": "execute_result"
    }
   ],
   "source": [
    "#examining the 'ScheduledArrivalTime' column\n",
    "df['ScheduledArrivalTime'].head()"
   ]
  },
  {
   "cell_type": "code",
   "execution_count": 10,
   "metadata": {},
   "outputs": [],
   "source": [
    "#creating new feature'Scheduled_datetime' column\n",
    "df['Scheduled_datetime'] = df['expected_date'] + ' ' + df['ScheduledArrivalTime']"
   ]
  },
  {
   "cell_type": "code",
   "execution_count": 11,
   "metadata": {},
   "outputs": [
    {
     "data": {
      "text/plain": [
       "0    6/1/2017 00:06:14\n",
       "1    6/1/2017 23:58:02\n",
       "2    6/1/2017 00:00:53\n",
       "3    6/1/2017 00:03:00\n",
       "4    6/1/2017 23:59:38\n",
       "Name: Scheduled_datetime, dtype: object"
      ]
     },
     "execution_count": 11,
     "metadata": {},
     "output_type": "execute_result"
    }
   ],
   "source": [
    "#examining 'Scheduled_datetime' column\n",
    "df['Scheduled_datetime'].head()"
   ]
  },
  {
   "cell_type": "code",
   "execution_count": 12,
   "metadata": {},
   "outputs": [],
   "source": [
    "#converting 'Scheduled_datetime' to datetime object\n",
    "df['Scheduled_datetime'] = pd.to_datetime(df['Scheduled_datetime'], errors='coerce')"
   ]
  },
  {
   "cell_type": "code",
   "execution_count": 13,
   "metadata": {},
   "outputs": [],
   "source": [
    "#converting 'Expected_arrival' column to datetime object\n",
    "df['Expected_datetime'] = pd.to_datetime(df['ExpectedArrivalTime'], errors='coerce')"
   ]
  },
  {
   "cell_type": "code",
   "execution_count": 14,
   "metadata": {},
   "outputs": [
    {
     "name": "stdout",
     "output_type": "stream",
     "text": [
      "<class 'pandas.core.frame.DataFrame'>\n",
      "Int64Index: 1048575 entries, 0 to 1048574\n",
      "Data columns (total 21 columns):\n",
      "RecordedAtTime               1048575 non-null object\n",
      "DirectionRef                 1048575 non-null int64\n",
      "PublishedLineName            1048575 non-null object\n",
      "OriginName                   1048575 non-null object\n",
      "OriginLat                    1048575 non-null float64\n",
      "OriginLong                   1048575 non-null float64\n",
      "DestinationName              1048575 non-null object\n",
      "DestinationLat               1048575 non-null float64\n",
      "DestinationLong              1048575 non-null float64\n",
      "VehicleRef                   1048575 non-null object\n",
      "VehicleLocation.Latitude     1048575 non-null float64\n",
      "VehicleLocation.Longitude    1048575 non-null float64\n",
      "NextStopPointName            1048575 non-null object\n",
      "ArrivalProximityText         1048575 non-null object\n",
      "DistanceFromStop             1048575 non-null object\n",
      "ExpectedArrivalTime          1048575 non-null object\n",
      "ScheduledArrivalTime         1048575 non-null object\n",
      "Unnamed: 17                  59 non-null object\n",
      "expected_date                1048575 non-null object\n",
      "Scheduled_datetime           1041552 non-null datetime64[ns]\n",
      "Expected_datetime            1048507 non-null datetime64[ns]\n",
      "dtypes: datetime64[ns](2), float64(6), int64(1), object(12)\n",
      "memory usage: 176.0+ MB\n"
     ]
    }
   ],
   "source": [
    "df.info()"
   ]
  },
  {
   "cell_type": "code",
   "execution_count": 15,
   "metadata": {},
   "outputs": [],
   "source": [
    "#filling in missing data\n",
    "df['Scheduled_datetime'].ffill(axis=0, inplace=True)\n",
    "df['Expected_datetime'].ffill(axis=0, inplace=True)\n"
   ]
  },
  {
   "cell_type": "code",
   "execution_count": 16,
   "metadata": {},
   "outputs": [
    {
     "data": {
      "text/plain": [
       "1048516"
      ]
     },
     "execution_count": 16,
     "metadata": {},
     "output_type": "execute_result"
    }
   ],
   "source": [
    "df.isnull().sum().sum()"
   ]
  },
  {
   "cell_type": "markdown",
   "metadata": {},
   "source": [
    "The above null values are in the \"Unnamed\" column, which I will drop later"
   ]
  },
  {
   "cell_type": "code",
   "execution_count": 17,
   "metadata": {},
   "outputs": [],
   "source": [
    "#fixing the date value, by subtracting one day, for those datetime entries where the hour is near midnight.\n",
    "df['Scheduled_datetime'] = df['Scheduled_datetime'].apply(lambda x: x - timedelta(days=1) if str(x)[11:13] == '23' else x)"
   ]
  },
  {
   "cell_type": "code",
   "execution_count": 18,
   "metadata": {},
   "outputs": [],
   "source": [
    "#create new feature to record the difference between each bus's scheduled arrival time and expected arrival time.\n",
    "df['delay'] = df['Expected_datetime'] - df['Scheduled_datetime']"
   ]
  },
  {
   "cell_type": "code",
   "execution_count": 19,
   "metadata": {},
   "outputs": [
    {
     "data": {
      "text/html": [
       "<div>\n",
       "<style scoped>\n",
       "    .dataframe tbody tr th:only-of-type {\n",
       "        vertical-align: middle;\n",
       "    }\n",
       "\n",
       "    .dataframe tbody tr th {\n",
       "        vertical-align: top;\n",
       "    }\n",
       "\n",
       "    .dataframe thead th {\n",
       "        text-align: right;\n",
       "    }\n",
       "</style>\n",
       "<table border=\"1\" class=\"dataframe\">\n",
       "  <thead>\n",
       "    <tr style=\"text-align: right;\">\n",
       "      <th></th>\n",
       "      <th>RecordedAtTime</th>\n",
       "      <th>DirectionRef</th>\n",
       "      <th>PublishedLineName</th>\n",
       "      <th>OriginName</th>\n",
       "      <th>OriginLat</th>\n",
       "      <th>OriginLong</th>\n",
       "      <th>DestinationName</th>\n",
       "      <th>DestinationLat</th>\n",
       "      <th>DestinationLong</th>\n",
       "      <th>VehicleRef</th>\n",
       "      <th>...</th>\n",
       "      <th>NextStopPointName</th>\n",
       "      <th>ArrivalProximityText</th>\n",
       "      <th>DistanceFromStop</th>\n",
       "      <th>ExpectedArrivalTime</th>\n",
       "      <th>ScheduledArrivalTime</th>\n",
       "      <th>Unnamed: 17</th>\n",
       "      <th>expected_date</th>\n",
       "      <th>Scheduled_datetime</th>\n",
       "      <th>Expected_datetime</th>\n",
       "      <th>delay</th>\n",
       "    </tr>\n",
       "  </thead>\n",
       "  <tbody>\n",
       "    <tr>\n",
       "      <th>0</th>\n",
       "      <td>6/1/2017 0:03</td>\n",
       "      <td>0</td>\n",
       "      <td>B8</td>\n",
       "      <td>4 AV/95 ST</td>\n",
       "      <td>40.616104</td>\n",
       "      <td>-74.031143</td>\n",
       "      <td>BROWNSVILLE ROCKAWAY AV</td>\n",
       "      <td>40.656048</td>\n",
       "      <td>-73.907379</td>\n",
       "      <td>NYCT_430</td>\n",
       "      <td>...</td>\n",
       "      <td>FOSTER AV/E 18 ST</td>\n",
       "      <td>approaching</td>\n",
       "      <td>76</td>\n",
       "      <td>6/1/2017 0:03</td>\n",
       "      <td>00:06:14</td>\n",
       "      <td>NaN</td>\n",
       "      <td>6/1/2017</td>\n",
       "      <td>2017-06-01 00:06:14</td>\n",
       "      <td>2017-06-01 00:03:00</td>\n",
       "      <td>-1 days +23:56:46</td>\n",
       "    </tr>\n",
       "    <tr>\n",
       "      <th>1</th>\n",
       "      <td>6/1/2017 0:03</td>\n",
       "      <td>1</td>\n",
       "      <td>S61</td>\n",
       "      <td>ST GEORGE FERRY/S61 &amp; S91</td>\n",
       "      <td>40.643169</td>\n",
       "      <td>-74.073494</td>\n",
       "      <td>S I MALL YUKON AV</td>\n",
       "      <td>40.575935</td>\n",
       "      <td>-74.167686</td>\n",
       "      <td>NYCT_8263</td>\n",
       "      <td>...</td>\n",
       "      <td>MERRYMOUNT ST/TRAVIS AV</td>\n",
       "      <td>approaching</td>\n",
       "      <td>62</td>\n",
       "      <td>6/1/2017 0:03</td>\n",
       "      <td>23:58:02</td>\n",
       "      <td>NaN</td>\n",
       "      <td>6/1/2017</td>\n",
       "      <td>2017-05-31 23:58:02</td>\n",
       "      <td>2017-06-01 00:03:00</td>\n",
       "      <td>00:04:58</td>\n",
       "    </tr>\n",
       "    <tr>\n",
       "      <th>2</th>\n",
       "      <td>6/1/2017 0:03</td>\n",
       "      <td>0</td>\n",
       "      <td>Bx10</td>\n",
       "      <td>E 206 ST/BAINBRIDGE AV</td>\n",
       "      <td>40.875008</td>\n",
       "      <td>-73.880142</td>\n",
       "      <td>RIVERDALE 263 ST</td>\n",
       "      <td>40.912376</td>\n",
       "      <td>-73.902534</td>\n",
       "      <td>NYCT_4223</td>\n",
       "      <td>...</td>\n",
       "      <td>HENRY HUDSON PKY E/W 235 ST</td>\n",
       "      <td>at stop</td>\n",
       "      <td>5</td>\n",
       "      <td>6/1/2017 0:03</td>\n",
       "      <td>00:00:53</td>\n",
       "      <td>NaN</td>\n",
       "      <td>6/1/2017</td>\n",
       "      <td>2017-06-01 00:00:53</td>\n",
       "      <td>2017-06-01 00:03:00</td>\n",
       "      <td>00:02:07</td>\n",
       "    </tr>\n",
       "    <tr>\n",
       "      <th>3</th>\n",
       "      <td>6/1/2017 0:03</td>\n",
       "      <td>0</td>\n",
       "      <td>Q5</td>\n",
       "      <td>TEARDROP/LAYOVER</td>\n",
       "      <td>40.701748</td>\n",
       "      <td>-73.802399</td>\n",
       "      <td>ROSEDALE LIRR STA via MERRICK</td>\n",
       "      <td>40.666012</td>\n",
       "      <td>-73.735939</td>\n",
       "      <td>NYCT_8422</td>\n",
       "      <td>...</td>\n",
       "      <td>HOOK CREEK BL/SUNRISE HY</td>\n",
       "      <td>&lt; 1 stop away</td>\n",
       "      <td>267</td>\n",
       "      <td>6/1/2017 0:04</td>\n",
       "      <td>00:03:00</td>\n",
       "      <td>NaN</td>\n",
       "      <td>6/1/2017</td>\n",
       "      <td>2017-06-01 00:03:00</td>\n",
       "      <td>2017-06-01 00:04:00</td>\n",
       "      <td>00:01:00</td>\n",
       "    </tr>\n",
       "    <tr>\n",
       "      <th>4</th>\n",
       "      <td>6/1/2017 0:03</td>\n",
       "      <td>1</td>\n",
       "      <td>Bx1</td>\n",
       "      <td>RIVERDALE AV/W 231 ST</td>\n",
       "      <td>40.881187</td>\n",
       "      <td>-73.909340</td>\n",
       "      <td>MOTT HAVEN 136 ST via CONCOURSE</td>\n",
       "      <td>40.809654</td>\n",
       "      <td>-73.928360</td>\n",
       "      <td>NYCT_4710</td>\n",
       "      <td>...</td>\n",
       "      <td>GRAND CONCOURSE/E 196 ST</td>\n",
       "      <td>at stop</td>\n",
       "      <td>11</td>\n",
       "      <td>6/1/2017 0:03</td>\n",
       "      <td>23:59:38</td>\n",
       "      <td>NaN</td>\n",
       "      <td>6/1/2017</td>\n",
       "      <td>2017-05-31 23:59:38</td>\n",
       "      <td>2017-06-01 00:03:00</td>\n",
       "      <td>00:03:22</td>\n",
       "    </tr>\n",
       "  </tbody>\n",
       "</table>\n",
       "<p>5 rows × 22 columns</p>\n",
       "</div>"
      ],
      "text/plain": [
       "  RecordedAtTime  DirectionRef PublishedLineName                 OriginName  \\\n",
       "0  6/1/2017 0:03             0                B8                 4 AV/95 ST   \n",
       "1  6/1/2017 0:03             1               S61  ST GEORGE FERRY/S61 & S91   \n",
       "2  6/1/2017 0:03             0              Bx10     E 206 ST/BAINBRIDGE AV   \n",
       "3  6/1/2017 0:03             0                Q5           TEARDROP/LAYOVER   \n",
       "4  6/1/2017 0:03             1               Bx1      RIVERDALE AV/W 231 ST   \n",
       "\n",
       "   OriginLat  OriginLong                  DestinationName  DestinationLat  \\\n",
       "0  40.616104  -74.031143          BROWNSVILLE ROCKAWAY AV       40.656048   \n",
       "1  40.643169  -74.073494                S I MALL YUKON AV       40.575935   \n",
       "2  40.875008  -73.880142                 RIVERDALE 263 ST       40.912376   \n",
       "3  40.701748  -73.802399    ROSEDALE LIRR STA via MERRICK       40.666012   \n",
       "4  40.881187  -73.909340  MOTT HAVEN 136 ST via CONCOURSE       40.809654   \n",
       "\n",
       "   DestinationLong VehicleRef        ...                   NextStopPointName  \\\n",
       "0       -73.907379   NYCT_430        ...                   FOSTER AV/E 18 ST   \n",
       "1       -74.167686  NYCT_8263        ...             MERRYMOUNT ST/TRAVIS AV   \n",
       "2       -73.902534  NYCT_4223        ...         HENRY HUDSON PKY E/W 235 ST   \n",
       "3       -73.735939  NYCT_8422        ...            HOOK CREEK BL/SUNRISE HY   \n",
       "4       -73.928360  NYCT_4710        ...            GRAND CONCOURSE/E 196 ST   \n",
       "\n",
       "   ArrivalProximityText DistanceFromStop ExpectedArrivalTime  \\\n",
       "0           approaching               76       6/1/2017 0:03   \n",
       "1           approaching               62       6/1/2017 0:03   \n",
       "2               at stop                5       6/1/2017 0:03   \n",
       "3         < 1 stop away              267       6/1/2017 0:04   \n",
       "4               at stop               11       6/1/2017 0:03   \n",
       "\n",
       "  ScheduledArrivalTime Unnamed: 17 expected_date  Scheduled_datetime  \\\n",
       "0             00:06:14         NaN      6/1/2017 2017-06-01 00:06:14   \n",
       "1             23:58:02         NaN      6/1/2017 2017-05-31 23:58:02   \n",
       "2             00:00:53         NaN      6/1/2017 2017-06-01 00:00:53   \n",
       "3             00:03:00         NaN      6/1/2017 2017-06-01 00:03:00   \n",
       "4             23:59:38         NaN      6/1/2017 2017-05-31 23:59:38   \n",
       "\n",
       "    Expected_datetime             delay  \n",
       "0 2017-06-01 00:03:00 -1 days +23:56:46  \n",
       "1 2017-06-01 00:03:00          00:04:58  \n",
       "2 2017-06-01 00:03:00          00:02:07  \n",
       "3 2017-06-01 00:04:00          00:01:00  \n",
       "4 2017-06-01 00:03:00          00:03:22  \n",
       "\n",
       "[5 rows x 22 columns]"
      ]
     },
     "execution_count": 19,
     "metadata": {},
     "output_type": "execute_result"
    }
   ],
   "source": [
    "df.head()"
   ]
  },
  {
   "cell_type": "code",
   "execution_count": 20,
   "metadata": {},
   "outputs": [],
   "source": [
    "#creating new feature called 'Scheduled_HourOfDay', to reflect relationship of the time of day and whether or not a bus is on time.\n",
    "#Certain bus routes may be effected by non controllable conditions such as traffic, which is more of a factor during rush hour\n",
    "#and accounting for the hour of day may help the model capture that relationship. \n",
    "df['Scheduled_HourOfDay'] = df['Scheduled_datetime'].dt.hour"
   ]
  },
  {
   "cell_type": "code",
   "execution_count": 21,
   "metadata": {},
   "outputs": [],
   "source": [
    "#creating a new feature \"delay_second\" to equate 'delay' column in seconds\n",
    "df['delay_second'] = df['delay'].dt.seconds"
   ]
  },
  {
   "cell_type": "code",
   "execution_count": 22,
   "metadata": {},
   "outputs": [],
   "source": [
    "#creating new feature 'delay_minute' to convert the delay_second to minutes\n",
    "df['delay_minute'] = df['delay_second'] / 60"
   ]
  },
  {
   "cell_type": "code",
   "execution_count": 23,
   "metadata": {},
   "outputs": [
    {
     "data": {
      "text/plain": [
       "00:01:00             21215\n",
       "00:00:00             20973\n",
       "00:02:00             19748\n",
       "-1 days +23:59:00    18994\n",
       "00:03:00             17457\n",
       "00:04:00             15582\n",
       "-1 days +23:58:00    14392\n",
       "00:05:00             13712\n",
       "00:06:00             12310\n",
       "00:07:00             10952\n",
       "Name: delay, dtype: int64"
      ]
     },
     "execution_count": 23,
     "metadata": {},
     "output_type": "execute_result"
    }
   ],
   "source": [
    "df.delay.value_counts().head(10)"
   ]
  },
  {
   "cell_type": "markdown",
   "metadata": {},
   "source": [
    "The \"delay\" feature in the dataset has some values that are negative in days.  To explore this further, I am going to extract the days from the \"delay\" column to get more insight into the data."
   ]
  },
  {
   "cell_type": "code",
   "execution_count": 24,
   "metadata": {},
   "outputs": [],
   "source": [
    "#creating new feature delay_days by extracting the day value from 'delay' column.  \n",
    "df['delay_days'] = df['delay'].dt.days"
   ]
  },
  {
   "cell_type": "code",
   "execution_count": 25,
   "metadata": {},
   "outputs": [
    {
     "data": {
      "text/html": [
       "<div>\n",
       "<style scoped>\n",
       "    .dataframe tbody tr th:only-of-type {\n",
       "        vertical-align: middle;\n",
       "    }\n",
       "\n",
       "    .dataframe tbody tr th {\n",
       "        vertical-align: top;\n",
       "    }\n",
       "\n",
       "    .dataframe thead th {\n",
       "        text-align: right;\n",
       "    }\n",
       "</style>\n",
       "<table border=\"1\" class=\"dataframe\">\n",
       "  <thead>\n",
       "    <tr style=\"text-align: right;\">\n",
       "      <th></th>\n",
       "      <th>RecordedAtTime</th>\n",
       "      <th>DirectionRef</th>\n",
       "      <th>PublishedLineName</th>\n",
       "      <th>OriginName</th>\n",
       "      <th>OriginLat</th>\n",
       "      <th>OriginLong</th>\n",
       "      <th>DestinationName</th>\n",
       "      <th>DestinationLat</th>\n",
       "      <th>DestinationLong</th>\n",
       "      <th>VehicleRef</th>\n",
       "      <th>...</th>\n",
       "      <th>ScheduledArrivalTime</th>\n",
       "      <th>Unnamed: 17</th>\n",
       "      <th>expected_date</th>\n",
       "      <th>Scheduled_datetime</th>\n",
       "      <th>Expected_datetime</th>\n",
       "      <th>delay</th>\n",
       "      <th>Scheduled_HourOfDay</th>\n",
       "      <th>delay_second</th>\n",
       "      <th>delay_minute</th>\n",
       "      <th>delay_days</th>\n",
       "    </tr>\n",
       "  </thead>\n",
       "  <tbody>\n",
       "    <tr>\n",
       "      <th>0</th>\n",
       "      <td>6/1/2017 0:03</td>\n",
       "      <td>0</td>\n",
       "      <td>B8</td>\n",
       "      <td>4 AV/95 ST</td>\n",
       "      <td>40.616104</td>\n",
       "      <td>-74.031143</td>\n",
       "      <td>BROWNSVILLE ROCKAWAY AV</td>\n",
       "      <td>40.656048</td>\n",
       "      <td>-73.907379</td>\n",
       "      <td>NYCT_430</td>\n",
       "      <td>...</td>\n",
       "      <td>00:06:14</td>\n",
       "      <td>NaN</td>\n",
       "      <td>6/1/2017</td>\n",
       "      <td>2017-06-01 00:06:14</td>\n",
       "      <td>2017-06-01 00:03:00</td>\n",
       "      <td>-1 days +23:56:46</td>\n",
       "      <td>0</td>\n",
       "      <td>86206</td>\n",
       "      <td>1436.766667</td>\n",
       "      <td>-1</td>\n",
       "    </tr>\n",
       "    <tr>\n",
       "      <th>1</th>\n",
       "      <td>6/1/2017 0:03</td>\n",
       "      <td>1</td>\n",
       "      <td>S61</td>\n",
       "      <td>ST GEORGE FERRY/S61 &amp; S91</td>\n",
       "      <td>40.643169</td>\n",
       "      <td>-74.073494</td>\n",
       "      <td>S I MALL YUKON AV</td>\n",
       "      <td>40.575935</td>\n",
       "      <td>-74.167686</td>\n",
       "      <td>NYCT_8263</td>\n",
       "      <td>...</td>\n",
       "      <td>23:58:02</td>\n",
       "      <td>NaN</td>\n",
       "      <td>6/1/2017</td>\n",
       "      <td>2017-05-31 23:58:02</td>\n",
       "      <td>2017-06-01 00:03:00</td>\n",
       "      <td>00:04:58</td>\n",
       "      <td>23</td>\n",
       "      <td>298</td>\n",
       "      <td>4.966667</td>\n",
       "      <td>0</td>\n",
       "    </tr>\n",
       "    <tr>\n",
       "      <th>2</th>\n",
       "      <td>6/1/2017 0:03</td>\n",
       "      <td>0</td>\n",
       "      <td>Bx10</td>\n",
       "      <td>E 206 ST/BAINBRIDGE AV</td>\n",
       "      <td>40.875008</td>\n",
       "      <td>-73.880142</td>\n",
       "      <td>RIVERDALE 263 ST</td>\n",
       "      <td>40.912376</td>\n",
       "      <td>-73.902534</td>\n",
       "      <td>NYCT_4223</td>\n",
       "      <td>...</td>\n",
       "      <td>00:00:53</td>\n",
       "      <td>NaN</td>\n",
       "      <td>6/1/2017</td>\n",
       "      <td>2017-06-01 00:00:53</td>\n",
       "      <td>2017-06-01 00:03:00</td>\n",
       "      <td>00:02:07</td>\n",
       "      <td>0</td>\n",
       "      <td>127</td>\n",
       "      <td>2.116667</td>\n",
       "      <td>0</td>\n",
       "    </tr>\n",
       "    <tr>\n",
       "      <th>3</th>\n",
       "      <td>6/1/2017 0:03</td>\n",
       "      <td>0</td>\n",
       "      <td>Q5</td>\n",
       "      <td>TEARDROP/LAYOVER</td>\n",
       "      <td>40.701748</td>\n",
       "      <td>-73.802399</td>\n",
       "      <td>ROSEDALE LIRR STA via MERRICK</td>\n",
       "      <td>40.666012</td>\n",
       "      <td>-73.735939</td>\n",
       "      <td>NYCT_8422</td>\n",
       "      <td>...</td>\n",
       "      <td>00:03:00</td>\n",
       "      <td>NaN</td>\n",
       "      <td>6/1/2017</td>\n",
       "      <td>2017-06-01 00:03:00</td>\n",
       "      <td>2017-06-01 00:04:00</td>\n",
       "      <td>00:01:00</td>\n",
       "      <td>0</td>\n",
       "      <td>60</td>\n",
       "      <td>1.000000</td>\n",
       "      <td>0</td>\n",
       "    </tr>\n",
       "    <tr>\n",
       "      <th>4</th>\n",
       "      <td>6/1/2017 0:03</td>\n",
       "      <td>1</td>\n",
       "      <td>Bx1</td>\n",
       "      <td>RIVERDALE AV/W 231 ST</td>\n",
       "      <td>40.881187</td>\n",
       "      <td>-73.909340</td>\n",
       "      <td>MOTT HAVEN 136 ST via CONCOURSE</td>\n",
       "      <td>40.809654</td>\n",
       "      <td>-73.928360</td>\n",
       "      <td>NYCT_4710</td>\n",
       "      <td>...</td>\n",
       "      <td>23:59:38</td>\n",
       "      <td>NaN</td>\n",
       "      <td>6/1/2017</td>\n",
       "      <td>2017-05-31 23:59:38</td>\n",
       "      <td>2017-06-01 00:03:00</td>\n",
       "      <td>00:03:22</td>\n",
       "      <td>23</td>\n",
       "      <td>202</td>\n",
       "      <td>3.366667</td>\n",
       "      <td>0</td>\n",
       "    </tr>\n",
       "  </tbody>\n",
       "</table>\n",
       "<p>5 rows × 26 columns</p>\n",
       "</div>"
      ],
      "text/plain": [
       "  RecordedAtTime  DirectionRef PublishedLineName                 OriginName  \\\n",
       "0  6/1/2017 0:03             0                B8                 4 AV/95 ST   \n",
       "1  6/1/2017 0:03             1               S61  ST GEORGE FERRY/S61 & S91   \n",
       "2  6/1/2017 0:03             0              Bx10     E 206 ST/BAINBRIDGE AV   \n",
       "3  6/1/2017 0:03             0                Q5           TEARDROP/LAYOVER   \n",
       "4  6/1/2017 0:03             1               Bx1      RIVERDALE AV/W 231 ST   \n",
       "\n",
       "   OriginLat  OriginLong                  DestinationName  DestinationLat  \\\n",
       "0  40.616104  -74.031143          BROWNSVILLE ROCKAWAY AV       40.656048   \n",
       "1  40.643169  -74.073494                S I MALL YUKON AV       40.575935   \n",
       "2  40.875008  -73.880142                 RIVERDALE 263 ST       40.912376   \n",
       "3  40.701748  -73.802399    ROSEDALE LIRR STA via MERRICK       40.666012   \n",
       "4  40.881187  -73.909340  MOTT HAVEN 136 ST via CONCOURSE       40.809654   \n",
       "\n",
       "   DestinationLong VehicleRef    ...      ScheduledArrivalTime  Unnamed: 17  \\\n",
       "0       -73.907379   NYCT_430    ...                  00:06:14          NaN   \n",
       "1       -74.167686  NYCT_8263    ...                  23:58:02          NaN   \n",
       "2       -73.902534  NYCT_4223    ...                  00:00:53          NaN   \n",
       "3       -73.735939  NYCT_8422    ...                  00:03:00          NaN   \n",
       "4       -73.928360  NYCT_4710    ...                  23:59:38          NaN   \n",
       "\n",
       "  expected_date  Scheduled_datetime   Expected_datetime             delay  \\\n",
       "0      6/1/2017 2017-06-01 00:06:14 2017-06-01 00:03:00 -1 days +23:56:46   \n",
       "1      6/1/2017 2017-05-31 23:58:02 2017-06-01 00:03:00          00:04:58   \n",
       "2      6/1/2017 2017-06-01 00:00:53 2017-06-01 00:03:00          00:02:07   \n",
       "3      6/1/2017 2017-06-01 00:03:00 2017-06-01 00:04:00          00:01:00   \n",
       "4      6/1/2017 2017-05-31 23:59:38 2017-06-01 00:03:00          00:03:22   \n",
       "\n",
       "  Scheduled_HourOfDay delay_second delay_minute delay_days  \n",
       "0                   0        86206  1436.766667         -1  \n",
       "1                  23          298     4.966667          0  \n",
       "2                   0          127     2.116667          0  \n",
       "3                   0           60     1.000000          0  \n",
       "4                  23          202     3.366667          0  \n",
       "\n",
       "[5 rows x 26 columns]"
      ]
     },
     "execution_count": 25,
     "metadata": {},
     "output_type": "execute_result"
    }
   ],
   "source": [
    "df.head()"
   ]
  },
  {
   "cell_type": "markdown",
   "metadata": {},
   "source": [
    "# Data Exploration:"
   ]
  },
  {
   "cell_type": "markdown",
   "metadata": {},
   "source": [
    "Next I'm going to explore the data by subsetting the data by the values of the \"delay_days\" column.  "
   ]
  },
  {
   "cell_type": "code",
   "execution_count": 26,
   "metadata": {},
   "outputs": [
    {
     "data": {
      "text/plain": [
       " 0        764562\n",
       "-1        271111\n",
       " 1         12899\n",
       "-10075         2\n",
       "-17377         1\n",
       "Name: delay_days, dtype: int64"
      ]
     },
     "execution_count": 26,
     "metadata": {},
     "output_type": "execute_result"
    }
   ],
   "source": [
    "#getting value_counts for all values for the delay_days column.\n",
    "df.delay_days.value_counts()"
   ]
  },
  {
   "cell_type": "code",
   "execution_count": 27,
   "metadata": {},
   "outputs": [],
   "source": [
    "#subsetting the data for those observations where delay_days equals 1\n",
    "df_DelayDayOne = df[df['delay_days'] == 1]"
   ]
  },
  {
   "cell_type": "code",
   "execution_count": 28,
   "metadata": {},
   "outputs": [
    {
     "data": {
      "text/html": [
       "<div>\n",
       "<style scoped>\n",
       "    .dataframe tbody tr th:only-of-type {\n",
       "        vertical-align: middle;\n",
       "    }\n",
       "\n",
       "    .dataframe tbody tr th {\n",
       "        vertical-align: top;\n",
       "    }\n",
       "\n",
       "    .dataframe thead th {\n",
       "        text-align: right;\n",
       "    }\n",
       "</style>\n",
       "<table border=\"1\" class=\"dataframe\">\n",
       "  <thead>\n",
       "    <tr style=\"text-align: right;\">\n",
       "      <th></th>\n",
       "      <th>RecordedAtTime</th>\n",
       "      <th>DirectionRef</th>\n",
       "      <th>PublishedLineName</th>\n",
       "      <th>OriginName</th>\n",
       "      <th>OriginLat</th>\n",
       "      <th>OriginLong</th>\n",
       "      <th>DestinationName</th>\n",
       "      <th>DestinationLat</th>\n",
       "      <th>DestinationLong</th>\n",
       "      <th>VehicleRef</th>\n",
       "      <th>...</th>\n",
       "      <th>ScheduledArrivalTime</th>\n",
       "      <th>Unnamed: 17</th>\n",
       "      <th>expected_date</th>\n",
       "      <th>Scheduled_datetime</th>\n",
       "      <th>Expected_datetime</th>\n",
       "      <th>delay</th>\n",
       "      <th>Scheduled_HourOfDay</th>\n",
       "      <th>delay_second</th>\n",
       "      <th>delay_minute</th>\n",
       "      <th>delay_days</th>\n",
       "    </tr>\n",
       "  </thead>\n",
       "  <tbody>\n",
       "    <tr>\n",
       "      <th>243349</th>\n",
       "      <td>6/1/2017 22:54</td>\n",
       "      <td>1</td>\n",
       "      <td>X10</td>\n",
       "      <td>E 57 ST/3 AV</td>\n",
       "      <td>40.760429</td>\n",
       "      <td>-73.967674</td>\n",
       "      <td>PT RICHMOND via NARROWS RD via GANNON AV</td>\n",
       "      <td>40.633698</td>\n",
       "      <td>-74.129776</td>\n",
       "      <td>NYCT_2664</td>\n",
       "      <td>...</td>\n",
       "      <td>23:02:56</td>\n",
       "      <td>NaN</td>\n",
       "      <td>6/1/2017</td>\n",
       "      <td>2017-05-31 23:02:56</td>\n",
       "      <td>2017-06-01 23:08:00</td>\n",
       "      <td>1 days 00:05:04</td>\n",
       "      <td>23</td>\n",
       "      <td>304</td>\n",
       "      <td>5.066667</td>\n",
       "      <td>1</td>\n",
       "    </tr>\n",
       "    <tr>\n",
       "      <th>243883</th>\n",
       "      <td>6/1/2017 23:04</td>\n",
       "      <td>0</td>\n",
       "      <td>B61</td>\n",
       "      <td>PROSPECT PK W/18 ST</td>\n",
       "      <td>40.657639</td>\n",
       "      <td>-73.982887</td>\n",
       "      <td>DOWNTOWN BKLYN FULTON MALL via RED HOOK</td>\n",
       "      <td>40.690514</td>\n",
       "      <td>-73.987724</td>\n",
       "      <td>NYCT_774</td>\n",
       "      <td>...</td>\n",
       "      <td>23:00:35</td>\n",
       "      <td>NaN</td>\n",
       "      <td>6/1/2017</td>\n",
       "      <td>2017-05-31 23:00:35</td>\n",
       "      <td>2017-06-01 23:05:00</td>\n",
       "      <td>1 days 00:04:25</td>\n",
       "      <td>23</td>\n",
       "      <td>265</td>\n",
       "      <td>4.416667</td>\n",
       "      <td>1</td>\n",
       "    </tr>\n",
       "    <tr>\n",
       "      <th>243885</th>\n",
       "      <td>6/1/2017 23:04</td>\n",
       "      <td>0</td>\n",
       "      <td>M57</td>\n",
       "      <td>W 72 ST/BROADWAY</td>\n",
       "      <td>40.779034</td>\n",
       "      <td>-73.982414</td>\n",
       "      <td>EAST SIDE YORK - 60 ST XTOWN</td>\n",
       "      <td>40.759518</td>\n",
       "      <td>-73.959892</td>\n",
       "      <td>NYCT_3820</td>\n",
       "      <td>...</td>\n",
       "      <td>23:02:22</td>\n",
       "      <td>NaN</td>\n",
       "      <td>6/1/2017</td>\n",
       "      <td>2017-05-31 23:02:22</td>\n",
       "      <td>2017-06-01 23:04:00</td>\n",
       "      <td>1 days 00:01:38</td>\n",
       "      <td>23</td>\n",
       "      <td>98</td>\n",
       "      <td>1.633333</td>\n",
       "      <td>1</td>\n",
       "    </tr>\n",
       "    <tr>\n",
       "      <th>243888</th>\n",
       "      <td>6/1/2017 23:04</td>\n",
       "      <td>0</td>\n",
       "      <td>Q44-SBS</td>\n",
       "      <td>MERRICK BL/ARCHER AV</td>\n",
       "      <td>40.704906</td>\n",
       "      <td>-73.793304</td>\n",
       "      <td>SELECT BUS BRONX ZOO via MAIN ST</td>\n",
       "      <td>40.842457</td>\n",
       "      <td>-73.877121</td>\n",
       "      <td>NYCT_5912</td>\n",
       "      <td>...</td>\n",
       "      <td>23:03:47</td>\n",
       "      <td>NaN</td>\n",
       "      <td>6/1/2017</td>\n",
       "      <td>2017-05-31 23:03:47</td>\n",
       "      <td>2017-06-01 23:06:00</td>\n",
       "      <td>1 days 00:02:13</td>\n",
       "      <td>23</td>\n",
       "      <td>133</td>\n",
       "      <td>2.216667</td>\n",
       "      <td>1</td>\n",
       "    </tr>\n",
       "    <tr>\n",
       "      <th>243890</th>\n",
       "      <td>6/1/2017 23:04</td>\n",
       "      <td>0</td>\n",
       "      <td>B44</td>\n",
       "      <td>KNAPP ST/SHORE PKY</td>\n",
       "      <td>40.585033</td>\n",
       "      <td>-73.931328</td>\n",
       "      <td>WILLAMSBURG BRIDGE PLZ via NOSTRAND</td>\n",
       "      <td>40.709316</td>\n",
       "      <td>-73.959587</td>\n",
       "      <td>NYCT_5045</td>\n",
       "      <td>...</td>\n",
       "      <td>23:01:44</td>\n",
       "      <td>NaN</td>\n",
       "      <td>6/1/2017</td>\n",
       "      <td>2017-05-31 23:01:44</td>\n",
       "      <td>2017-06-01 23:04:00</td>\n",
       "      <td>1 days 00:02:16</td>\n",
       "      <td>23</td>\n",
       "      <td>136</td>\n",
       "      <td>2.266667</td>\n",
       "      <td>1</td>\n",
       "    </tr>\n",
       "  </tbody>\n",
       "</table>\n",
       "<p>5 rows × 26 columns</p>\n",
       "</div>"
      ],
      "text/plain": [
       "        RecordedAtTime  DirectionRef PublishedLineName            OriginName  \\\n",
       "243349  6/1/2017 22:54             1               X10          E 57 ST/3 AV   \n",
       "243883  6/1/2017 23:04             0               B61   PROSPECT PK W/18 ST   \n",
       "243885  6/1/2017 23:04             0               M57      W 72 ST/BROADWAY   \n",
       "243888  6/1/2017 23:04             0           Q44-SBS  MERRICK BL/ARCHER AV   \n",
       "243890  6/1/2017 23:04             0               B44    KNAPP ST/SHORE PKY   \n",
       "\n",
       "        OriginLat  OriginLong                           DestinationName  \\\n",
       "243349  40.760429  -73.967674  PT RICHMOND via NARROWS RD via GANNON AV   \n",
       "243883  40.657639  -73.982887   DOWNTOWN BKLYN FULTON MALL via RED HOOK   \n",
       "243885  40.779034  -73.982414              EAST SIDE YORK - 60 ST XTOWN   \n",
       "243888  40.704906  -73.793304          SELECT BUS BRONX ZOO via MAIN ST   \n",
       "243890  40.585033  -73.931328       WILLAMSBURG BRIDGE PLZ via NOSTRAND   \n",
       "\n",
       "        DestinationLat  DestinationLong VehicleRef    ...      \\\n",
       "243349       40.633698       -74.129776  NYCT_2664    ...       \n",
       "243883       40.690514       -73.987724   NYCT_774    ...       \n",
       "243885       40.759518       -73.959892  NYCT_3820    ...       \n",
       "243888       40.842457       -73.877121  NYCT_5912    ...       \n",
       "243890       40.709316       -73.959587  NYCT_5045    ...       \n",
       "\n",
       "        ScheduledArrivalTime  Unnamed: 17 expected_date  Scheduled_datetime  \\\n",
       "243349              23:02:56          NaN      6/1/2017 2017-05-31 23:02:56   \n",
       "243883              23:00:35          NaN      6/1/2017 2017-05-31 23:00:35   \n",
       "243885              23:02:22          NaN      6/1/2017 2017-05-31 23:02:22   \n",
       "243888              23:03:47          NaN      6/1/2017 2017-05-31 23:03:47   \n",
       "243890              23:01:44          NaN      6/1/2017 2017-05-31 23:01:44   \n",
       "\n",
       "         Expected_datetime           delay Scheduled_HourOfDay delay_second  \\\n",
       "243349 2017-06-01 23:08:00 1 days 00:05:04                  23          304   \n",
       "243883 2017-06-01 23:05:00 1 days 00:04:25                  23          265   \n",
       "243885 2017-06-01 23:04:00 1 days 00:01:38                  23           98   \n",
       "243888 2017-06-01 23:06:00 1 days 00:02:13                  23          133   \n",
       "243890 2017-06-01 23:04:00 1 days 00:02:16                  23          136   \n",
       "\n",
       "       delay_minute delay_days  \n",
       "243349     5.066667          1  \n",
       "243883     4.416667          1  \n",
       "243885     1.633333          1  \n",
       "243888     2.216667          1  \n",
       "243890     2.266667          1  \n",
       "\n",
       "[5 rows x 26 columns]"
      ]
     },
     "execution_count": 28,
     "metadata": {},
     "output_type": "execute_result"
    }
   ],
   "source": [
    "df_DelayDayOne.head()"
   ]
  },
  {
   "cell_type": "markdown",
   "metadata": {},
   "source": [
    "#### Exploring dataframe where \"delay_days\" equals zero."
   ]
  },
  {
   "cell_type": "code",
   "execution_count": 29,
   "metadata": {},
   "outputs": [],
   "source": [
    "#filtering the original dataset\n",
    "df_DelayDayZero = df[df['delay_days'] == 0]"
   ]
  },
  {
   "cell_type": "code",
   "execution_count": 30,
   "metadata": {},
   "outputs": [
    {
     "data": {
      "text/html": [
       "<div>\n",
       "<style scoped>\n",
       "    .dataframe tbody tr th:only-of-type {\n",
       "        vertical-align: middle;\n",
       "    }\n",
       "\n",
       "    .dataframe tbody tr th {\n",
       "        vertical-align: top;\n",
       "    }\n",
       "\n",
       "    .dataframe thead th {\n",
       "        text-align: right;\n",
       "    }\n",
       "</style>\n",
       "<table border=\"1\" class=\"dataframe\">\n",
       "  <thead>\n",
       "    <tr style=\"text-align: right;\">\n",
       "      <th></th>\n",
       "      <th>RecordedAtTime</th>\n",
       "      <th>DirectionRef</th>\n",
       "      <th>PublishedLineName</th>\n",
       "      <th>OriginName</th>\n",
       "      <th>OriginLat</th>\n",
       "      <th>OriginLong</th>\n",
       "      <th>DestinationName</th>\n",
       "      <th>DestinationLat</th>\n",
       "      <th>DestinationLong</th>\n",
       "      <th>VehicleRef</th>\n",
       "      <th>...</th>\n",
       "      <th>ScheduledArrivalTime</th>\n",
       "      <th>Unnamed: 17</th>\n",
       "      <th>expected_date</th>\n",
       "      <th>Scheduled_datetime</th>\n",
       "      <th>Expected_datetime</th>\n",
       "      <th>delay</th>\n",
       "      <th>Scheduled_HourOfDay</th>\n",
       "      <th>delay_second</th>\n",
       "      <th>delay_minute</th>\n",
       "      <th>delay_days</th>\n",
       "    </tr>\n",
       "  </thead>\n",
       "  <tbody>\n",
       "    <tr>\n",
       "      <th>1</th>\n",
       "      <td>6/1/2017 0:03</td>\n",
       "      <td>1</td>\n",
       "      <td>S61</td>\n",
       "      <td>ST GEORGE FERRY/S61 &amp; S91</td>\n",
       "      <td>40.643169</td>\n",
       "      <td>-74.073494</td>\n",
       "      <td>S I MALL YUKON AV</td>\n",
       "      <td>40.575935</td>\n",
       "      <td>-74.167686</td>\n",
       "      <td>NYCT_8263</td>\n",
       "      <td>...</td>\n",
       "      <td>23:58:02</td>\n",
       "      <td>NaN</td>\n",
       "      <td>6/1/2017</td>\n",
       "      <td>2017-05-31 23:58:02</td>\n",
       "      <td>2017-06-01 00:03:00</td>\n",
       "      <td>00:04:58</td>\n",
       "      <td>23</td>\n",
       "      <td>298</td>\n",
       "      <td>4.966667</td>\n",
       "      <td>0</td>\n",
       "    </tr>\n",
       "    <tr>\n",
       "      <th>2</th>\n",
       "      <td>6/1/2017 0:03</td>\n",
       "      <td>0</td>\n",
       "      <td>Bx10</td>\n",
       "      <td>E 206 ST/BAINBRIDGE AV</td>\n",
       "      <td>40.875008</td>\n",
       "      <td>-73.880142</td>\n",
       "      <td>RIVERDALE 263 ST</td>\n",
       "      <td>40.912376</td>\n",
       "      <td>-73.902534</td>\n",
       "      <td>NYCT_4223</td>\n",
       "      <td>...</td>\n",
       "      <td>00:00:53</td>\n",
       "      <td>NaN</td>\n",
       "      <td>6/1/2017</td>\n",
       "      <td>2017-06-01 00:00:53</td>\n",
       "      <td>2017-06-01 00:03:00</td>\n",
       "      <td>00:02:07</td>\n",
       "      <td>0</td>\n",
       "      <td>127</td>\n",
       "      <td>2.116667</td>\n",
       "      <td>0</td>\n",
       "    </tr>\n",
       "    <tr>\n",
       "      <th>3</th>\n",
       "      <td>6/1/2017 0:03</td>\n",
       "      <td>0</td>\n",
       "      <td>Q5</td>\n",
       "      <td>TEARDROP/LAYOVER</td>\n",
       "      <td>40.701748</td>\n",
       "      <td>-73.802399</td>\n",
       "      <td>ROSEDALE LIRR STA via MERRICK</td>\n",
       "      <td>40.666012</td>\n",
       "      <td>-73.735939</td>\n",
       "      <td>NYCT_8422</td>\n",
       "      <td>...</td>\n",
       "      <td>00:03:00</td>\n",
       "      <td>NaN</td>\n",
       "      <td>6/1/2017</td>\n",
       "      <td>2017-06-01 00:03:00</td>\n",
       "      <td>2017-06-01 00:04:00</td>\n",
       "      <td>00:01:00</td>\n",
       "      <td>0</td>\n",
       "      <td>60</td>\n",
       "      <td>1.000000</td>\n",
       "      <td>0</td>\n",
       "    </tr>\n",
       "    <tr>\n",
       "      <th>4</th>\n",
       "      <td>6/1/2017 0:03</td>\n",
       "      <td>1</td>\n",
       "      <td>Bx1</td>\n",
       "      <td>RIVERDALE AV/W 231 ST</td>\n",
       "      <td>40.881187</td>\n",
       "      <td>-73.909340</td>\n",
       "      <td>MOTT HAVEN 136 ST via CONCOURSE</td>\n",
       "      <td>40.809654</td>\n",
       "      <td>-73.928360</td>\n",
       "      <td>NYCT_4710</td>\n",
       "      <td>...</td>\n",
       "      <td>23:59:38</td>\n",
       "      <td>NaN</td>\n",
       "      <td>6/1/2017</td>\n",
       "      <td>2017-05-31 23:59:38</td>\n",
       "      <td>2017-06-01 00:03:00</td>\n",
       "      <td>00:03:22</td>\n",
       "      <td>23</td>\n",
       "      <td>202</td>\n",
       "      <td>3.366667</td>\n",
       "      <td>0</td>\n",
       "    </tr>\n",
       "    <tr>\n",
       "      <th>5</th>\n",
       "      <td>6/1/2017 0:03</td>\n",
       "      <td>0</td>\n",
       "      <td>M1</td>\n",
       "      <td>4 AV/E 10 ST</td>\n",
       "      <td>40.731342</td>\n",
       "      <td>-73.990288</td>\n",
       "      <td>HARLEM 147 ST via MADISON</td>\n",
       "      <td>40.821110</td>\n",
       "      <td>-73.935898</td>\n",
       "      <td>NYCT_3831</td>\n",
       "      <td>...</td>\n",
       "      <td>00:02:35</td>\n",
       "      <td>NaN</td>\n",
       "      <td>6/1/2017</td>\n",
       "      <td>2017-06-01 00:02:35</td>\n",
       "      <td>2017-06-01 00:03:00</td>\n",
       "      <td>00:00:25</td>\n",
       "      <td>0</td>\n",
       "      <td>25</td>\n",
       "      <td>0.416667</td>\n",
       "      <td>0</td>\n",
       "    </tr>\n",
       "  </tbody>\n",
       "</table>\n",
       "<p>5 rows × 26 columns</p>\n",
       "</div>"
      ],
      "text/plain": [
       "  RecordedAtTime  DirectionRef PublishedLineName                 OriginName  \\\n",
       "1  6/1/2017 0:03             1               S61  ST GEORGE FERRY/S61 & S91   \n",
       "2  6/1/2017 0:03             0              Bx10     E 206 ST/BAINBRIDGE AV   \n",
       "3  6/1/2017 0:03             0                Q5           TEARDROP/LAYOVER   \n",
       "4  6/1/2017 0:03             1               Bx1      RIVERDALE AV/W 231 ST   \n",
       "5  6/1/2017 0:03             0                M1               4 AV/E 10 ST   \n",
       "\n",
       "   OriginLat  OriginLong                  DestinationName  DestinationLat  \\\n",
       "1  40.643169  -74.073494                S I MALL YUKON AV       40.575935   \n",
       "2  40.875008  -73.880142                 RIVERDALE 263 ST       40.912376   \n",
       "3  40.701748  -73.802399    ROSEDALE LIRR STA via MERRICK       40.666012   \n",
       "4  40.881187  -73.909340  MOTT HAVEN 136 ST via CONCOURSE       40.809654   \n",
       "5  40.731342  -73.990288        HARLEM 147 ST via MADISON       40.821110   \n",
       "\n",
       "   DestinationLong VehicleRef    ...      ScheduledArrivalTime  Unnamed: 17  \\\n",
       "1       -74.167686  NYCT_8263    ...                  23:58:02          NaN   \n",
       "2       -73.902534  NYCT_4223    ...                  00:00:53          NaN   \n",
       "3       -73.735939  NYCT_8422    ...                  00:03:00          NaN   \n",
       "4       -73.928360  NYCT_4710    ...                  23:59:38          NaN   \n",
       "5       -73.935898  NYCT_3831    ...                  00:02:35          NaN   \n",
       "\n",
       "  expected_date  Scheduled_datetime   Expected_datetime    delay  \\\n",
       "1      6/1/2017 2017-05-31 23:58:02 2017-06-01 00:03:00 00:04:58   \n",
       "2      6/1/2017 2017-06-01 00:00:53 2017-06-01 00:03:00 00:02:07   \n",
       "3      6/1/2017 2017-06-01 00:03:00 2017-06-01 00:04:00 00:01:00   \n",
       "4      6/1/2017 2017-05-31 23:59:38 2017-06-01 00:03:00 00:03:22   \n",
       "5      6/1/2017 2017-06-01 00:02:35 2017-06-01 00:03:00 00:00:25   \n",
       "\n",
       "  Scheduled_HourOfDay delay_second delay_minute delay_days  \n",
       "1                  23          298     4.966667          0  \n",
       "2                   0          127     2.116667          0  \n",
       "3                   0           60     1.000000          0  \n",
       "4                  23          202     3.366667          0  \n",
       "5                   0           25     0.416667          0  \n",
       "\n",
       "[5 rows x 26 columns]"
      ]
     },
     "execution_count": 30,
     "metadata": {},
     "output_type": "execute_result"
    }
   ],
   "source": [
    "df_DelayDayZero.head()"
   ]
  },
  {
   "cell_type": "code",
   "execution_count": 31,
   "metadata": {},
   "outputs": [
    {
     "data": {
      "text/plain": [
       "2017-06-02    187562\n",
       "2017-06-01    176890\n",
       "2017-06-05    161573\n",
       "2017-06-03    132538\n",
       "2017-06-04    104490\n",
       "2017-05-31      1509\n",
       "Name: Scheduled_datetime, dtype: int64"
      ]
     },
     "execution_count": 31,
     "metadata": {},
     "output_type": "execute_result"
    }
   ],
   "source": [
    "#value counts of the dates in scheduled datetime\n",
    "df_DelayDayZero.Scheduled_datetime.dt.date.value_counts()"
   ]
  },
  {
   "cell_type": "code",
   "execution_count": 32,
   "metadata": {},
   "outputs": [
    {
     "data": {
      "text/plain": [
       "2017-06-02    187434\n",
       "2017-06-01    177178\n",
       "2017-06-05    162137\n",
       "2017-06-03    132419\n",
       "2017-06-04    105394\n",
       "Name: Expected_datetime, dtype: int64"
      ]
     },
     "execution_count": 32,
     "metadata": {},
     "output_type": "execute_result"
    }
   ],
   "source": [
    "#value_counts of the dates in Expected datetime\n",
    "df_DelayDayZero.Expected_datetime.dt.date.value_counts()"
   ]
  },
  {
   "cell_type": "code",
   "execution_count": 33,
   "metadata": {},
   "outputs": [
    {
     "data": {
      "text/plain": [
       "00:01:00    21215\n",
       "00:00:00    20973\n",
       "00:02:00    19748\n",
       "00:03:00    17457\n",
       "00:04:00    15582\n",
       "00:05:00    13712\n",
       "00:06:00    12310\n",
       "00:07:00    10952\n",
       "00:08:00     9878\n",
       "00:09:00     8917\n",
       "00:10:00     7993\n",
       "00:11:00     7055\n",
       "00:12:00     6291\n",
       "00:13:00     5477\n",
       "00:14:00     4953\n",
       "00:15:00     4187\n",
       "00:16:00     3671\n",
       "00:17:00     3111\n",
       "00:18:00     2872\n",
       "00:19:00     2403\n",
       "00:12:02     2121\n",
       "00:20:00     2113\n",
       "00:21:00     1884\n",
       "00:06:40     1718\n",
       "00:22:00     1661\n",
       "00:22:12     1582\n",
       "00:36:00     1567\n",
       "00:23:00     1519\n",
       "00:24:00     1402\n",
       "00:00:52     1230\n",
       "            ...  \n",
       "01:04:49        1\n",
       "23:55:07        1\n",
       "01:03:37        1\n",
       "03:13:00        1\n",
       "00:55:18        1\n",
       "23:25:00        1\n",
       "23:55:37        1\n",
       "23:30:47        1\n",
       "01:09:54        1\n",
       "01:14:38        1\n",
       "01:21:54        1\n",
       "00:54:09        1\n",
       "00:57:12        1\n",
       "23:52:43        1\n",
       "01:34:00        1\n",
       "00:47:03        1\n",
       "01:45:00        1\n",
       "00:53:34        1\n",
       "23:55:14        1\n",
       "01:11:58        1\n",
       "01:20:05        1\n",
       "23:32:43        1\n",
       "23:54:23        1\n",
       "01:10:36        1\n",
       "23:45:26        1\n",
       "01:49:10        1\n",
       "01:12:19        1\n",
       "01:15:57        1\n",
       "00:53:56        1\n",
       "01:02:36        1\n",
       "Name: delay, Length: 5025, dtype: int64"
      ]
     },
     "execution_count": 33,
     "metadata": {},
     "output_type": "execute_result"
    }
   ],
   "source": [
    "df_DelayDayZero.delay.value_counts()"
   ]
  },
  {
   "cell_type": "code",
   "execution_count": 34,
   "metadata": {},
   "outputs": [
    {
     "data": {
      "text/plain": [
       "1.000000       21215\n",
       "0.000000       20973\n",
       "2.000000       19748\n",
       "3.000000       17457\n",
       "4.000000       15582\n",
       "5.000000       13712\n",
       "6.000000       12310\n",
       "7.000000       10952\n",
       "8.000000        9878\n",
       "9.000000        8917\n",
       "10.000000       7993\n",
       "11.000000       7055\n",
       "12.000000       6291\n",
       "13.000000       5477\n",
       "14.000000       4953\n",
       "15.000000       4187\n",
       "16.000000       3671\n",
       "17.000000       3111\n",
       "18.000000       2872\n",
       "19.000000       2403\n",
       "12.033333       2121\n",
       "20.000000       2113\n",
       "21.000000       1884\n",
       "6.666667        1718\n",
       "22.000000       1661\n",
       "22.200000       1582\n",
       "36.000000       1567\n",
       "23.000000       1519\n",
       "24.000000       1402\n",
       "0.533333        1230\n",
       "               ...  \n",
       "1432.166667        1\n",
       "119.566667         1\n",
       "51.216667          1\n",
       "1409.516667        1\n",
       "1424.783333        1\n",
       "63.383333          1\n",
       "1436.966667        1\n",
       "1434.716667        1\n",
       "1432.233333        1\n",
       "1433.733333        1\n",
       "1432.966667        1\n",
       "1432.716667        1\n",
       "1432.466667        1\n",
       "1430.283333        1\n",
       "69.666667          1\n",
       "1433.216667        1\n",
       "1412.716667        1\n",
       "1434.983333        1\n",
       "1419.533333        1\n",
       "1419.783333        1\n",
       "1434.483333        1\n",
       "65.250000          1\n",
       "1420.283333        1\n",
       "1436.016667        1\n",
       "1435.233333        1\n",
       "107.850000         1\n",
       "1422.716667        1\n",
       "72.733333          1\n",
       "55.650000          1\n",
       "59.733333          1\n",
       "Name: delay_minute, Length: 5025, dtype: int64"
      ]
     },
     "execution_count": 34,
     "metadata": {},
     "output_type": "execute_result"
    }
   ],
   "source": [
    "df_DelayDayZero.delay_minute.value_counts()"
   ]
  },
  {
   "cell_type": "markdown",
   "metadata": {},
   "source": [
    "#### Exploring the dataset where \"delay_days\" equals -1. "
   ]
  },
  {
   "cell_type": "code",
   "execution_count": 35,
   "metadata": {},
   "outputs": [],
   "source": [
    "#filtering the original dataset for only those observations where 'delay_days' equals -1\n",
    "df_DelayDay_neg1 = df[df['delay_days'] == -1]"
   ]
  },
  {
   "cell_type": "code",
   "execution_count": 36,
   "metadata": {},
   "outputs": [
    {
     "data": {
      "text/html": [
       "<div>\n",
       "<style scoped>\n",
       "    .dataframe tbody tr th:only-of-type {\n",
       "        vertical-align: middle;\n",
       "    }\n",
       "\n",
       "    .dataframe tbody tr th {\n",
       "        vertical-align: top;\n",
       "    }\n",
       "\n",
       "    .dataframe thead th {\n",
       "        text-align: right;\n",
       "    }\n",
       "</style>\n",
       "<table border=\"1\" class=\"dataframe\">\n",
       "  <thead>\n",
       "    <tr style=\"text-align: right;\">\n",
       "      <th></th>\n",
       "      <th>RecordedAtTime</th>\n",
       "      <th>DirectionRef</th>\n",
       "      <th>PublishedLineName</th>\n",
       "      <th>OriginName</th>\n",
       "      <th>OriginLat</th>\n",
       "      <th>OriginLong</th>\n",
       "      <th>DestinationName</th>\n",
       "      <th>DestinationLat</th>\n",
       "      <th>DestinationLong</th>\n",
       "      <th>VehicleRef</th>\n",
       "      <th>...</th>\n",
       "      <th>ScheduledArrivalTime</th>\n",
       "      <th>Unnamed: 17</th>\n",
       "      <th>expected_date</th>\n",
       "      <th>Scheduled_datetime</th>\n",
       "      <th>Expected_datetime</th>\n",
       "      <th>delay</th>\n",
       "      <th>Scheduled_HourOfDay</th>\n",
       "      <th>delay_second</th>\n",
       "      <th>delay_minute</th>\n",
       "      <th>delay_days</th>\n",
       "    </tr>\n",
       "  </thead>\n",
       "  <tbody>\n",
       "    <tr>\n",
       "      <th>0</th>\n",
       "      <td>6/1/2017 0:03</td>\n",
       "      <td>0</td>\n",
       "      <td>B8</td>\n",
       "      <td>4 AV/95 ST</td>\n",
       "      <td>40.616104</td>\n",
       "      <td>-74.031143</td>\n",
       "      <td>BROWNSVILLE ROCKAWAY AV</td>\n",
       "      <td>40.656048</td>\n",
       "      <td>-73.907379</td>\n",
       "      <td>NYCT_430</td>\n",
       "      <td>...</td>\n",
       "      <td>00:06:14</td>\n",
       "      <td>NaN</td>\n",
       "      <td>6/1/2017</td>\n",
       "      <td>2017-06-01 00:06:14</td>\n",
       "      <td>2017-06-01 00:03:00</td>\n",
       "      <td>-1 days +23:56:46</td>\n",
       "      <td>0</td>\n",
       "      <td>86206</td>\n",
       "      <td>1436.766667</td>\n",
       "      <td>-1</td>\n",
       "    </tr>\n",
       "    <tr>\n",
       "      <th>6</th>\n",
       "      <td>6/1/2017 0:03</td>\n",
       "      <td>0</td>\n",
       "      <td>B31</td>\n",
       "      <td>GERRITSEN AV/GERRITSEN BEACH</td>\n",
       "      <td>40.587101</td>\n",
       "      <td>-73.918503</td>\n",
       "      <td>MIDWOOD KINGS HWY STA</td>\n",
       "      <td>40.608433</td>\n",
       "      <td>-73.957100</td>\n",
       "      <td>NYCT_4611</td>\n",
       "      <td>...</td>\n",
       "      <td>00:08:00</td>\n",
       "      <td>NaN</td>\n",
       "      <td>6/1/2017</td>\n",
       "      <td>2017-06-01 00:08:00</td>\n",
       "      <td>2017-06-01 00:03:00</td>\n",
       "      <td>-1 days +23:55:00</td>\n",
       "      <td>0</td>\n",
       "      <td>86100</td>\n",
       "      <td>1435.000000</td>\n",
       "      <td>-1</td>\n",
       "    </tr>\n",
       "    <tr>\n",
       "      <th>11</th>\n",
       "      <td>6/1/2017 0:03</td>\n",
       "      <td>1</td>\n",
       "      <td>B1</td>\n",
       "      <td>87 ST/4 Av</td>\n",
       "      <td>40.621925</td>\n",
       "      <td>-74.028496</td>\n",
       "      <td>MANHATTAN BEACH KINGSBORO CC</td>\n",
       "      <td>40.578094</td>\n",
       "      <td>-73.940170</td>\n",
       "      <td>NYCT_7141</td>\n",
       "      <td>...</td>\n",
       "      <td>00:05:55</td>\n",
       "      <td>NaN</td>\n",
       "      <td>6/1/2017</td>\n",
       "      <td>2017-06-01 00:05:55</td>\n",
       "      <td>2017-06-01 00:03:00</td>\n",
       "      <td>-1 days +23:57:05</td>\n",
       "      <td>0</td>\n",
       "      <td>86225</td>\n",
       "      <td>1437.083333</td>\n",
       "      <td>-1</td>\n",
       "    </tr>\n",
       "    <tr>\n",
       "      <th>12</th>\n",
       "      <td>6/1/2017 0:03</td>\n",
       "      <td>1</td>\n",
       "      <td>B26</td>\n",
       "      <td>WYCKOFF ST/PALMETTO ST</td>\n",
       "      <td>40.699150</td>\n",
       "      <td>-73.910477</td>\n",
       "      <td>DNTWN BKLYN TILLARY ST via HALSEY</td>\n",
       "      <td>40.693939</td>\n",
       "      <td>-73.990311</td>\n",
       "      <td>NYCT_6503</td>\n",
       "      <td>...</td>\n",
       "      <td>00:05:55</td>\n",
       "      <td>NaN</td>\n",
       "      <td>6/1/2017</td>\n",
       "      <td>2017-06-01 00:05:55</td>\n",
       "      <td>2017-06-01 00:03:00</td>\n",
       "      <td>-1 days +23:57:05</td>\n",
       "      <td>0</td>\n",
       "      <td>86225</td>\n",
       "      <td>1437.083333</td>\n",
       "      <td>-1</td>\n",
       "    </tr>\n",
       "    <tr>\n",
       "      <th>13</th>\n",
       "      <td>6/1/2017 0:03</td>\n",
       "      <td>0</td>\n",
       "      <td>Bx39</td>\n",
       "      <td>SOUNDVIEW AV/STEPHENS AV</td>\n",
       "      <td>40.807869</td>\n",
       "      <td>-73.852715</td>\n",
       "      <td>WAKEFIELD 241 ST via WHITE PLS RD</td>\n",
       "      <td>40.903309</td>\n",
       "      <td>-73.849922</td>\n",
       "      <td>NYCT_4723</td>\n",
       "      <td>...</td>\n",
       "      <td>00:04:12</td>\n",
       "      <td>NaN</td>\n",
       "      <td>6/1/2017</td>\n",
       "      <td>2017-06-01 00:04:12</td>\n",
       "      <td>2017-06-01 00:04:00</td>\n",
       "      <td>-1 days +23:59:48</td>\n",
       "      <td>0</td>\n",
       "      <td>86388</td>\n",
       "      <td>1439.800000</td>\n",
       "      <td>-1</td>\n",
       "    </tr>\n",
       "  </tbody>\n",
       "</table>\n",
       "<p>5 rows × 26 columns</p>\n",
       "</div>"
      ],
      "text/plain": [
       "   RecordedAtTime  DirectionRef PublishedLineName  \\\n",
       "0   6/1/2017 0:03             0                B8   \n",
       "6   6/1/2017 0:03             0               B31   \n",
       "11  6/1/2017 0:03             1                B1   \n",
       "12  6/1/2017 0:03             1               B26   \n",
       "13  6/1/2017 0:03             0              Bx39   \n",
       "\n",
       "                      OriginName  OriginLat  OriginLong  \\\n",
       "0                     4 AV/95 ST  40.616104  -74.031143   \n",
       "6   GERRITSEN AV/GERRITSEN BEACH  40.587101  -73.918503   \n",
       "11                    87 ST/4 Av  40.621925  -74.028496   \n",
       "12        WYCKOFF ST/PALMETTO ST  40.699150  -73.910477   \n",
       "13      SOUNDVIEW AV/STEPHENS AV  40.807869  -73.852715   \n",
       "\n",
       "                      DestinationName  DestinationLat  DestinationLong  \\\n",
       "0             BROWNSVILLE ROCKAWAY AV       40.656048       -73.907379   \n",
       "6               MIDWOOD KINGS HWY STA       40.608433       -73.957100   \n",
       "11       MANHATTAN BEACH KINGSBORO CC       40.578094       -73.940170   \n",
       "12  DNTWN BKLYN TILLARY ST via HALSEY       40.693939       -73.990311   \n",
       "13  WAKEFIELD 241 ST via WHITE PLS RD       40.903309       -73.849922   \n",
       "\n",
       "   VehicleRef    ...      ScheduledArrivalTime  Unnamed: 17 expected_date  \\\n",
       "0    NYCT_430    ...                  00:06:14          NaN      6/1/2017   \n",
       "6   NYCT_4611    ...                  00:08:00          NaN      6/1/2017   \n",
       "11  NYCT_7141    ...                  00:05:55          NaN      6/1/2017   \n",
       "12  NYCT_6503    ...                  00:05:55          NaN      6/1/2017   \n",
       "13  NYCT_4723    ...                  00:04:12          NaN      6/1/2017   \n",
       "\n",
       "    Scheduled_datetime   Expected_datetime             delay  \\\n",
       "0  2017-06-01 00:06:14 2017-06-01 00:03:00 -1 days +23:56:46   \n",
       "6  2017-06-01 00:08:00 2017-06-01 00:03:00 -1 days +23:55:00   \n",
       "11 2017-06-01 00:05:55 2017-06-01 00:03:00 -1 days +23:57:05   \n",
       "12 2017-06-01 00:05:55 2017-06-01 00:03:00 -1 days +23:57:05   \n",
       "13 2017-06-01 00:04:12 2017-06-01 00:04:00 -1 days +23:59:48   \n",
       "\n",
       "   Scheduled_HourOfDay delay_second delay_minute delay_days  \n",
       "0                    0        86206  1436.766667         -1  \n",
       "6                    0        86100  1435.000000         -1  \n",
       "11                   0        86225  1437.083333         -1  \n",
       "12                   0        86225  1437.083333         -1  \n",
       "13                   0        86388  1439.800000         -1  \n",
       "\n",
       "[5 rows x 26 columns]"
      ]
     },
     "execution_count": 36,
     "metadata": {},
     "output_type": "execute_result"
    }
   ],
   "source": [
    "df_DelayDay_neg1.head()"
   ]
  },
  {
   "cell_type": "code",
   "execution_count": 37,
   "metadata": {},
   "outputs": [
    {
     "data": {
      "text/plain": [
       "(271111, 26)"
      ]
     },
     "execution_count": 37,
     "metadata": {},
     "output_type": "execute_result"
    }
   ],
   "source": [
    "df_DelayDay_neg1.shape"
   ]
  },
  {
   "cell_type": "code",
   "execution_count": 38,
   "metadata": {},
   "outputs": [
    {
     "name": "stderr",
     "output_type": "stream",
     "text": [
      "C:\\Users\\sajee\\AppData\\Local\\Continuum\\anaconda3\\lib\\site-packages\\ipykernel_launcher.py:2: SettingWithCopyWarning: \n",
      "A value is trying to be set on a copy of a slice from a DataFrame.\n",
      "Try using .loc[row_indexer,col_indexer] = value instead\n",
      "\n",
      "See the caveats in the documentation: http://pandas.pydata.org/pandas-docs/stable/indexing.html#indexing-view-versus-copy\n",
      "  \n"
     ]
    }
   ],
   "source": [
    "#calculating the time difference according to minutes\n",
    "df_DelayDay_neg1['neg1_minute_diff'] = df_DelayDay_neg1['Expected_datetime'].dt.minute - df_DelayDay_neg1['Scheduled_datetime'].dt.minute"
   ]
  },
  {
   "cell_type": "code",
   "execution_count": 39,
   "metadata": {},
   "outputs": [
    {
     "name": "stdout",
     "output_type": "stream",
     "text": [
      "-1     70133\n",
      " 0     64714\n",
      "-2     48293\n",
      "-3     28850\n",
      "-4     15888\n",
      "-5      9125\n",
      "-6      5552\n",
      "-7      3716\n",
      "-8      2547\n",
      "-9      1955\n",
      " 58     1789\n",
      "-10     1599\n",
      " 57     1587\n",
      " 59     1478\n",
      " 56     1330\n",
      "-11     1191\n",
      "-12      944\n",
      " 55      939\n",
      "-13      712\n",
      " 54      704\n",
      "-14      582\n",
      "-15      532\n",
      " 53      505\n",
      "-16      400\n",
      " 52      357\n",
      " 51      355\n",
      " 50      323\n",
      " 49      292\n",
      "-18      284\n",
      "-17      282\n",
      "       ...  \n",
      " 23        8\n",
      " 13        8\n",
      " 10        7\n",
      " 11        7\n",
      " 16        7\n",
      " 2         6\n",
      "-41        6\n",
      " 9         5\n",
      " 6         5\n",
      " 1         5\n",
      "-40        5\n",
      "-50        5\n",
      " 8         4\n",
      "-44        4\n",
      "-42        4\n",
      "-51        3\n",
      "-47        2\n",
      "-46        2\n",
      "-45        2\n",
      " 3         2\n",
      " 7         2\n",
      "-43        2\n",
      "-55        2\n",
      "-48        2\n",
      "-58        1\n",
      "-52        1\n",
      "-49        1\n",
      " 4         1\n",
      "-54        1\n",
      "-57        1\n",
      "Name: neg1_minute_diff, Length: 115, dtype: int64\n"
     ]
    }
   ],
   "source": [
    "#creating a new feature \"neg1_minute_diff\" to account for the minute differences.\n",
    "print(df_DelayDay_neg1.neg1_minute_diff.value_counts())"
   ]
  },
  {
   "cell_type": "markdown",
   "metadata": {},
   "source": [
    "The negative numbers represent those buses that arrived before their scheduled time.  We can check this assumption by exploring the Scheduled_datetime and Expected_datetime columns of the df_DelayDay_neg1 columns"
   ]
  },
  {
   "cell_type": "code",
   "execution_count": 40,
   "metadata": {},
   "outputs": [
    {
     "data": {
      "text/plain": [
       "2017-06-05    70583\n",
       "2017-06-01    68350\n",
       "2017-06-02    59908\n",
       "2017-06-03    38425\n",
       "2017-06-04    33845\n",
       "Name: Scheduled_datetime, dtype: int64"
      ]
     },
     "execution_count": 40,
     "metadata": {},
     "output_type": "execute_result"
    }
   ],
   "source": [
    "#value counts of the dates in scheduled datetime\n",
    "df_DelayDay_neg1.Scheduled_datetime.dt.date.value_counts()"
   ]
  },
  {
   "cell_type": "code",
   "execution_count": 41,
   "metadata": {},
   "outputs": [
    {
     "data": {
      "text/plain": [
       "2017-06-05    70583\n",
       "2017-06-01    68350\n",
       "2017-06-02    59908\n",
       "2017-06-03    38425\n",
       "2017-06-04    33845\n",
       "Name: Expected_datetime, dtype: int64"
      ]
     },
     "execution_count": 41,
     "metadata": {},
     "output_type": "execute_result"
    }
   ],
   "source": [
    "#value counts of the dates in Expected datetime\n",
    "df_DelayDay_neg1.Expected_datetime.dt.date.value_counts()"
   ]
  },
  {
   "cell_type": "markdown",
   "metadata": {},
   "source": [
    "The dataset has observations recorded over a five day period from June 1, 2017 to June 5, 2017.  Because the value_counts in \"Scheduled_datetime\" and \"Expected_datetime\" of the df_DelayDay_neg1 dataframe are equal for each date, we can safely assume that the negative numbers \"neg1_minute_diff\" column from df_DelayDay_neg1 represent those buses that arrived before their scheduled time."
   ]
  },
  {
   "cell_type": "markdown",
   "metadata": {},
   "source": [
    "Out of all the buses that arrived before their scheduled time, the majority of them were early by five to six minutes or less.  Some buses arrived more than six minutes before their time, but I dropped those observations because they totaled only a few thousand all together and represented less than 1% of the total data.  For the purpose of this project, I am not going to consider buses that arrived earlier than five minutes to be on time."
   ]
  },
  {
   "cell_type": "code",
   "execution_count": 42,
   "metadata": {},
   "outputs": [],
   "source": [
    "#filtering the df_DelayDay_neg1 dataframe for only those observations where the value of 'neg1_minute_diff' is  greater than -6\n",
    "df_DelayDay_neg1 = df_DelayDay_neg1[df_DelayDay_neg1['neg1_minute_diff'] > -5]"
   ]
  },
  {
   "cell_type": "code",
   "execution_count": 43,
   "metadata": {},
   "outputs": [],
   "source": [
    "#re assigning the values of delay_minute column, according to the time difference in the column 'neg1_minute_diff'.  For \n",
    "#observations where \"neg1_minute_diff\" was less than equal to five, I set the value of 'delay_minute for that observation\n",
    "#to zero.If 'neg1_minute_diff' is greater than 5 for an observation, I assigned the value of 'delay_minute'\n",
    "#a random number greater than 5 (I chose 6) which would represent a delay and that observation would be classified\n",
    "#as not on time (see cell 49 below).\n",
    "\n",
    "df_DelayDay_neg1.loc[(df_DelayDay_neg1['neg1_minute_diff'] <= 5), 'delay_minute'] = 0\n",
    "df_DelayDay_neg1.loc[(df_DelayDay_neg1['neg1_minute_diff'] > 5), 'delay_minute'] = 6"
   ]
  },
  {
   "cell_type": "code",
   "execution_count": 44,
   "metadata": {},
   "outputs": [
    {
     "data": {
      "text/plain": [
       "0.0    227900\n",
       "6.0     12070\n",
       "Name: delay_minute, dtype: int64"
      ]
     },
     "execution_count": 44,
     "metadata": {},
     "output_type": "execute_result"
    }
   ],
   "source": [
    "df_DelayDay_neg1.delay_minute.value_counts()"
   ]
  },
  {
   "cell_type": "code",
   "execution_count": 45,
   "metadata": {},
   "outputs": [],
   "source": [
    "#dropping the 'neg1_minute_diff' column from df_neg1\n",
    "df_DelayDay_neg1 = df_DelayDay_neg1.drop('neg1_minute_diff', 1)"
   ]
  },
  {
   "cell_type": "code",
   "execution_count": 46,
   "metadata": {},
   "outputs": [
    {
     "data": {
      "text/html": [
       "<div>\n",
       "<style scoped>\n",
       "    .dataframe tbody tr th:only-of-type {\n",
       "        vertical-align: middle;\n",
       "    }\n",
       "\n",
       "    .dataframe tbody tr th {\n",
       "        vertical-align: top;\n",
       "    }\n",
       "\n",
       "    .dataframe thead th {\n",
       "        text-align: right;\n",
       "    }\n",
       "</style>\n",
       "<table border=\"1\" class=\"dataframe\">\n",
       "  <thead>\n",
       "    <tr style=\"text-align: right;\">\n",
       "      <th></th>\n",
       "      <th>RecordedAtTime</th>\n",
       "      <th>DirectionRef</th>\n",
       "      <th>PublishedLineName</th>\n",
       "      <th>OriginName</th>\n",
       "      <th>OriginLat</th>\n",
       "      <th>OriginLong</th>\n",
       "      <th>DestinationName</th>\n",
       "      <th>DestinationLat</th>\n",
       "      <th>DestinationLong</th>\n",
       "      <th>VehicleRef</th>\n",
       "      <th>...</th>\n",
       "      <th>ScheduledArrivalTime</th>\n",
       "      <th>Unnamed: 17</th>\n",
       "      <th>expected_date</th>\n",
       "      <th>Scheduled_datetime</th>\n",
       "      <th>Expected_datetime</th>\n",
       "      <th>delay</th>\n",
       "      <th>Scheduled_HourOfDay</th>\n",
       "      <th>delay_second</th>\n",
       "      <th>delay_minute</th>\n",
       "      <th>delay_days</th>\n",
       "    </tr>\n",
       "  </thead>\n",
       "  <tbody>\n",
       "    <tr>\n",
       "      <th>0</th>\n",
       "      <td>6/1/2017 0:03</td>\n",
       "      <td>0</td>\n",
       "      <td>B8</td>\n",
       "      <td>4 AV/95 ST</td>\n",
       "      <td>40.616104</td>\n",
       "      <td>-74.031143</td>\n",
       "      <td>BROWNSVILLE ROCKAWAY AV</td>\n",
       "      <td>40.656048</td>\n",
       "      <td>-73.907379</td>\n",
       "      <td>NYCT_430</td>\n",
       "      <td>...</td>\n",
       "      <td>00:06:14</td>\n",
       "      <td>NaN</td>\n",
       "      <td>6/1/2017</td>\n",
       "      <td>2017-06-01 00:06:14</td>\n",
       "      <td>2017-06-01 00:03:00</td>\n",
       "      <td>-1 days +23:56:46</td>\n",
       "      <td>0</td>\n",
       "      <td>86206</td>\n",
       "      <td>0.0</td>\n",
       "      <td>-1</td>\n",
       "    </tr>\n",
       "    <tr>\n",
       "      <th>11</th>\n",
       "      <td>6/1/2017 0:03</td>\n",
       "      <td>1</td>\n",
       "      <td>B1</td>\n",
       "      <td>87 ST/4 Av</td>\n",
       "      <td>40.621925</td>\n",
       "      <td>-74.028496</td>\n",
       "      <td>MANHATTAN BEACH KINGSBORO CC</td>\n",
       "      <td>40.578094</td>\n",
       "      <td>-73.940170</td>\n",
       "      <td>NYCT_7141</td>\n",
       "      <td>...</td>\n",
       "      <td>00:05:55</td>\n",
       "      <td>NaN</td>\n",
       "      <td>6/1/2017</td>\n",
       "      <td>2017-06-01 00:05:55</td>\n",
       "      <td>2017-06-01 00:03:00</td>\n",
       "      <td>-1 days +23:57:05</td>\n",
       "      <td>0</td>\n",
       "      <td>86225</td>\n",
       "      <td>0.0</td>\n",
       "      <td>-1</td>\n",
       "    </tr>\n",
       "    <tr>\n",
       "      <th>12</th>\n",
       "      <td>6/1/2017 0:03</td>\n",
       "      <td>1</td>\n",
       "      <td>B26</td>\n",
       "      <td>WYCKOFF ST/PALMETTO ST</td>\n",
       "      <td>40.699150</td>\n",
       "      <td>-73.910477</td>\n",
       "      <td>DNTWN BKLYN TILLARY ST via HALSEY</td>\n",
       "      <td>40.693939</td>\n",
       "      <td>-73.990311</td>\n",
       "      <td>NYCT_6503</td>\n",
       "      <td>...</td>\n",
       "      <td>00:05:55</td>\n",
       "      <td>NaN</td>\n",
       "      <td>6/1/2017</td>\n",
       "      <td>2017-06-01 00:05:55</td>\n",
       "      <td>2017-06-01 00:03:00</td>\n",
       "      <td>-1 days +23:57:05</td>\n",
       "      <td>0</td>\n",
       "      <td>86225</td>\n",
       "      <td>0.0</td>\n",
       "      <td>-1</td>\n",
       "    </tr>\n",
       "    <tr>\n",
       "      <th>13</th>\n",
       "      <td>6/1/2017 0:03</td>\n",
       "      <td>0</td>\n",
       "      <td>Bx39</td>\n",
       "      <td>SOUNDVIEW AV/STEPHENS AV</td>\n",
       "      <td>40.807869</td>\n",
       "      <td>-73.852715</td>\n",
       "      <td>WAKEFIELD 241 ST via WHITE PLS RD</td>\n",
       "      <td>40.903309</td>\n",
       "      <td>-73.849922</td>\n",
       "      <td>NYCT_4723</td>\n",
       "      <td>...</td>\n",
       "      <td>00:04:12</td>\n",
       "      <td>NaN</td>\n",
       "      <td>6/1/2017</td>\n",
       "      <td>2017-06-01 00:04:12</td>\n",
       "      <td>2017-06-01 00:04:00</td>\n",
       "      <td>-1 days +23:59:48</td>\n",
       "      <td>0</td>\n",
       "      <td>86388</td>\n",
       "      <td>0.0</td>\n",
       "      <td>-1</td>\n",
       "    </tr>\n",
       "    <tr>\n",
       "      <th>15</th>\n",
       "      <td>6/1/2017 0:03</td>\n",
       "      <td>1</td>\n",
       "      <td>Bx31</td>\n",
       "      <td>VAN CORTLANDT PK E/E 242 ST</td>\n",
       "      <td>40.902660</td>\n",
       "      <td>-73.868378</td>\n",
       "      <td>WESTCHESTER SQ</td>\n",
       "      <td>40.841076</td>\n",
       "      <td>-73.842850</td>\n",
       "      <td>NYCT_274</td>\n",
       "      <td>...</td>\n",
       "      <td>00:05:00</td>\n",
       "      <td>NaN</td>\n",
       "      <td>6/1/2017</td>\n",
       "      <td>2017-06-01 00:05:00</td>\n",
       "      <td>2017-06-01 00:03:00</td>\n",
       "      <td>-1 days +23:58:00</td>\n",
       "      <td>0</td>\n",
       "      <td>86280</td>\n",
       "      <td>0.0</td>\n",
       "      <td>-1</td>\n",
       "    </tr>\n",
       "  </tbody>\n",
       "</table>\n",
       "<p>5 rows × 26 columns</p>\n",
       "</div>"
      ],
      "text/plain": [
       "   RecordedAtTime  DirectionRef PublishedLineName  \\\n",
       "0   6/1/2017 0:03             0                B8   \n",
       "11  6/1/2017 0:03             1                B1   \n",
       "12  6/1/2017 0:03             1               B26   \n",
       "13  6/1/2017 0:03             0              Bx39   \n",
       "15  6/1/2017 0:03             1              Bx31   \n",
       "\n",
       "                     OriginName  OriginLat  OriginLong  \\\n",
       "0                    4 AV/95 ST  40.616104  -74.031143   \n",
       "11                   87 ST/4 Av  40.621925  -74.028496   \n",
       "12       WYCKOFF ST/PALMETTO ST  40.699150  -73.910477   \n",
       "13     SOUNDVIEW AV/STEPHENS AV  40.807869  -73.852715   \n",
       "15  VAN CORTLANDT PK E/E 242 ST  40.902660  -73.868378   \n",
       "\n",
       "                      DestinationName  DestinationLat  DestinationLong  \\\n",
       "0             BROWNSVILLE ROCKAWAY AV       40.656048       -73.907379   \n",
       "11       MANHATTAN BEACH KINGSBORO CC       40.578094       -73.940170   \n",
       "12  DNTWN BKLYN TILLARY ST via HALSEY       40.693939       -73.990311   \n",
       "13  WAKEFIELD 241 ST via WHITE PLS RD       40.903309       -73.849922   \n",
       "15                     WESTCHESTER SQ       40.841076       -73.842850   \n",
       "\n",
       "   VehicleRef    ...      ScheduledArrivalTime  Unnamed: 17 expected_date  \\\n",
       "0    NYCT_430    ...                  00:06:14          NaN      6/1/2017   \n",
       "11  NYCT_7141    ...                  00:05:55          NaN      6/1/2017   \n",
       "12  NYCT_6503    ...                  00:05:55          NaN      6/1/2017   \n",
       "13  NYCT_4723    ...                  00:04:12          NaN      6/1/2017   \n",
       "15   NYCT_274    ...                  00:05:00          NaN      6/1/2017   \n",
       "\n",
       "    Scheduled_datetime   Expected_datetime             delay  \\\n",
       "0  2017-06-01 00:06:14 2017-06-01 00:03:00 -1 days +23:56:46   \n",
       "11 2017-06-01 00:05:55 2017-06-01 00:03:00 -1 days +23:57:05   \n",
       "12 2017-06-01 00:05:55 2017-06-01 00:03:00 -1 days +23:57:05   \n",
       "13 2017-06-01 00:04:12 2017-06-01 00:04:00 -1 days +23:59:48   \n",
       "15 2017-06-01 00:05:00 2017-06-01 00:03:00 -1 days +23:58:00   \n",
       "\n",
       "   Scheduled_HourOfDay delay_second delay_minute delay_days  \n",
       "0                    0        86206          0.0         -1  \n",
       "11                   0        86225          0.0         -1  \n",
       "12                   0        86225          0.0         -1  \n",
       "13                   0        86388          0.0         -1  \n",
       "15                   0        86280          0.0         -1  \n",
       "\n",
       "[5 rows x 26 columns]"
      ]
     },
     "execution_count": 46,
     "metadata": {},
     "output_type": "execute_result"
    }
   ],
   "source": [
    "df_DelayDay_neg1.head()"
   ]
  },
  {
   "cell_type": "code",
   "execution_count": 47,
   "metadata": {},
   "outputs": [
    {
     "name": "stdout",
     "output_type": "stream",
     "text": [
      "(764562, 26)\n",
      "\n",
      "(239970, 26)\n"
     ]
    }
   ],
   "source": [
    "#Getting the shape of df_DelayDayZero and df_DelayDay_neg1\n",
    "print(df_DelayDayZero.shape)\n",
    "print()\n",
    "print(df_DelayDay_neg1.shape)"
   ]
  },
  {
   "cell_type": "code",
   "execution_count": 48,
   "metadata": {},
   "outputs": [],
   "source": [
    "#joining df_DelayDayZero and df_DelayDay_neg1 into one dataframe called df\n",
    "df = pd.concat([df_DelayDayZero, df_DelayDay_neg1], axis=0, ignore_index=True)\n"
   ]
  },
  {
   "cell_type": "code",
   "execution_count": 49,
   "metadata": {},
   "outputs": [
    {
     "name": "stdout",
     "output_type": "stream",
     "text": [
      "(1004532, 26)\n"
     ]
    }
   ],
   "source": [
    "#getting the shape of the concatenated dataframe, df\n",
    "print(df.shape)"
   ]
  },
  {
   "cell_type": "code",
   "execution_count": 50,
   "metadata": {},
   "outputs": [
    {
     "data": {
      "text/plain": [
       " 0    764562\n",
       "-1    239970\n",
       "Name: delay_days, dtype: int64"
      ]
     },
     "execution_count": 50,
     "metadata": {},
     "output_type": "execute_result"
    }
   ],
   "source": [
    "df.delay_days.value_counts()"
   ]
  },
  {
   "cell_type": "code",
   "execution_count": 51,
   "metadata": {},
   "outputs": [],
   "source": [
    "#creating source and destination features to help calculate distance between each origin and destination.\n",
    "df[\"source\"] = [(i, j) for i, j in zip(df[\"OriginLat\"], df[\"OriginLong\"])]\n",
    "\n",
    "df[\"destination\"] = [(i, j) for i, j in zip(df[\"DestinationLat\"], df[\"DestinationLong\"])]\n",
    "\n",
    "#creating feature 'dist' to calculate the distance between origin and destination.\n",
    "df[\"dist\"] = [geopy.distance.distance(i, j).km for i, j in zip(df[\"source\"], df[\"destination\"])]"
   ]
  },
  {
   "cell_type": "code",
   "execution_count": 52,
   "metadata": {},
   "outputs": [],
   "source": [
    "#calculating distance between vehicle and destination.\n",
    "df['Vehicle_location2'] = [(i,j) for i, j in zip(df['VehicleLocation.Latitude'], df['VehicleLocation.Longitude'])]\n",
    "df[\"VehicleToDestination\"] = [geopy.distance.distance(i, j).km for i, j in zip(df[\"Vehicle_location2\"], df[\"destination\"])]"
   ]
  },
  {
   "cell_type": "code",
   "execution_count": 53,
   "metadata": {},
   "outputs": [],
   "source": [
    "#creating output variable by defining \"on_time\" as those buses that arrived five minutes or less than their scheduled time.\n",
    "df['on_time'] = np.where((df['delay_minute'] > 5) | (df['delay_minute'] < -1), 0, 1)"
   ]
  },
  {
   "cell_type": "code",
   "execution_count": 54,
   "metadata": {},
   "outputs": [
    {
     "data": {
      "text/plain": [
       "1    605330\n",
       "0    399202\n",
       "Name: on_time, dtype: int64"
      ]
     },
     "execution_count": 54,
     "metadata": {},
     "output_type": "execute_result"
    }
   ],
   "source": [
    "#getting value count for binary output variable\n",
    "df['on_time'].value_counts()"
   ]
  },
  {
   "cell_type": "code",
   "execution_count": 55,
   "metadata": {},
   "outputs": [
    {
     "name": "stdout",
     "output_type": "stream",
     "text": [
      "605330\n",
      "399202\n"
     ]
    }
   ],
   "source": [
    "# Resampling our data\n",
    "\n",
    "# Class count\n",
    "count_class_1, count_class_0 = df.on_time.value_counts()\n",
    "print(count_class_1)\n",
    "print(count_class_0)\n",
    "# Divide by class\n",
    "df_class_0 = df[df['on_time'] == 0]\n",
    "df_class_1 = df[df['on_time'] == 1]"
   ]
  },
  {
   "cell_type": "code",
   "execution_count": 56,
   "metadata": {},
   "outputs": [
    {
     "name": "stdout",
     "output_type": "stream",
     "text": [
      "Random under-sampling:\n",
      "1    399202\n",
      "0    399202\n",
      "Name: on_time, dtype: int64\n"
     ]
    },
    {
     "data": {
      "text/plain": [
       "<matplotlib.axes._subplots.AxesSubplot at 0x1f7b3da86d8>"
      ]
     },
     "execution_count": 56,
     "metadata": {},
     "output_type": "execute_result"
    },
    {
     "data": {
      "image/png": "[encoded data removed]",
      "text/plain": [
       "<Figure size 432x288 with 1 Axes>"
      ]
     },
     "metadata": {
      "needs_background": "light"
     },
     "output_type": "display_data"
    }
   ],
   "source": [
    "#extract the observations with class zero, equal to the number of obervations equal\n",
    "df_class_1_under = df_class_1.sample(count_class_0)\n",
    "\n",
    "#create a new dataframe with the same number of values for our two classes\n",
    "df_resampled = pd.concat([df_class_1_under, df_class_0], axis=0, ignore_index=True)\n",
    "\n",
    "print('Random under-sampling:')\n",
    "print(df_resampled.on_time.value_counts())\n",
    "\n",
    "df_resampled.on_time.value_counts().plot(kind='bar', title='Count (target)')"
   ]
  },
  {
   "cell_type": "code",
   "execution_count": 57,
   "metadata": {},
   "outputs": [],
   "source": [
    "#shuffling the data to make it completely random, after resampling\n",
    "from sklearn.utils import shuffle \n",
    "df_resampled = shuffle(df_resampled)\n",
    "\n",
    "#resetting index\n",
    "df_resampled = df_resampled.reset_index(drop=True)"
   ]
  },
  {
   "cell_type": "code",
   "execution_count": 58,
   "metadata": {},
   "outputs": [
    {
     "data": {
      "text/html": [
       "<div>\n",
       "<style scoped>\n",
       "    .dataframe tbody tr th:only-of-type {\n",
       "        vertical-align: middle;\n",
       "    }\n",
       "\n",
       "    .dataframe tbody tr th {\n",
       "        vertical-align: top;\n",
       "    }\n",
       "\n",
       "    .dataframe thead th {\n",
       "        text-align: right;\n",
       "    }\n",
       "</style>\n",
       "<table border=\"1\" class=\"dataframe\">\n",
       "  <thead>\n",
       "    <tr style=\"text-align: right;\">\n",
       "      <th></th>\n",
       "      <th>RecordedAtTime</th>\n",
       "      <th>DirectionRef</th>\n",
       "      <th>PublishedLineName</th>\n",
       "      <th>OriginName</th>\n",
       "      <th>OriginLat</th>\n",
       "      <th>OriginLong</th>\n",
       "      <th>DestinationName</th>\n",
       "      <th>DestinationLat</th>\n",
       "      <th>DestinationLong</th>\n",
       "      <th>VehicleRef</th>\n",
       "      <th>...</th>\n",
       "      <th>Scheduled_HourOfDay</th>\n",
       "      <th>delay_second</th>\n",
       "      <th>delay_minute</th>\n",
       "      <th>delay_days</th>\n",
       "      <th>source</th>\n",
       "      <th>destination</th>\n",
       "      <th>dist</th>\n",
       "      <th>Vehicle_location2</th>\n",
       "      <th>VehicleToDestination</th>\n",
       "      <th>on_time</th>\n",
       "    </tr>\n",
       "  </thead>\n",
       "  <tbody>\n",
       "    <tr>\n",
       "      <th>0</th>\n",
       "      <td>6/5/2017 6:40</td>\n",
       "      <td>0</td>\n",
       "      <td>Bx31</td>\n",
       "      <td>TREMONT AV/LANE AV</td>\n",
       "      <td>40.840866</td>\n",
       "      <td>-73.842453</td>\n",
       "      <td>WOODLAWN KATONAH AV</td>\n",
       "      <td>40.902779</td>\n",
       "      <td>-73.868317</td>\n",
       "      <td>NYCT_7744</td>\n",
       "      <td>...</td>\n",
       "      <td>6</td>\n",
       "      <td>67</td>\n",
       "      <td>1.116667</td>\n",
       "      <td>0</td>\n",
       "      <td>(40.840866, -73.842453)</td>\n",
       "      <td>(40.902778999999995, -73.868317)</td>\n",
       "      <td>7.212940</td>\n",
       "      <td>(40.882358, -73.84477700000001)</td>\n",
       "      <td>3.012997</td>\n",
       "      <td>1</td>\n",
       "    </tr>\n",
       "    <tr>\n",
       "      <th>1</th>\n",
       "      <td>6/2/2017 10:16</td>\n",
       "      <td>0</td>\n",
       "      <td>M15-SBS</td>\n",
       "      <td>SOUTH FERRY/TERMINAL</td>\n",
       "      <td>40.702171</td>\n",
       "      <td>-74.013535</td>\n",
       "      <td>SELECT BUS SERVICE 125ST via 1 AV</td>\n",
       "      <td>40.803150</td>\n",
       "      <td>-73.932266</td>\n",
       "      <td>NYCT_1245</td>\n",
       "      <td>...</td>\n",
       "      <td>10</td>\n",
       "      <td>251</td>\n",
       "      <td>4.183333</td>\n",
       "      <td>0</td>\n",
       "      <td>(40.702171, -74.013535)</td>\n",
       "      <td>(40.80315, -73.932266)</td>\n",
       "      <td>13.147141</td>\n",
       "      <td>(40.704322, -74.008629)</td>\n",
       "      <td>12.729131</td>\n",
       "      <td>1</td>\n",
       "    </tr>\n",
       "    <tr>\n",
       "      <th>2</th>\n",
       "      <td>6/1/2017 19:04</td>\n",
       "      <td>1</td>\n",
       "      <td>M3</td>\n",
       "      <td>FT GEORGE AV/66 FORT GEORGE AV</td>\n",
       "      <td>40.858330</td>\n",
       "      <td>-73.925385</td>\n",
       "      <td>EAST VILLAGE 8 ST via 5 AV</td>\n",
       "      <td>40.730038</td>\n",
       "      <td>-73.991310</td>\n",
       "      <td>NYCT_6638</td>\n",
       "      <td>...</td>\n",
       "      <td>18</td>\n",
       "      <td>1320</td>\n",
       "      <td>22.000000</td>\n",
       "      <td>0</td>\n",
       "      <td>(40.85833, -73.92538499999999)</td>\n",
       "      <td>(40.730038, -73.99131)</td>\n",
       "      <td>15.294704</td>\n",
       "      <td>(40.753933, -73.980558)</td>\n",
       "      <td>2.804613</td>\n",
       "      <td>0</td>\n",
       "    </tr>\n",
       "    <tr>\n",
       "      <th>3</th>\n",
       "      <td>6/1/2017 2:13</td>\n",
       "      <td>0</td>\n",
       "      <td>S46</td>\n",
       "      <td>WEST SHORE PLAZA/CHELSEA ST</td>\n",
       "      <td>40.602039</td>\n",
       "      <td>-74.190697</td>\n",
       "      <td>ST GEORGE FERRY via CASTLTN</td>\n",
       "      <td>40.643585</td>\n",
       "      <td>-74.072609</td>\n",
       "      <td>NYCT_8245</td>\n",
       "      <td>...</td>\n",
       "      <td>2</td>\n",
       "      <td>120</td>\n",
       "      <td>2.000000</td>\n",
       "      <td>0</td>\n",
       "      <td>(40.602039000000005, -74.190697)</td>\n",
       "      <td>(40.643584999999995, -74.072609)</td>\n",
       "      <td>11.005471</td>\n",
       "      <td>(40.637747, -74.07628199999999)</td>\n",
       "      <td>0.718900</td>\n",
       "      <td>1</td>\n",
       "    </tr>\n",
       "    <tr>\n",
       "      <th>4</th>\n",
       "      <td>6/2/2017 16:56</td>\n",
       "      <td>1</td>\n",
       "      <td>Bx3</td>\n",
       "      <td>W 238 ST/BROADWAY</td>\n",
       "      <td>40.884968</td>\n",
       "      <td>-73.900475</td>\n",
       "      <td>WASHINGTON HTS GW BRIDGE</td>\n",
       "      <td>40.849010</td>\n",
       "      <td>-73.936890</td>\n",
       "      <td>NYCT_4396</td>\n",
       "      <td>...</td>\n",
       "      <td>16</td>\n",
       "      <td>186</td>\n",
       "      <td>3.100000</td>\n",
       "      <td>0</td>\n",
       "      <td>(40.884968, -73.900475)</td>\n",
       "      <td>(40.84901, -73.93689)</td>\n",
       "      <td>5.036865</td>\n",
       "      <td>(40.849771000000004, -73.916443)</td>\n",
       "      <td>1.726292</td>\n",
       "      <td>1</td>\n",
       "    </tr>\n",
       "  </tbody>\n",
       "</table>\n",
       "<p>5 rows × 32 columns</p>\n",
       "</div>"
      ],
      "text/plain": [
       "   RecordedAtTime  DirectionRef PublishedLineName  \\\n",
       "0   6/5/2017 6:40             0              Bx31   \n",
       "1  6/2/2017 10:16             0           M15-SBS   \n",
       "2  6/1/2017 19:04             1                M3   \n",
       "3   6/1/2017 2:13             0               S46   \n",
       "4  6/2/2017 16:56             1               Bx3   \n",
       "\n",
       "                       OriginName  OriginLat  OriginLong  \\\n",
       "0              TREMONT AV/LANE AV  40.840866  -73.842453   \n",
       "1            SOUTH FERRY/TERMINAL  40.702171  -74.013535   \n",
       "2  FT GEORGE AV/66 FORT GEORGE AV  40.858330  -73.925385   \n",
       "3     WEST SHORE PLAZA/CHELSEA ST  40.602039  -74.190697   \n",
       "4               W 238 ST/BROADWAY  40.884968  -73.900475   \n",
       "\n",
       "                     DestinationName  DestinationLat  DestinationLong  \\\n",
       "0                WOODLAWN KATONAH AV       40.902779       -73.868317   \n",
       "1  SELECT BUS SERVICE 125ST via 1 AV       40.803150       -73.932266   \n",
       "2         EAST VILLAGE 8 ST via 5 AV       40.730038       -73.991310   \n",
       "3        ST GEORGE FERRY via CASTLTN       40.643585       -74.072609   \n",
       "4           WASHINGTON HTS GW BRIDGE       40.849010       -73.936890   \n",
       "\n",
       "  VehicleRef   ...    Scheduled_HourOfDay  delay_second delay_minute  \\\n",
       "0  NYCT_7744   ...                      6            67     1.116667   \n",
       "1  NYCT_1245   ...                     10           251     4.183333   \n",
       "2  NYCT_6638   ...                     18          1320    22.000000   \n",
       "3  NYCT_8245   ...                      2           120     2.000000   \n",
       "4  NYCT_4396   ...                     16           186     3.100000   \n",
       "\n",
       "  delay_days                            source  \\\n",
       "0          0           (40.840866, -73.842453)   \n",
       "1          0           (40.702171, -74.013535)   \n",
       "2          0    (40.85833, -73.92538499999999)   \n",
       "3          0  (40.602039000000005, -74.190697)   \n",
       "4          0           (40.884968, -73.900475)   \n",
       "\n",
       "                        destination       dist  \\\n",
       "0  (40.902778999999995, -73.868317)   7.212940   \n",
       "1            (40.80315, -73.932266)  13.147141   \n",
       "2            (40.730038, -73.99131)  15.294704   \n",
       "3  (40.643584999999995, -74.072609)  11.005471   \n",
       "4             (40.84901, -73.93689)   5.036865   \n",
       "\n",
       "                  Vehicle_location2 VehicleToDestination on_time  \n",
       "0   (40.882358, -73.84477700000001)             3.012997       1  \n",
       "1           (40.704322, -74.008629)            12.729131       1  \n",
       "2           (40.753933, -73.980558)             2.804613       0  \n",
       "3   (40.637747, -74.07628199999999)             0.718900       1  \n",
       "4  (40.849771000000004, -73.916443)             1.726292       1  \n",
       "\n",
       "[5 rows x 32 columns]"
      ]
     },
     "execution_count": 58,
     "metadata": {},
     "output_type": "execute_result"
    }
   ],
   "source": [
    "df_resampled.head()"
   ]
  },
  {
   "cell_type": "code",
   "execution_count": 59,
   "metadata": {
    "scrolled": true
   },
   "outputs": [
    {
     "name": "stdout",
     "output_type": "stream",
     "text": [
      "<class 'pandas.core.frame.DataFrame'>\n",
      "RangeIndex: 798404 entries, 0 to 798403\n",
      "Data columns (total 32 columns):\n",
      "RecordedAtTime               798404 non-null object\n",
      "DirectionRef                 798404 non-null int64\n",
      "PublishedLineName            798404 non-null object\n",
      "OriginName                   798404 non-null object\n",
      "OriginLat                    798404 non-null float64\n",
      "OriginLong                   798404 non-null float64\n",
      "DestinationName              798404 non-null object\n",
      "DestinationLat               798404 non-null float64\n",
      "DestinationLong              798404 non-null float64\n",
      "VehicleRef                   798404 non-null object\n",
      "VehicleLocation.Latitude     798404 non-null float64\n",
      "VehicleLocation.Longitude    798404 non-null float64\n",
      "NextStopPointName            798404 non-null object\n",
      "ArrivalProximityText         798404 non-null object\n",
      "DistanceFromStop             798404 non-null object\n",
      "ExpectedArrivalTime          798404 non-null object\n",
      "ScheduledArrivalTime         798404 non-null object\n",
      "Unnamed: 17                  43 non-null object\n",
      "expected_date                798404 non-null object\n",
      "Scheduled_datetime           798404 non-null datetime64[ns]\n",
      "Expected_datetime            798404 non-null datetime64[ns]\n",
      "delay                        798404 non-null timedelta64[ns]\n",
      "Scheduled_HourOfDay          798404 non-null int64\n",
      "delay_second                 798404 non-null int64\n",
      "delay_minute                 798404 non-null float64\n",
      "delay_days                   798404 non-null int64\n",
      "source                       798404 non-null object\n",
      "destination                  798404 non-null object\n",
      "dist                         798404 non-null float64\n",
      "Vehicle_location2            798404 non-null object\n",
      "VehicleToDestination         798404 non-null float64\n",
      "on_time                      798404 non-null int32\n",
      "dtypes: datetime64[ns](2), float64(9), int32(1), int64(4), object(15), timedelta64[ns](1)\n",
      "memory usage: 191.9+ MB\n"
     ]
    }
   ],
   "source": [
    "df_resampled.info()"
   ]
  },
  {
   "cell_type": "code",
   "execution_count": 60,
   "metadata": {},
   "outputs": [],
   "source": [
    "#creating two subsets of the dataframe to explore the data according to the different values of our binary output variable.\n",
    "df_NotOntime = df_resampled[df_resampled['on_time'] == 0]\n",
    "df_Ontime = df_resampled[df_resampled['on_time'] == 1]\n"
   ]
  },
  {
   "cell_type": "code",
   "execution_count": 125,
   "metadata": {},
   "outputs": [
    {
     "data": {
      "text/plain": [
       "count     798404\n",
       "unique       305\n",
       "top           B6\n",
       "freq       14315\n",
       "Name: PublishedLineName, dtype: object"
      ]
     },
     "execution_count": 125,
     "metadata": {},
     "output_type": "execute_result"
    }
   ],
   "source": [
    "#getting the total number of unique bus line names in the PublishedLineName column\n",
    "df_resampled.PublishedLineName.describe()"
   ]
  },
  {
   "cell_type": "code",
   "execution_count": 117,
   "metadata": {},
   "outputs": [
    {
     "data": {
      "text/plain": [
       "count     399202\n",
       "unique       305\n",
       "top          B41\n",
       "freq        7546\n",
       "Name: PublishedLineName, dtype: object"
      ]
     },
     "execution_count": 117,
     "metadata": {},
     "output_type": "execute_result"
    }
   ],
   "source": [
    "#Using the subset of the data for the buses that did not make it on time, and getting the total number of unique bus line\n",
    "#names in this subset of the data.\n",
    "df_NotOntime.PublishedLineName.describe()"
   ]
  },
  {
   "cell_type": "code",
   "execution_count": 118,
   "metadata": {},
   "outputs": [
    {
     "data": {
      "text/plain": [
       "count     399202\n",
       "unique       236\n",
       "top           B6\n",
       "freq        8562\n",
       "Name: PublishedLineName, dtype: object"
      ]
     },
     "execution_count": 118,
     "metadata": {},
     "output_type": "execute_result"
    }
   ],
   "source": [
    "#Using the subset of the data for the buses that did make it on time, and getting the total number of unique bus line \n",
    "#names in this subset of the data\n",
    "df_Ontime.PublishedLineName.describe()"
   ]
  },
  {
   "cell_type": "markdown",
   "metadata": {},
   "source": [
    "There are 69 Bus lines that never made it on time to their destination."
   ]
  },
  {
   "cell_type": "code",
   "execution_count": 120,
   "metadata": {},
   "outputs": [
    {
     "data": {
      "text/plain": [
       "on_time  PublishedLineName\n",
       "0        B41                  7546\n",
       "         B35                  7485\n",
       "         Q58                  6954\n",
       "         M101                 6371\n",
       "         Bx36                 6210\n",
       "         B15                  6066\n",
       "         Q44-SBS              5789\n",
       "         Bx15                 5764\n",
       "         B6                   5753\n",
       "         M15-SBS              5733\n",
       "         B46                  5367\n",
       "         B82                  5340\n",
       "         M60-SBS              5124\n",
       "         M4                   4943\n",
       "         M7                   4750\n",
       "         M3                   4687\n",
       "         B38                  4537\n",
       "         Bx12-SBS             4408\n",
       "         M15                  4273\n",
       "         Bx6                  4247\n",
       "         M1                   3990\n",
       "         B44                  3870\n",
       "         Q32                  3861\n",
       "         M2                   3797\n",
       "         Q54                  3789\n",
       "         Q27                  3775\n",
       "         Q17                  3529\n",
       "         X1                   3516\n",
       "         B25                  3435\n",
       "         M102                 3431\n",
       "                              ... \n",
       "1        X8                    290\n",
       "         Q26                   279\n",
       "         X38                   270\n",
       "         X10B                  258\n",
       "         X19                   256\n",
       "         S89                   254\n",
       "         X31                   251\n",
       "         X37                   250\n",
       "         X30                   248\n",
       "         B84                   233\n",
       "         X4                    214\n",
       "         S91                   206\n",
       "         X64                   193\n",
       "         X68                   193\n",
       "         S98                   189\n",
       "         X3                    178\n",
       "         Bx20                  175\n",
       "         X11                   173\n",
       "         S96                   171\n",
       "         S42                   164\n",
       "         X42                   136\n",
       "         S94                   130\n",
       "         B39                   123\n",
       "         S90                   114\n",
       "         S92                    94\n",
       "         X21                    94\n",
       "         X22A                   68\n",
       "         S81                    40\n",
       "         S84                    40\n",
       "         S86                    11\n",
       "Name: PublishedLineName, Length: 541, dtype: int64"
      ]
     },
     "execution_count": 120,
     "metadata": {},
     "output_type": "execute_result"
    }
   ],
   "source": [
    "df_resampled.groupby('on_time').PublishedLineName.value_counts()"
   ]
  },
  {
   "cell_type": "code",
   "execution_count": 66,
   "metadata": {},
   "outputs": [
    {
     "data": {
      "text/plain": [
       "Text(0.5, 0, 'Latitude')"
      ]
     },
     "execution_count": 66,
     "metadata": {},
     "output_type": "execute_result"
    },
    {
     "data": {
      "image/png": "[encoded data removed]",
      "text/plain": [
       "<Figure size 1440x720 with 2 Axes>"
      ]
     },
     "metadata": {
      "needs_background": "light"
     },
     "output_type": "display_data"
    }
   ],
   "source": [
    "#making two scatter plots to show the Origin locations of buses on time, and not on time, using Origin latitude \n",
    "#and Origin longitude\n",
    "\n",
    "#setting figure size\n",
    "f = plt.figure(figsize=(20,10))\n",
    "\n",
    "#making a plot figure that will have one row with two plots in each row\n",
    "f.add_subplot(1, 2, 1)\n",
    "sns.scatterplot(x=df_NotOntime.OriginLat, y=df_NotOntime.OriginLong)\n",
    "plt.title(\"Origin Locations for buses Not On Time\")\n",
    "plt.ylabel('Longitude')\n",
    "plt.xlabel('Latitude')\n",
    "\n",
    "f.add_subplot(1, 2, 2)\n",
    "sns.scatterplot(x=df_Ontime.OriginLat, y=df_Ontime.OriginLong)\n",
    "plt.title('Origin Locations for buses On Time')\n",
    "plt.ylabel('Longitude')\n",
    "plt.xlabel('Latitude')\n"
   ]
  },
  {
   "cell_type": "code",
   "execution_count": 67,
   "metadata": {},
   "outputs": [
    {
     "data": {
      "text/plain": [
       "Text(0.5, 0, 'Latitude')"
      ]
     },
     "execution_count": 67,
     "metadata": {},
     "output_type": "execute_result"
    },
    {
     "data": {
      "image/png": "[encoded data removed]",
      "text/plain": [
       "<Figure size 1440x720 with 2 Axes>"
      ]
     },
     "metadata": {
      "needs_background": "light"
     },
     "output_type": "display_data"
    }
   ],
   "source": [
    "#making two scatter plots to show the Destination locations of buses on time, and not on time, using Destination latitude \n",
    "#and Destination longitude\n",
    "\n",
    "#setting figure size\n",
    "f = plt.figure(figsize=(20,10))\n",
    "\n",
    "#making a plot figure that will have one row with two plots in each row\n",
    "f.add_subplot(1, 2, 1)\n",
    "sns.scatterplot(x=df_NotOntime.DestinationLat, y=df_NotOntime.DestinationLong)\n",
    "plt.title(\"Destination Locations for buses Not On Time\")\n",
    "plt.ylabel('Longitude')\n",
    "plt.xlabel('Latitude')\n",
    "\n",
    "f.add_subplot(1, 2, 2)\n",
    "sns.scatterplot(x=df_Ontime.DestinationLat, y=df_Ontime.DestinationLong)\n",
    "plt.title('Destination Locations for buses On Time')\n",
    "plt.ylabel('Longitude')\n",
    "plt.xlabel('Latitude')\n",
    "\n",
    "#hue=df_NotOntime.PublishedLineName[:15]"
   ]
  },
  {
   "cell_type": "markdown",
   "metadata": {},
   "source": [
    "The two sets of scatterplot show the origin locations and destination locations using latitude and longitude for all buses, on time and those not on time, from the dataset.  As you can see, they are near identical for both scenarios, meaning that both scenarios have many common locations between them, and that location in and of itself is not the sole reason for a bus to be on time or not on time.\n",
    "\n",
    "The box plots below show, show the scheduled hours of arrival for each bus stop.  On the left we have \"Scheduled Hours of the day for buses Not On Time\", and on the right we have \"Scheduled Hours of the day for buses On Time\".  As we can see, the median hour for the buses not on time is about 15, which is closer to the late afternoon rush hours.  But the median hour for the buses on time is closer to twelve, which is not close to either the morning or late afternoon rush hours.  \n",
    "\n",
    "Also something important to note is that for those buses that are not on time, the first quartile (25% of the instances) is at about hour number eleven, which is significantly higher than the first quartile for those buses that were on time, which is at hour number eight.  This may suggest that for those buses that were not on time, the average hour is higher and closer to the later hours in the afternoon when there is probably more traffic on the road versus the average hour for those buses that were on time.\n",
    "\n",
    "This insight may provide support for the idea that traffic is the differentiating factor on whether or not a bus is on time."
   ]
  },
  {
   "cell_type": "code",
   "execution_count": 68,
   "metadata": {},
   "outputs": [
    {
     "data": {
      "text/plain": [
       "Text(0.5, 1.0, 'Scheduled Hours of the day for buses On Time')"
      ]
     },
     "execution_count": 68,
     "metadata": {},
     "output_type": "execute_result"
    },
    {
     "data": {
      "image/png": "[encoded data removed]",
      "text/plain": [
       "<Figure size 1440x720 with 2 Axes>"
      ]
     },
     "metadata": {
      "needs_background": "light"
     },
     "output_type": "display_data"
    }
   ],
   "source": [
    "#Making a boxplot for the Scheduled_HourOfDay column for both subsets of our data, df_Ontime and df_NotOntime.\n",
    "\n",
    "#setting figure size\n",
    "f = plt.figure(figsize=(20,10))\n",
    "\n",
    "#making a plot figure that will have one row with two plots in each row\n",
    "f.add_subplot(1, 2, 1)\n",
    "sns.boxplot(x=df_NotOntime.on_time, y=df_NotOntime.Scheduled_HourOfDay, data=df_NotOntime)\n",
    "plt.title(\"Scheduled Hours of the day for buses Not On Time\")\n",
    "\n",
    "\n",
    "f.add_subplot(1, 2, 2)\n",
    "sns.boxplot(x=df_Ontime.on_time, y=df_Ontime.Scheduled_HourOfDay, data=df_Ontime)\n",
    "plt.title(\"Scheduled Hours of the day for buses On Time\")\n"
   ]
  },
  {
   "cell_type": "code",
   "execution_count": 70,
   "metadata": {},
   "outputs": [
    {
     "name": "stdout",
     "output_type": "stream",
     "text": [
      "13.943547377017149\n"
     ]
    }
   ],
   "source": [
    "print(np.mean(df_NotOntime['Scheduled_HourOfDay']))"
   ]
  },
  {
   "cell_type": "code",
   "execution_count": 71,
   "metadata": {},
   "outputs": [
    {
     "name": "stdout",
     "output_type": "stream",
     "text": [
      "12.257886984534146\n"
     ]
    }
   ],
   "source": [
    "print(np.mean(df_Ontime['Scheduled_HourOfDay']))"
   ]
  },
  {
   "cell_type": "markdown",
   "metadata": {},
   "source": [
    "As expected, the average of the scheduled arrival hour for the buses not on time is higher, at 13.94, versus the average of the scheduled arrival hour for the buses that were on time, which is 12.26"
   ]
  },
  {
   "cell_type": "code",
   "execution_count": 72,
   "metadata": {},
   "outputs": [
    {
     "data": {
      "text/plain": [
       "Index(['RecordedAtTime', 'DirectionRef', 'PublishedLineName', 'OriginName',\n",
       "       'OriginLat', 'OriginLong', 'DestinationName', 'DestinationLat',\n",
       "       'DestinationLong', 'VehicleRef', 'VehicleLocation.Latitude',\n",
       "       'VehicleLocation.Longitude', 'NextStopPointName',\n",
       "       'ArrivalProximityText', 'DistanceFromStop', 'ExpectedArrivalTime',\n",
       "       'ScheduledArrivalTime', 'Unnamed: 17', 'expected_date',\n",
       "       'Scheduled_datetime', 'Expected_datetime', 'delay',\n",
       "       'Scheduled_HourOfDay', 'delay_second', 'delay_minute', 'delay_days',\n",
       "       'source', 'destination', 'dist', 'Vehicle_location2',\n",
       "       'VehicleToDestination', 'on_time'],\n",
       "      dtype='object')"
      ]
     },
     "execution_count": 72,
     "metadata": {},
     "output_type": "execute_result"
    }
   ],
   "source": [
    "df_resampled.columns"
   ]
  },
  {
   "cell_type": "code",
   "execution_count": 73,
   "metadata": {},
   "outputs": [],
   "source": [
    "#dropping some columns and splitting the data and creating the initial train and test splits.\n",
    "df_X = df_resampled.drop(['RecordedAtTime', 'ArrivalProximityText', 'Unnamed: 17', 'PublishedLineName', 'VehicleRef', \n",
    "                 'NextStopPointName', 'ExpectedArrivalTime', 'ScheduledArrivalTime', 'on_time', 'OriginName', \n",
    "                 'DestinationName','source', 'destination', 'Vehicle_location2', 'DistanceFromStop', 'Scheduled_datetime', \n",
    "                 'Expected_datetime', 'delay', 'delay_second', 'delay_minute', 'delay_days', 'source', \n",
    "                 'destination', 'expected_date'], 1)\n",
    "\n",
    "#getting dummy values for categorical data, and creating dataframe of the independent (predictor) values\n",
    "#XD_df = pd.get_dummies(X, columns=['OriginName', 'DestinationName'])\n",
    "\n",
    "\n",
    "Y = df_resampled['on_time']\n",
    "\n"
   ]
  },
  {
   "cell_type": "code",
   "execution_count": 74,
   "metadata": {},
   "outputs": [
    {
     "data": {
      "text/html": [
       "<div>\n",
       "<style scoped>\n",
       "    .dataframe tbody tr th:only-of-type {\n",
       "        vertical-align: middle;\n",
       "    }\n",
       "\n",
       "    .dataframe tbody tr th {\n",
       "        vertical-align: top;\n",
       "    }\n",
       "\n",
       "    .dataframe thead th {\n",
       "        text-align: right;\n",
       "    }\n",
       "</style>\n",
       "<table border=\"1\" class=\"dataframe\">\n",
       "  <thead>\n",
       "    <tr style=\"text-align: right;\">\n",
       "      <th></th>\n",
       "      <th>DirectionRef</th>\n",
       "      <th>OriginLat</th>\n",
       "      <th>OriginLong</th>\n",
       "      <th>DestinationLat</th>\n",
       "      <th>DestinationLong</th>\n",
       "      <th>VehicleLocation.Latitude</th>\n",
       "      <th>VehicleLocation.Longitude</th>\n",
       "      <th>Scheduled_HourOfDay</th>\n",
       "      <th>dist</th>\n",
       "      <th>VehicleToDestination</th>\n",
       "    </tr>\n",
       "  </thead>\n",
       "  <tbody>\n",
       "    <tr>\n",
       "      <th>0</th>\n",
       "      <td>0</td>\n",
       "      <td>40.840866</td>\n",
       "      <td>-73.842453</td>\n",
       "      <td>40.902779</td>\n",
       "      <td>-73.868317</td>\n",
       "      <td>40.882358</td>\n",
       "      <td>-73.844777</td>\n",
       "      <td>6</td>\n",
       "      <td>7.212940</td>\n",
       "      <td>3.012997</td>\n",
       "    </tr>\n",
       "    <tr>\n",
       "      <th>1</th>\n",
       "      <td>0</td>\n",
       "      <td>40.702171</td>\n",
       "      <td>-74.013535</td>\n",
       "      <td>40.803150</td>\n",
       "      <td>-73.932266</td>\n",
       "      <td>40.704322</td>\n",
       "      <td>-74.008629</td>\n",
       "      <td>10</td>\n",
       "      <td>13.147141</td>\n",
       "      <td>12.729131</td>\n",
       "    </tr>\n",
       "    <tr>\n",
       "      <th>2</th>\n",
       "      <td>1</td>\n",
       "      <td>40.858330</td>\n",
       "      <td>-73.925385</td>\n",
       "      <td>40.730038</td>\n",
       "      <td>-73.991310</td>\n",
       "      <td>40.753933</td>\n",
       "      <td>-73.980558</td>\n",
       "      <td>18</td>\n",
       "      <td>15.294704</td>\n",
       "      <td>2.804613</td>\n",
       "    </tr>\n",
       "    <tr>\n",
       "      <th>3</th>\n",
       "      <td>0</td>\n",
       "      <td>40.602039</td>\n",
       "      <td>-74.190697</td>\n",
       "      <td>40.643585</td>\n",
       "      <td>-74.072609</td>\n",
       "      <td>40.637747</td>\n",
       "      <td>-74.076282</td>\n",
       "      <td>2</td>\n",
       "      <td>11.005471</td>\n",
       "      <td>0.718900</td>\n",
       "    </tr>\n",
       "    <tr>\n",
       "      <th>4</th>\n",
       "      <td>1</td>\n",
       "      <td>40.884968</td>\n",
       "      <td>-73.900475</td>\n",
       "      <td>40.849010</td>\n",
       "      <td>-73.936890</td>\n",
       "      <td>40.849771</td>\n",
       "      <td>-73.916443</td>\n",
       "      <td>16</td>\n",
       "      <td>5.036865</td>\n",
       "      <td>1.726292</td>\n",
       "    </tr>\n",
       "  </tbody>\n",
       "</table>\n",
       "</div>"
      ],
      "text/plain": [
       "   DirectionRef  OriginLat  OriginLong  DestinationLat  DestinationLong  \\\n",
       "0             0  40.840866  -73.842453       40.902779       -73.868317   \n",
       "1             0  40.702171  -74.013535       40.803150       -73.932266   \n",
       "2             1  40.858330  -73.925385       40.730038       -73.991310   \n",
       "3             0  40.602039  -74.190697       40.643585       -74.072609   \n",
       "4             1  40.884968  -73.900475       40.849010       -73.936890   \n",
       "\n",
       "   VehicleLocation.Latitude  VehicleLocation.Longitude  Scheduled_HourOfDay  \\\n",
       "0                 40.882358                 -73.844777                    6   \n",
       "1                 40.704322                 -74.008629                   10   \n",
       "2                 40.753933                 -73.980558                   18   \n",
       "3                 40.637747                 -74.076282                    2   \n",
       "4                 40.849771                 -73.916443                   16   \n",
       "\n",
       "        dist  VehicleToDestination  \n",
       "0   7.212940              3.012997  \n",
       "1  13.147141             12.729131  \n",
       "2  15.294704              2.804613  \n",
       "3  11.005471              0.718900  \n",
       "4   5.036865              1.726292  "
      ]
     },
     "execution_count": 74,
     "metadata": {},
     "output_type": "execute_result"
    }
   ],
   "source": [
    "#examining the dataframe with the predictor variables\n",
    "df_X.head()"
   ]
  },
  {
   "cell_type": "code",
   "execution_count": 75,
   "metadata": {},
   "outputs": [
    {
     "data": {
      "text/plain": [
       "(798404, 10)"
      ]
     },
     "execution_count": 75,
     "metadata": {},
     "output_type": "execute_result"
    }
   ],
   "source": [
    "#checking shape of X\n",
    "df_X.shape"
   ]
  },
  {
   "cell_type": "code",
   "execution_count": 76,
   "metadata": {},
   "outputs": [
    {
     "data": {
      "text/plain": [
       "0"
      ]
     },
     "execution_count": 76,
     "metadata": {},
     "output_type": "execute_result"
    }
   ],
   "source": [
    "#checking which column has NaN value\n",
    "df_X.isnull().sum().sum()"
   ]
  },
  {
   "cell_type": "code",
   "execution_count": 77,
   "metadata": {},
   "outputs": [
    {
     "data": {
      "text/plain": [
       "(798404,)"
      ]
     },
     "execution_count": 77,
     "metadata": {},
     "output_type": "execute_result"
    }
   ],
   "source": [
    "#checking the shape of outcome variable Y.\n",
    "Y.shape"
   ]
  },
  {
   "cell_type": "code",
   "execution_count": 78,
   "metadata": {},
   "outputs": [
    {
     "name": "stdout",
     "output_type": "stream",
     "text": [
      "(199601, 10)\n",
      "(199601,)\n"
     ]
    }
   ],
   "source": [
    "#creating initial train_test_split, before PCA\n",
    "train_X, test_X, train_Y, test_Y = train_test_split(df_X, Y, test_size=.25)\n",
    "print(test_X.shape)\n",
    "print(test_Y.shape)\n",
    "\n",
    "#checking for any NaN values in our data.\n",
    "#print(np.isnan(train_Y).any())\n",
    "#print(np.isnan(train_X).any().sum())\n",
    "#print(np.isnan(test_Y).any())\n",
    "#print(np.isnan(test_X).any().sum())"
   ]
  },
  {
   "cell_type": "code",
   "execution_count": 79,
   "metadata": {},
   "outputs": [
    {
     "name": "stdout",
     "output_type": "stream",
     "text": [
      "Accuracy score for decision tree Model: 0.6517151717676765\n",
      "\n",
      "Duration: 0:00:03.582391\n",
      "\n",
      "[0.65142406 0.65203777 0.65405812 0.64981212 0.65157816 0.64933617\n",
      " 0.65339429 0.65336924 0.65142786 0.64971192]\n",
      "Average cross validated score from our decision tree model is: 0.6516149712879831\n"
     ]
    }
   ],
   "source": [
    "# Create the first model by Initializing and training the decision tree\n",
    "decision_tree = tree.DecisionTreeClassifier(\n",
    "    criterion='entropy',\n",
    "    max_features=10,\n",
    "    max_depth=10,\n",
    "    min_samples_split=10\n",
    ")\n",
    "\n",
    "#set start time\n",
    "start_time_tree = datetime.datetime.now()\n",
    "\n",
    "#train our tree\n",
    "decision_tree.fit(train_X, train_Y)\n",
    "\n",
    "# Classify, storing the result in a new variable.\n",
    "y_pred_dtree = decision_tree.predict(test_X)\n",
    "\n",
    "#get accuracy score from our model\n",
    "print('Accuracy score for decision tree Model: ' + str(metrics.accuracy_score(test_Y, y_pred_dtree)))\n",
    "\n",
    "#calculate end time\n",
    "end_time_tree = datetime.datetime.now()\n",
    "\n",
    "#print the execution run time for our model\n",
    "print('\\nDuration: {}'.format(end_time_tree - start_time_tree))\n",
    "print()\n",
    "\n",
    "#get accuracy score of decision tree\n",
    "tree_score = cross_val_score(decision_tree, df_X, Y, cv=10, scoring='accuracy')\n",
    "print(tree_score)\n",
    "print('Average cross validated score from our decision tree model is: ' + str(np.mean(tree_score)))"
   ]
  },
  {
   "cell_type": "markdown",
   "metadata": {},
   "source": [
    "# Logistic Regression"
   ]
  },
  {
   "cell_type": "code",
   "execution_count": 80,
   "metadata": {},
   "outputs": [
    {
     "name": "stderr",
     "output_type": "stream",
     "text": [
      "C:\\Users\\sajee\\AppData\\Local\\Continuum\\anaconda3\\lib\\site-packages\\sklearn\\linear_model\\logistic.py:433: FutureWarning: Default solver will be changed to 'lbfgs' in 0.22. Specify a solver to silence this warning.\n",
      "  FutureWarning)\n"
     ]
    },
    {
     "name": "stdout",
     "output_type": "stream",
     "text": [
      "Accuracy score for Logistic regression Model: 0.6145109493439411\n",
      "\n",
      "Duration: 0:00:17.593938\n",
      "\n"
     ]
    },
    {
     "name": "stderr",
     "output_type": "stream",
     "text": [
      "C:\\Users\\sajee\\AppData\\Local\\Continuum\\anaconda3\\lib\\site-packages\\sklearn\\linear_model\\logistic.py:433: FutureWarning: Default solver will be changed to 'lbfgs' in 0.22. Specify a solver to silence this warning.\n",
      "  FutureWarning)\n",
      "C:\\Users\\sajee\\AppData\\Local\\Continuum\\anaconda3\\lib\\site-packages\\sklearn\\linear_model\\logistic.py:433: FutureWarning: Default solver will be changed to 'lbfgs' in 0.22. Specify a solver to silence this warning.\n",
      "  FutureWarning)\n",
      "C:\\Users\\sajee\\AppData\\Local\\Continuum\\anaconda3\\lib\\site-packages\\sklearn\\linear_model\\logistic.py:433: FutureWarning: Default solver will be changed to 'lbfgs' in 0.22. Specify a solver to silence this warning.\n",
      "  FutureWarning)\n",
      "C:\\Users\\sajee\\AppData\\Local\\Continuum\\anaconda3\\lib\\site-packages\\sklearn\\linear_model\\logistic.py:433: FutureWarning: Default solver will be changed to 'lbfgs' in 0.22. Specify a solver to silence this warning.\n",
      "  FutureWarning)\n",
      "C:\\Users\\sajee\\AppData\\Local\\Continuum\\anaconda3\\lib\\site-packages\\sklearn\\linear_model\\logistic.py:433: FutureWarning: Default solver will be changed to 'lbfgs' in 0.22. Specify a solver to silence this warning.\n",
      "  FutureWarning)\n",
      "C:\\Users\\sajee\\AppData\\Local\\Continuum\\anaconda3\\lib\\site-packages\\sklearn\\linear_model\\logistic.py:433: FutureWarning: Default solver will be changed to 'lbfgs' in 0.22. Specify a solver to silence this warning.\n",
      "  FutureWarning)\n",
      "C:\\Users\\sajee\\AppData\\Local\\Continuum\\anaconda3\\lib\\site-packages\\sklearn\\linear_model\\logistic.py:433: FutureWarning: Default solver will be changed to 'lbfgs' in 0.22. Specify a solver to silence this warning.\n",
      "  FutureWarning)\n",
      "C:\\Users\\sajee\\AppData\\Local\\Continuum\\anaconda3\\lib\\site-packages\\sklearn\\linear_model\\logistic.py:433: FutureWarning: Default solver will be changed to 'lbfgs' in 0.22. Specify a solver to silence this warning.\n",
      "  FutureWarning)\n",
      "C:\\Users\\sajee\\AppData\\Local\\Continuum\\anaconda3\\lib\\site-packages\\sklearn\\linear_model\\logistic.py:433: FutureWarning: Default solver will be changed to 'lbfgs' in 0.22. Specify a solver to silence this warning.\n",
      "  FutureWarning)\n",
      "C:\\Users\\sajee\\AppData\\Local\\Continuum\\anaconda3\\lib\\site-packages\\sklearn\\linear_model\\logistic.py:433: FutureWarning: Default solver will be changed to 'lbfgs' in 0.22. Specify a solver to silence this warning.\n",
      "  FutureWarning)\n"
     ]
    },
    {
     "name": "stdout",
     "output_type": "stream",
     "text": [
      "[0.61319857 0.61170812 0.61470441 0.61337675 0.61093437 0.61206162\n",
      " 0.61108467 0.61161072 0.61531814 0.60940631]\n",
      "Average cross validated score from our log regression model is: 0.6123403684702137\n"
     ]
    }
   ],
   "source": [
    "#initialize and train our model\n",
    "LogReg = LogisticRegression(C=1e9, random_state=12)\n",
    "\n",
    "#set start time\n",
    "start_time4 = datetime.datetime.now()\n",
    "\n",
    "#fit and train the model\n",
    "LogReg.fit(train_X, train_Y)\n",
    "\n",
    "# Classify, storing the result in a new variable.\n",
    "y_pred_LogReg = LogReg.predict(test_X)\n",
    "\n",
    "#get accuracy score from our model\n",
    "print('Accuracy score for Logistic regression Model: ' + str(metrics.accuracy_score(test_Y, y_pred_LogReg)))\n",
    "\n",
    "#calculate end time\n",
    "end_time4 = datetime.datetime.now()\n",
    "\n",
    "#print the execution run time for our model\n",
    "print('\\nDuration: {}'.format(end_time4 - start_time4))\n",
    "print()\n",
    "\n",
    "#get average accuracy score using cross validation\n",
    "LogReg_cvs = cross_val_score(LogReg, df_X, Y, cv=10, scoring='accuracy')\n",
    "print(LogReg_cvs)\n",
    "\n",
    "print('Average cross validated score from our log regression model is: ' + str(np.mean(LogReg_cvs)))"
   ]
  },
  {
   "cell_type": "markdown",
   "metadata": {},
   "source": [
    "# PCA"
   ]
  },
  {
   "cell_type": "code",
   "execution_count": 81,
   "metadata": {},
   "outputs": [
    {
     "name": "stderr",
     "output_type": "stream",
     "text": [
      "C:\\Users\\sajee\\AppData\\Local\\Continuum\\anaconda3\\lib\\site-packages\\sklearn\\preprocessing\\data.py:625: DataConversionWarning: Data with input dtype int64, float64 were all converted to float64 by StandardScaler.\n",
      "  return self.partial_fit(X, y)\n",
      "C:\\Users\\sajee\\AppData\\Local\\Continuum\\anaconda3\\lib\\site-packages\\sklearn\\base.py:462: DataConversionWarning: Data with input dtype int64, float64 were all converted to float64 by StandardScaler.\n",
      "  return self.fit(X, **fit_params).transform(X)\n"
     ]
    }
   ],
   "source": [
    "# Normalize the data so that all variables have a mean of 0 and standard deviation\n",
    "# o\n",
    "\n",
    "X_scaled = StandardScaler().fit_transform(df_X)"
   ]
  },
  {
   "cell_type": "code",
   "execution_count": 82,
   "metadata": {},
   "outputs": [
    {
     "name": "stdout",
     "output_type": "stream",
     "text": [
      "7\n",
      "[0.39469367 0.14998777 0.13275981 0.1299811  0.0997486  0.04255881\n",
      " 0.02226347]\n"
     ]
    }
   ],
   "source": [
    "#Apply PCA\n",
    "\n",
    "pca = PCA(.95)\n",
    "df_X_pca = pca.fit_transform(X_scaled)\n",
    "\n",
    "comp_no = pca.n_components_\n",
    "comp_var_ratio = pca.explained_variance_ratio_\n",
    "\n",
    "print(comp_no)\n",
    "print(comp_var_ratio)\n",
    "#print(p_components)"
   ]
  },
  {
   "cell_type": "code",
   "execution_count": 83,
   "metadata": {},
   "outputs": [
    {
     "name": "stdout",
     "output_type": "stream",
     "text": [
      "          0         1         2         3         4         5         6\n",
      "0 -3.115439  0.834798 -1.014553  0.439529  1.357570  0.142962 -0.558017\n",
      "1  1.128728  1.225426 -0.988465  1.725572  0.552224 -0.732007 -0.130463\n",
      "2  0.032555  1.471604  1.236777 -0.471148 -0.806150  1.147802  0.295875\n",
      "3  3.540825  0.096092 -2.204431 -0.995445  1.994740  0.677572  0.484262\n",
      "4 -2.218849  1.448646  0.484104 -1.342245 -0.381099 -0.087619  0.096974\n",
      "(798404, 7)\n"
     ]
    }
   ],
   "source": [
    "#pca data to dataframe\n",
    "pca_df = pd.DataFrame(data=df_X_pca)\n",
    "print(pca_df.head())\n",
    "print(pca_df.shape)"
   ]
  },
  {
   "cell_type": "code",
   "execution_count": 85,
   "metadata": {},
   "outputs": [
    {
     "name": "stdout",
     "output_type": "stream",
     "text": [
      "(200000, 7)\n",
      "(200000,)\n"
     ]
    }
   ],
   "source": [
    "#subset dataframe X to include only the first 600,000 rows.\n",
    "df_X_SmallSet = pca_df.iloc[:200000, :]\n",
    "print(df_X_SmallSet.shape)\n",
    "\n",
    "#getting a smaller sample set for output variable Y \n",
    "Y_SmallSet = Y[:200000]\n",
    "print(Y_SmallSet.shape)"
   ]
  },
  {
   "cell_type": "code",
   "execution_count": 86,
   "metadata": {},
   "outputs": [
    {
     "data": {
      "text/plain": [
       "{0, 1}"
      ]
     },
     "execution_count": 86,
     "metadata": {},
     "output_type": "execute_result"
    }
   ],
   "source": [
    "#checking the values in Y\n",
    "set(Y_SmallSet)"
   ]
  },
  {
   "cell_type": "code",
   "execution_count": 95,
   "metadata": {},
   "outputs": [
    {
     "name": "stdout",
     "output_type": "stream",
     "text": [
      "(199601, 7)\n",
      "(199601,)\n"
     ]
    }
   ],
   "source": [
    "#creating a train test split based on PCA and full data set.\n",
    "train_X_PCA, test_X_PCA, train_Y_PCA, test_Y_PCA = train_test_split(pca_df, Y, test_size=.25)\n",
    "print(test_X_PCA.shape)\n",
    "print(test_Y_PCA.shape)"
   ]
  },
  {
   "cell_type": "code",
   "execution_count": 87,
   "metadata": {},
   "outputs": [
    {
     "name": "stdout",
     "output_type": "stream",
     "text": [
      "(50000, 7)\n",
      "(50000,)\n"
     ]
    }
   ],
   "source": [
    "#creating a second train test split based on PCA and small data set.\n",
    "train_X_SmallPCA, test_X_SmallPCA, train_Y_SmallPCA, test_Y_SmallPCA = train_test_split(df_X_SmallSet, Y_SmallSet, test_size=.25)\n",
    "print(test_X_SmallPCA.shape)\n",
    "print(test_Y_SmallPCA.shape)"
   ]
  },
  {
   "cell_type": "markdown",
   "metadata": {},
   "source": [
    "# Random Forest"
   ]
  },
  {
   "cell_type": "code",
   "execution_count": 88,
   "metadata": {},
   "outputs": [
    {
     "name": "stdout",
     "output_type": "stream",
     "text": [
      "Fitting 10 folds for each of 36 candidates, totalling 360 fits\n",
      "[CV] criterion=entropy, max_depth=4, max_features=2, min_samples_split=6, n_estimators=100 \n"
     ]
    },
    {
     "name": "stderr",
     "output_type": "stream",
     "text": [
      "[Parallel(n_jobs=1)]: Using backend SequentialBackend with 1 concurrent workers.\n"
     ]
    },
    {
     "name": "stdout",
     "output_type": "stream",
     "text": [
      "[CV]  criterion=entropy, max_depth=4, max_features=2, min_samples_split=6, n_estimators=100, score=0.6311579228051464, total=  12.7s\n",
      "[CV] criterion=entropy, max_depth=4, max_features=2, min_samples_split=6, n_estimators=100 \n"
     ]
    },
    {
     "name": "stderr",
     "output_type": "stream",
     "text": [
      "[Parallel(n_jobs=1)]: Done   1 out of   1 | elapsed:   13.5s remaining:    0.0s\n"
     ]
    },
    {
     "name": "stdout",
     "output_type": "stream",
     "text": [
      "[CV]  criterion=entropy, max_depth=4, max_features=2, min_samples_split=6, n_estimators=100, score=0.625491633891074, total=  12.7s\n",
      "[CV] criterion=entropy, max_depth=4, max_features=2, min_samples_split=6, n_estimators=100 \n"
     ]
    },
    {
     "name": "stderr",
     "output_type": "stream",
     "text": [
      "[Parallel(n_jobs=1)]: Done   2 out of   2 | elapsed:   27.1s remaining:    0.0s\n"
     ]
    },
    {
     "name": "stdout",
     "output_type": "stream",
     "text": [
      "[CV]  criterion=entropy, max_depth=4, max_features=2, min_samples_split=6, n_estimators=100, score=0.6290247316845544, total=  12.6s\n",
      "[CV] criterion=entropy, max_depth=4, max_features=2, min_samples_split=6, n_estimators=100 \n",
      "[CV]  criterion=entropy, max_depth=4, max_features=2, min_samples_split=6, n_estimators=100, score=0.6285333333333334, total=  12.6s\n",
      "[CV] criterion=entropy, max_depth=4, max_features=2, min_samples_split=6, n_estimators=100 \n",
      "[CV]  criterion=entropy, max_depth=4, max_features=2, min_samples_split=6, n_estimators=100, score=0.633, total=  13.0s\n",
      "[CV] criterion=entropy, max_depth=4, max_features=2, min_samples_split=6, n_estimators=100 \n",
      "[CV]  criterion=entropy, max_depth=4, max_features=2, min_samples_split=6, n_estimators=100, score=0.6265333333333334, total=  12.6s\n",
      "[CV] criterion=entropy, max_depth=4, max_features=2, min_samples_split=6, n_estimators=100 \n",
      "[CV]  criterion=entropy, max_depth=4, max_features=2, min_samples_split=6, n_estimators=100, score=0.6288, total=  12.6s\n",
      "[CV] criterion=entropy, max_depth=4, max_features=2, min_samples_split=6, n_estimators=100 \n",
      "[CV]  criterion=entropy, max_depth=4, max_features=2, min_samples_split=6, n_estimators=100, score=0.6265084338955931, total=  12.6s\n",
      "[CV] criterion=entropy, max_depth=4, max_features=2, min_samples_split=6, n_estimators=100 \n",
      "[CV]  criterion=entropy, max_depth=4, max_features=2, min_samples_split=6, n_estimators=100, score=0.6331088739249283, total=  12.6s\n",
      "[CV] criterion=entropy, max_depth=4, max_features=2, min_samples_split=6, n_estimators=100 \n",
      "[CV]  criterion=entropy, max_depth=4, max_features=2, min_samples_split=6, n_estimators=100, score=0.628841922794853, total=  12.7s\n",
      "[CV] criterion=entropy, max_depth=4, max_features=2, min_samples_split=8, n_estimators=100 \n",
      "[CV]  criterion=entropy, max_depth=4, max_features=2, min_samples_split=8, n_estimators=100, score=0.6310912605826279, total=  12.6s\n",
      "[CV] criterion=entropy, max_depth=4, max_features=2, min_samples_split=8, n_estimators=100 \n",
      "[CV]  criterion=entropy, max_depth=4, max_features=2, min_samples_split=8, n_estimators=100, score=0.626824878341444, total=  12.6s\n",
      "[CV] criterion=entropy, max_depth=4, max_features=2, min_samples_split=8, n_estimators=100 \n",
      "[CV]  criterion=entropy, max_depth=4, max_features=2, min_samples_split=8, n_estimators=100, score=0.6290247316845544, total=  12.7s\n",
      "[CV] criterion=entropy, max_depth=4, max_features=2, min_samples_split=8, n_estimators=100 \n",
      "[CV]  criterion=entropy, max_depth=4, max_features=2, min_samples_split=8, n_estimators=100, score=0.6285333333333334, total=  12.6s\n",
      "[CV] criterion=entropy, max_depth=4, max_features=2, min_samples_split=8, n_estimators=100 \n",
      "[CV]  criterion=entropy, max_depth=4, max_features=2, min_samples_split=8, n_estimators=100, score=0.633, total=  12.6s\n",
      "[CV] criterion=entropy, max_depth=4, max_features=2, min_samples_split=8, n_estimators=100 \n",
      "[CV]  criterion=entropy, max_depth=4, max_features=2, min_samples_split=8, n_estimators=100, score=0.6265333333333334, total=  12.6s\n",
      "[CV] criterion=entropy, max_depth=4, max_features=2, min_samples_split=8, n_estimators=100 \n",
      "[CV]  criterion=entropy, max_depth=4, max_features=2, min_samples_split=8, n_estimators=100, score=0.6284, total=  12.7s\n",
      "[CV] criterion=entropy, max_depth=4, max_features=2, min_samples_split=8, n_estimators=100 \n",
      "[CV]  criterion=entropy, max_depth=4, max_features=2, min_samples_split=8, n_estimators=100, score=0.626975131675445, total=  12.6s\n",
      "[CV] criterion=entropy, max_depth=4, max_features=2, min_samples_split=8, n_estimators=100 \n",
      "[CV]  criterion=entropy, max_depth=4, max_features=2, min_samples_split=8, n_estimators=100, score=0.6331088739249283, total=  12.6s\n",
      "[CV] criterion=entropy, max_depth=4, max_features=2, min_samples_split=8, n_estimators=100 \n",
      "[CV]  criterion=entropy, max_depth=4, max_features=2, min_samples_split=8, n_estimators=100, score=0.628841922794853, total=  12.6s\n",
      "[CV] criterion=entropy, max_depth=4, max_features=2, min_samples_split=10, n_estimators=100 \n",
      "[CV]  criterion=entropy, max_depth=4, max_features=2, min_samples_split=10, n_estimators=100, score=0.6310912605826279, total=  12.7s\n",
      "[CV] criterion=entropy, max_depth=4, max_features=2, min_samples_split=10, n_estimators=100 \n",
      "[CV]  criterion=entropy, max_depth=4, max_features=2, min_samples_split=10, n_estimators=100, score=0.626824878341444, total=  12.7s\n",
      "[CV] criterion=entropy, max_depth=4, max_features=2, min_samples_split=10, n_estimators=100 \n",
      "[CV]  criterion=entropy, max_depth=4, max_features=2, min_samples_split=10, n_estimators=100, score=0.6290247316845544, total=  12.7s\n",
      "[CV] criterion=entropy, max_depth=4, max_features=2, min_samples_split=10, n_estimators=100 \n",
      "[CV]  criterion=entropy, max_depth=4, max_features=2, min_samples_split=10, n_estimators=100, score=0.6281333333333333, total=  12.7s\n",
      "[CV] criterion=entropy, max_depth=4, max_features=2, min_samples_split=10, n_estimators=100 \n",
      "[CV]  criterion=entropy, max_depth=4, max_features=2, min_samples_split=10, n_estimators=100, score=0.6328, total=  12.6s\n",
      "[CV] criterion=entropy, max_depth=4, max_features=2, min_samples_split=10, n_estimators=100 \n",
      "[CV]  criterion=entropy, max_depth=4, max_features=2, min_samples_split=10, n_estimators=100, score=0.6261333333333333, total=  12.7s\n",
      "[CV] criterion=entropy, max_depth=4, max_features=2, min_samples_split=10, n_estimators=100 \n",
      "[CV]  criterion=entropy, max_depth=4, max_features=2, min_samples_split=10, n_estimators=100, score=0.6284, total=  12.6s\n",
      "[CV] criterion=entropy, max_depth=4, max_features=2, min_samples_split=10, n_estimators=100 \n",
      "[CV]  criterion=entropy, max_depth=4, max_features=2, min_samples_split=10, n_estimators=100, score=0.6268417894526301, total=  12.6s\n",
      "[CV] criterion=entropy, max_depth=4, max_features=2, min_samples_split=10, n_estimators=100 \n",
      "[CV]  criterion=entropy, max_depth=4, max_features=2, min_samples_split=10, n_estimators=100, score=0.6335755717047803, total=  12.6s\n",
      "[CV] criterion=entropy, max_depth=4, max_features=2, min_samples_split=10, n_estimators=100 \n",
      "[CV]  criterion=entropy, max_depth=4, max_features=2, min_samples_split=10, n_estimators=100, score=0.6282418827921862, total=  12.6s\n",
      "[CV] criterion=entropy, max_depth=4, max_features=4, min_samples_split=6, n_estimators=100 \n",
      "[CV]  criterion=entropy, max_depth=4, max_features=4, min_samples_split=6, n_estimators=100, score=0.6268915405639625, total=  23.3s\n",
      "[CV] criterion=entropy, max_depth=4, max_features=4, min_samples_split=6, n_estimators=100 \n",
      "[CV]  criterion=entropy, max_depth=4, max_features=4, min_samples_split=6, n_estimators=100, score=0.6247583494433704, total=  23.6s\n",
      "[CV] criterion=entropy, max_depth=4, max_features=4, min_samples_split=6, n_estimators=100 \n",
      "[CV]  criterion=entropy, max_depth=4, max_features=4, min_samples_split=6, n_estimators=100, score=0.625491633891074, total=  23.3s\n",
      "[CV] criterion=entropy, max_depth=4, max_features=4, min_samples_split=6, n_estimators=100 \n",
      "[CV]  criterion=entropy, max_depth=4, max_features=4, min_samples_split=6, n_estimators=100, score=0.6259333333333333, total=  23.4s\n",
      "[CV] criterion=entropy, max_depth=4, max_features=4, min_samples_split=6, n_estimators=100 \n",
      "[CV]  criterion=entropy, max_depth=4, max_features=4, min_samples_split=6, n_estimators=100, score=0.6314, total=  23.3s\n",
      "[CV] criterion=entropy, max_depth=4, max_features=4, min_samples_split=6, n_estimators=100 \n",
      "[CV]  criterion=entropy, max_depth=4, max_features=4, min_samples_split=6, n_estimators=100, score=0.6216666666666667, total=  23.3s\n",
      "[CV] criterion=entropy, max_depth=4, max_features=4, min_samples_split=6, n_estimators=100 \n",
      "[CV]  criterion=entropy, max_depth=4, max_features=4, min_samples_split=6, n_estimators=100, score=0.6193333333333333, total=  23.4s\n",
      "[CV] criterion=entropy, max_depth=4, max_features=4, min_samples_split=6, n_estimators=100 \n",
      "[CV]  criterion=entropy, max_depth=4, max_features=4, min_samples_split=6, n_estimators=100, score=0.6221748116541103, total=  23.3s\n",
      "[CV] criterion=entropy, max_depth=4, max_features=4, min_samples_split=6, n_estimators=100 \n",
      "[CV]  criterion=entropy, max_depth=4, max_features=4, min_samples_split=6, n_estimators=100, score=0.6265084338955931, total=  23.3s\n",
      "[CV] criterion=entropy, max_depth=4, max_features=4, min_samples_split=6, n_estimators=100 \n"
     ]
    },
    {
     "name": "stdout",
     "output_type": "stream",
     "text": [
      "[CV]  criterion=entropy, max_depth=4, max_features=4, min_samples_split=6, n_estimators=100, score=0.6199746649776652, total=  23.5s\n",
      "[CV] criterion=entropy, max_depth=4, max_features=4, min_samples_split=8, n_estimators=100 \n",
      "[CV]  criterion=entropy, max_depth=4, max_features=4, min_samples_split=8, n_estimators=100, score=0.6268915405639625, total=  23.4s\n",
      "[CV] criterion=entropy, max_depth=4, max_features=4, min_samples_split=8, n_estimators=100 \n",
      "[CV]  criterion=entropy, max_depth=4, max_features=4, min_samples_split=8, n_estimators=100, score=0.6245583627758149, total=  23.4s\n",
      "[CV] criterion=entropy, max_depth=4, max_features=4, min_samples_split=8, n_estimators=100 \n",
      "[CV]  criterion=entropy, max_depth=4, max_features=4, min_samples_split=8, n_estimators=100, score=0.625624958336111, total=  23.3s\n",
      "[CV] criterion=entropy, max_depth=4, max_features=4, min_samples_split=8, n_estimators=100 \n",
      "[CV]  criterion=entropy, max_depth=4, max_features=4, min_samples_split=8, n_estimators=100, score=0.6259333333333333, total=  23.4s\n",
      "[CV] criterion=entropy, max_depth=4, max_features=4, min_samples_split=8, n_estimators=100 \n",
      "[CV]  criterion=entropy, max_depth=4, max_features=4, min_samples_split=8, n_estimators=100, score=0.6314, total=  23.3s\n",
      "[CV] criterion=entropy, max_depth=4, max_features=4, min_samples_split=8, n_estimators=100 \n",
      "[CV]  criterion=entropy, max_depth=4, max_features=4, min_samples_split=8, n_estimators=100, score=0.6216666666666667, total=  23.3s\n",
      "[CV] criterion=entropy, max_depth=4, max_features=4, min_samples_split=8, n_estimators=100 \n",
      "[CV]  criterion=entropy, max_depth=4, max_features=4, min_samples_split=8, n_estimators=100, score=0.6193333333333333, total=  23.3s\n",
      "[CV] criterion=entropy, max_depth=4, max_features=4, min_samples_split=8, n_estimators=100 \n",
      "[CV]  criterion=entropy, max_depth=4, max_features=4, min_samples_split=8, n_estimators=100, score=0.6221081405427028, total=  23.3s\n",
      "[CV] criterion=entropy, max_depth=4, max_features=4, min_samples_split=8, n_estimators=100 \n",
      "[CV]  criterion=entropy, max_depth=4, max_features=4, min_samples_split=8, n_estimators=100, score=0.6264417627841856, total=  23.4s\n",
      "[CV] criterion=entropy, max_depth=4, max_features=4, min_samples_split=8, n_estimators=100 \n",
      "[CV]  criterion=entropy, max_depth=4, max_features=4, min_samples_split=8, n_estimators=100, score=0.6199746649776652, total=  23.3s\n",
      "[CV] criterion=entropy, max_depth=4, max_features=4, min_samples_split=10, n_estimators=100 \n",
      "[CV]  criterion=entropy, max_depth=4, max_features=4, min_samples_split=10, n_estimators=100, score=0.626291580561296, total=  23.3s\n",
      "[CV] criterion=entropy, max_depth=4, max_features=4, min_samples_split=10, n_estimators=100 \n",
      "[CV]  criterion=entropy, max_depth=4, max_features=4, min_samples_split=10, n_estimators=100, score=0.6246250249983334, total=  23.4s\n",
      "[CV] criterion=entropy, max_depth=4, max_features=4, min_samples_split=10, n_estimators=100 \n",
      "[CV]  criterion=entropy, max_depth=4, max_features=4, min_samples_split=10, n_estimators=100, score=0.625891607226185, total=  23.4s\n",
      "[CV] criterion=entropy, max_depth=4, max_features=4, min_samples_split=10, n_estimators=100 \n",
      "[CV]  criterion=entropy, max_depth=4, max_features=4, min_samples_split=10, n_estimators=100, score=0.6259333333333333, total=  23.3s\n",
      "[CV] criterion=entropy, max_depth=4, max_features=4, min_samples_split=10, n_estimators=100 \n",
      "[CV]  criterion=entropy, max_depth=4, max_features=4, min_samples_split=10, n_estimators=100, score=0.6324666666666666, total=  23.3s\n",
      "[CV] criterion=entropy, max_depth=4, max_features=4, min_samples_split=10, n_estimators=100 \n",
      "[CV]  criterion=entropy, max_depth=4, max_features=4, min_samples_split=10, n_estimators=100, score=0.6216666666666667, total=  23.3s\n",
      "[CV] criterion=entropy, max_depth=4, max_features=4, min_samples_split=10, n_estimators=100 \n",
      "[CV]  criterion=entropy, max_depth=4, max_features=4, min_samples_split=10, n_estimators=100, score=0.6193333333333333, total=  23.3s\n",
      "[CV] criterion=entropy, max_depth=4, max_features=4, min_samples_split=10, n_estimators=100 \n",
      "[CV]  criterion=entropy, max_depth=4, max_features=4, min_samples_split=10, n_estimators=100, score=0.6221081405427028, total=  23.2s\n",
      "[CV] criterion=entropy, max_depth=4, max_features=4, min_samples_split=10, n_estimators=100 \n",
      "[CV]  criterion=entropy, max_depth=4, max_features=4, min_samples_split=10, n_estimators=100, score=0.6264417627841856, total=  23.4s\n",
      "[CV] criterion=entropy, max_depth=4, max_features=4, min_samples_split=10, n_estimators=100 \n",
      "[CV]  criterion=entropy, max_depth=4, max_features=4, min_samples_split=10, n_estimators=100, score=0.6200413360890726, total=  23.3s\n",
      "[CV] criterion=entropy, max_depth=4, max_features=6, min_samples_split=6, n_estimators=100 \n",
      "[CV]  criterion=entropy, max_depth=4, max_features=6, min_samples_split=6, n_estimators=100, score=0.6252916472235185, total=  34.0s\n",
      "[CV] criterion=entropy, max_depth=4, max_features=6, min_samples_split=6, n_estimators=100 \n",
      "[CV]  criterion=entropy, max_depth=4, max_features=6, min_samples_split=6, n_estimators=100, score=0.6220918605426304, total=  34.1s\n",
      "[CV] criterion=entropy, max_depth=4, max_features=6, min_samples_split=6, n_estimators=100 \n",
      "[CV]  criterion=entropy, max_depth=4, max_features=6, min_samples_split=6, n_estimators=100, score=0.6231584561029264, total=  34.1s\n",
      "[CV] criterion=entropy, max_depth=4, max_features=6, min_samples_split=6, n_estimators=100 \n",
      "[CV]  criterion=entropy, max_depth=4, max_features=6, min_samples_split=6, n_estimators=100, score=0.6248, total=  34.0s\n",
      "[CV] criterion=entropy, max_depth=4, max_features=6, min_samples_split=6, n_estimators=100 \n",
      "[CV]  criterion=entropy, max_depth=4, max_features=6, min_samples_split=6, n_estimators=100, score=0.6325333333333333, total=  34.0s\n",
      "[CV] criterion=entropy, max_depth=4, max_features=6, min_samples_split=6, n_estimators=100 \n",
      "[CV]  criterion=entropy, max_depth=4, max_features=6, min_samples_split=6, n_estimators=100, score=0.6179333333333333, total=  34.0s\n",
      "[CV] criterion=entropy, max_depth=4, max_features=6, min_samples_split=6, n_estimators=100 \n",
      "[CV]  criterion=entropy, max_depth=4, max_features=6, min_samples_split=6, n_estimators=100, score=0.618, total=  34.1s\n",
      "[CV] criterion=entropy, max_depth=4, max_features=6, min_samples_split=6, n_estimators=100 \n",
      "[CV]  criterion=entropy, max_depth=4, max_features=6, min_samples_split=6, n_estimators=100, score=0.6201746783118874, total=  34.0s\n",
      "[CV] criterion=entropy, max_depth=4, max_features=6, min_samples_split=6, n_estimators=100 \n",
      "[CV]  criterion=entropy, max_depth=4, max_features=6, min_samples_split=6, n_estimators=100, score=0.6236415761050736, total=  34.0s\n",
      "[CV] criterion=entropy, max_depth=4, max_features=6, min_samples_split=6, n_estimators=100 \n",
      "[CV]  criterion=entropy, max_depth=4, max_features=6, min_samples_split=6, n_estimators=100, score=0.6194412960864057, total=  34.1s\n",
      "[CV] criterion=entropy, max_depth=4, max_features=6, min_samples_split=8, n_estimators=100 \n",
      "[CV]  criterion=entropy, max_depth=4, max_features=6, min_samples_split=8, n_estimators=100, score=0.6252916472235185, total=  34.0s\n",
      "[CV] criterion=entropy, max_depth=4, max_features=6, min_samples_split=8, n_estimators=100 \n",
      "[CV]  criterion=entropy, max_depth=4, max_features=6, min_samples_split=8, n_estimators=100, score=0.6220918605426304, total=  34.1s\n",
      "[CV] criterion=entropy, max_depth=4, max_features=6, min_samples_split=8, n_estimators=100 \n",
      "[CV]  criterion=entropy, max_depth=4, max_features=6, min_samples_split=8, n_estimators=100, score=0.6231584561029264, total=  34.2s\n",
      "[CV] criterion=entropy, max_depth=4, max_features=6, min_samples_split=8, n_estimators=100 \n",
      "[CV]  criterion=entropy, max_depth=4, max_features=6, min_samples_split=8, n_estimators=100, score=0.6248, total=  34.1s\n",
      "[CV] criterion=entropy, max_depth=4, max_features=6, min_samples_split=8, n_estimators=100 \n",
      "[CV]  criterion=entropy, max_depth=4, max_features=6, min_samples_split=8, n_estimators=100, score=0.6325333333333333, total=  34.0s\n",
      "[CV] criterion=entropy, max_depth=4, max_features=6, min_samples_split=8, n_estimators=100 \n",
      "[CV]  criterion=entropy, max_depth=4, max_features=6, min_samples_split=8, n_estimators=100, score=0.6179333333333333, total=  33.9s\n",
      "[CV] criterion=entropy, max_depth=4, max_features=6, min_samples_split=8, n_estimators=100 \n"
     ]
    },
    {
     "name": "stdout",
     "output_type": "stream",
     "text": [
      "[CV]  criterion=entropy, max_depth=4, max_features=6, min_samples_split=8, n_estimators=100, score=0.618, total=  34.0s\n",
      "[CV] criterion=entropy, max_depth=4, max_features=6, min_samples_split=8, n_estimators=100 \n",
      "[CV]  criterion=entropy, max_depth=4, max_features=6, min_samples_split=8, n_estimators=100, score=0.6201746783118874, total=  34.2s\n",
      "[CV] criterion=entropy, max_depth=4, max_features=6, min_samples_split=8, n_estimators=100 \n",
      "[CV]  criterion=entropy, max_depth=4, max_features=6, min_samples_split=8, n_estimators=100, score=0.6236415761050736, total=  34.0s\n",
      "[CV] criterion=entropy, max_depth=4, max_features=6, min_samples_split=8, n_estimators=100 \n",
      "[CV]  criterion=entropy, max_depth=4, max_features=6, min_samples_split=8, n_estimators=100, score=0.6194412960864057, total=  34.1s\n",
      "[CV] criterion=entropy, max_depth=4, max_features=6, min_samples_split=10, n_estimators=100 \n",
      "[CV]  criterion=entropy, max_depth=4, max_features=6, min_samples_split=10, n_estimators=100, score=0.6252916472235185, total=  34.1s\n",
      "[CV] criterion=entropy, max_depth=4, max_features=6, min_samples_split=10, n_estimators=100 \n",
      "[CV]  criterion=entropy, max_depth=4, max_features=6, min_samples_split=10, n_estimators=100, score=0.6220918605426304, total=  34.1s\n",
      "[CV] criterion=entropy, max_depth=4, max_features=6, min_samples_split=10, n_estimators=100 \n",
      "[CV]  criterion=entropy, max_depth=4, max_features=6, min_samples_split=10, n_estimators=100, score=0.6231584561029264, total=  33.9s\n",
      "[CV] criterion=entropy, max_depth=4, max_features=6, min_samples_split=10, n_estimators=100 \n",
      "[CV]  criterion=entropy, max_depth=4, max_features=6, min_samples_split=10, n_estimators=100, score=0.6248, total=  34.0s\n",
      "[CV] criterion=entropy, max_depth=4, max_features=6, min_samples_split=10, n_estimators=100 \n",
      "[CV]  criterion=entropy, max_depth=4, max_features=6, min_samples_split=10, n_estimators=100, score=0.6325333333333333, total=  34.0s\n",
      "[CV] criterion=entropy, max_depth=4, max_features=6, min_samples_split=10, n_estimators=100 \n",
      "[CV]  criterion=entropy, max_depth=4, max_features=6, min_samples_split=10, n_estimators=100, score=0.6179333333333333, total=  33.9s\n",
      "[CV] criterion=entropy, max_depth=4, max_features=6, min_samples_split=10, n_estimators=100 \n",
      "[CV]  criterion=entropy, max_depth=4, max_features=6, min_samples_split=10, n_estimators=100, score=0.618, total=  34.1s\n",
      "[CV] criterion=entropy, max_depth=4, max_features=6, min_samples_split=10, n_estimators=100 \n",
      "[CV]  criterion=entropy, max_depth=4, max_features=6, min_samples_split=10, n_estimators=100, score=0.6201746783118874, total=  34.0s\n",
      "[CV] criterion=entropy, max_depth=4, max_features=6, min_samples_split=10, n_estimators=100 \n",
      "[CV]  criterion=entropy, max_depth=4, max_features=6, min_samples_split=10, n_estimators=100, score=0.6236415761050736, total=  34.0s\n",
      "[CV] criterion=entropy, max_depth=4, max_features=6, min_samples_split=10, n_estimators=100 \n",
      "[CV]  criterion=entropy, max_depth=4, max_features=6, min_samples_split=10, n_estimators=100, score=0.6194412960864057, total=  34.1s\n",
      "[CV] criterion=entropy, max_depth=6, max_features=2, min_samples_split=6, n_estimators=100 \n",
      "[CV]  criterion=entropy, max_depth=6, max_features=2, min_samples_split=6, n_estimators=100, score=0.6426904873008467, total=  17.9s\n",
      "[CV] criterion=entropy, max_depth=6, max_features=2, min_samples_split=6, n_estimators=100 \n",
      "[CV]  criterion=entropy, max_depth=6, max_features=2, min_samples_split=6, n_estimators=100, score=0.6406239584027732, total=  17.8s\n",
      "[CV] criterion=entropy, max_depth=6, max_features=2, min_samples_split=6, n_estimators=100 \n",
      "[CV]  criterion=entropy, max_depth=6, max_features=2, min_samples_split=6, n_estimators=100, score=0.6390907272848477, total=  17.8s\n",
      "[CV] criterion=entropy, max_depth=6, max_features=2, min_samples_split=6, n_estimators=100 \n",
      "[CV]  criterion=entropy, max_depth=6, max_features=2, min_samples_split=6, n_estimators=100, score=0.6384666666666666, total=  17.8s\n",
      "[CV] criterion=entropy, max_depth=6, max_features=2, min_samples_split=6, n_estimators=100 \n",
      "[CV]  criterion=entropy, max_depth=6, max_features=2, min_samples_split=6, n_estimators=100, score=0.6428666666666667, total=  17.8s\n",
      "[CV] criterion=entropy, max_depth=6, max_features=2, min_samples_split=6, n_estimators=100 \n",
      "[CV]  criterion=entropy, max_depth=6, max_features=2, min_samples_split=6, n_estimators=100, score=0.6375333333333333, total=  17.9s\n",
      "[CV] criterion=entropy, max_depth=6, max_features=2, min_samples_split=6, n_estimators=100 \n",
      "[CV]  criterion=entropy, max_depth=6, max_features=2, min_samples_split=6, n_estimators=100, score=0.6428666666666667, total=  17.7s\n",
      "[CV] criterion=entropy, max_depth=6, max_features=2, min_samples_split=6, n_estimators=100 \n",
      "[CV]  criterion=entropy, max_depth=6, max_features=2, min_samples_split=6, n_estimators=100, score=0.6364424294952997, total=  17.8s\n",
      "[CV] criterion=entropy, max_depth=6, max_features=2, min_samples_split=6, n_estimators=100 \n",
      "[CV]  criterion=entropy, max_depth=6, max_features=2, min_samples_split=6, n_estimators=100, score=0.6423761584105607, total=  17.9s\n",
      "[CV] criterion=entropy, max_depth=6, max_features=2, min_samples_split=6, n_estimators=100 \n",
      "[CV]  criterion=entropy, max_depth=6, max_features=2, min_samples_split=6, n_estimators=100, score=0.6387759183945596, total=  17.9s\n",
      "[CV] criterion=entropy, max_depth=6, max_features=2, min_samples_split=8, n_estimators=100 \n",
      "[CV]  criterion=entropy, max_depth=6, max_features=2, min_samples_split=8, n_estimators=100, score=0.6430237984134392, total=  17.8s\n",
      "[CV] criterion=entropy, max_depth=6, max_features=2, min_samples_split=8, n_estimators=100 \n",
      "[CV]  criterion=entropy, max_depth=6, max_features=2, min_samples_split=8, n_estimators=100, score=0.6405572961802547, total=  17.9s\n",
      "[CV] criterion=entropy, max_depth=6, max_features=2, min_samples_split=8, n_estimators=100 \n",
      "[CV]  criterion=entropy, max_depth=6, max_features=2, min_samples_split=8, n_estimators=100, score=0.6388907406172922, total=  17.9s\n",
      "[CV] criterion=entropy, max_depth=6, max_features=2, min_samples_split=8, n_estimators=100 \n",
      "[CV]  criterion=entropy, max_depth=6, max_features=2, min_samples_split=8, n_estimators=100, score=0.6374, total=  17.8s\n",
      "[CV] criterion=entropy, max_depth=6, max_features=2, min_samples_split=8, n_estimators=100 \n",
      "[CV]  criterion=entropy, max_depth=6, max_features=2, min_samples_split=8, n_estimators=100, score=0.6438666666666667, total=  17.9s\n",
      "[CV] criterion=entropy, max_depth=6, max_features=2, min_samples_split=8, n_estimators=100 \n",
      "[CV]  criterion=entropy, max_depth=6, max_features=2, min_samples_split=8, n_estimators=100, score=0.6369333333333334, total=  17.8s\n",
      "[CV] criterion=entropy, max_depth=6, max_features=2, min_samples_split=8, n_estimators=100 \n",
      "[CV]  criterion=entropy, max_depth=6, max_features=2, min_samples_split=8, n_estimators=100, score=0.6428666666666667, total=  17.8s\n",
      "[CV] criterion=entropy, max_depth=6, max_features=2, min_samples_split=8, n_estimators=100 \n",
      "[CV]  criterion=entropy, max_depth=6, max_features=2, min_samples_split=8, n_estimators=100, score=0.6364424294952997, total=  17.9s\n",
      "[CV] criterion=entropy, max_depth=6, max_features=2, min_samples_split=8, n_estimators=100 \n",
      "[CV]  criterion=entropy, max_depth=6, max_features=2, min_samples_split=8, n_estimators=100, score=0.6426428428561904, total=  17.9s\n",
      "[CV] criterion=entropy, max_depth=6, max_features=2, min_samples_split=8, n_estimators=100 \n",
      "[CV]  criterion=entropy, max_depth=6, max_features=2, min_samples_split=8, n_estimators=100, score=0.6383092206147076, total=  17.9s\n",
      "[CV] criterion=entropy, max_depth=6, max_features=2, min_samples_split=10, n_estimators=100 \n",
      "[CV]  criterion=entropy, max_depth=6, max_features=2, min_samples_split=10, n_estimators=100, score=0.6434237717485501, total=  17.9s\n",
      "[CV] criterion=entropy, max_depth=6, max_features=2, min_samples_split=10, n_estimators=100 \n",
      "[CV]  criterion=entropy, max_depth=6, max_features=2, min_samples_split=10, n_estimators=100, score=0.6397573495100327, total=  17.8s\n",
      "[CV] criterion=entropy, max_depth=6, max_features=2, min_samples_split=10, n_estimators=100 \n",
      "[CV]  criterion=entropy, max_depth=6, max_features=2, min_samples_split=10, n_estimators=100, score=0.6396906872875142, total=  18.0s\n",
      "[CV] criterion=entropy, max_depth=6, max_features=2, min_samples_split=10, n_estimators=100 \n"
     ]
    },
    {
     "name": "stdout",
     "output_type": "stream",
     "text": [
      "[CV]  criterion=entropy, max_depth=6, max_features=2, min_samples_split=10, n_estimators=100, score=0.6384, total=  17.9s\n",
      "[CV] criterion=entropy, max_depth=6, max_features=2, min_samples_split=10, n_estimators=100 \n",
      "[CV]  criterion=entropy, max_depth=6, max_features=2, min_samples_split=10, n_estimators=100, score=0.6424666666666666, total=  17.9s\n",
      "[CV] criterion=entropy, max_depth=6, max_features=2, min_samples_split=10, n_estimators=100 \n",
      "[CV]  criterion=entropy, max_depth=6, max_features=2, min_samples_split=10, n_estimators=100, score=0.637, total=  17.9s\n",
      "[CV] criterion=entropy, max_depth=6, max_features=2, min_samples_split=10, n_estimators=100 \n",
      "[CV]  criterion=entropy, max_depth=6, max_features=2, min_samples_split=10, n_estimators=100, score=0.6449333333333334, total=  17.8s\n",
      "[CV] criterion=entropy, max_depth=6, max_features=2, min_samples_split=10, n_estimators=100 \n",
      "[CV]  criterion=entropy, max_depth=6, max_features=2, min_samples_split=10, n_estimators=100, score=0.6367757850523368, total=  17.9s\n",
      "[CV] criterion=entropy, max_depth=6, max_features=2, min_samples_split=10, n_estimators=100 \n",
      "[CV]  criterion=entropy, max_depth=6, max_features=2, min_samples_split=10, n_estimators=100, score=0.643042869524635, total=  17.8s\n",
      "[CV] criterion=entropy, max_depth=6, max_features=2, min_samples_split=10, n_estimators=100 \n",
      "[CV]  criterion=entropy, max_depth=6, max_features=2, min_samples_split=10, n_estimators=100, score=0.6385759050603373, total=  17.8s\n",
      "[CV] criterion=entropy, max_depth=6, max_features=4, min_samples_split=6, n_estimators=100 \n",
      "[CV]  criterion=entropy, max_depth=6, max_features=4, min_samples_split=6, n_estimators=100, score=0.6340243983734418, total=  33.5s\n",
      "[CV] criterion=entropy, max_depth=6, max_features=4, min_samples_split=6, n_estimators=100 \n",
      "[CV]  criterion=entropy, max_depth=6, max_features=4, min_samples_split=6, n_estimators=100, score=0.6324911672555164, total=  33.5s\n",
      "[CV] criterion=entropy, max_depth=6, max_features=4, min_samples_split=6, n_estimators=100 \n",
      "[CV]  criterion=entropy, max_depth=6, max_features=4, min_samples_split=6, n_estimators=100, score=0.6330911272581828, total=  33.4s\n",
      "[CV] criterion=entropy, max_depth=6, max_features=4, min_samples_split=6, n_estimators=100 \n",
      "[CV]  criterion=entropy, max_depth=6, max_features=4, min_samples_split=6, n_estimators=100, score=0.6372, total=  33.4s\n",
      "[CV] criterion=entropy, max_depth=6, max_features=4, min_samples_split=6, n_estimators=100 \n",
      "[CV]  criterion=entropy, max_depth=6, max_features=4, min_samples_split=6, n_estimators=100, score=0.6414, total=  33.4s\n",
      "[CV] criterion=entropy, max_depth=6, max_features=4, min_samples_split=6, n_estimators=100 \n",
      "[CV]  criterion=entropy, max_depth=6, max_features=4, min_samples_split=6, n_estimators=100, score=0.633, total=  33.5s\n",
      "[CV] criterion=entropy, max_depth=6, max_features=4, min_samples_split=6, n_estimators=100 \n",
      "[CV]  criterion=entropy, max_depth=6, max_features=4, min_samples_split=6, n_estimators=100, score=0.6304, total=  33.4s\n",
      "[CV] criterion=entropy, max_depth=6, max_features=4, min_samples_split=6, n_estimators=100 \n",
      "[CV]  criterion=entropy, max_depth=6, max_features=4, min_samples_split=6, n_estimators=100, score=0.6331755450363358, total=  33.5s\n",
      "[CV] criterion=entropy, max_depth=6, max_features=4, min_samples_split=6, n_estimators=100 \n",
      "[CV]  criterion=entropy, max_depth=6, max_features=4, min_samples_split=6, n_estimators=100, score=0.6303753583572238, total=  33.4s\n",
      "[CV] criterion=entropy, max_depth=6, max_features=4, min_samples_split=6, n_estimators=100 \n",
      "[CV]  criterion=entropy, max_depth=6, max_features=4, min_samples_split=6, n_estimators=100, score=0.6287752516834456, total=  33.6s\n",
      "[CV] criterion=entropy, max_depth=6, max_features=4, min_samples_split=8, n_estimators=100 \n",
      "[CV]  criterion=entropy, max_depth=6, max_features=4, min_samples_split=8, n_estimators=100, score=0.6348910072661823, total=  33.2s\n",
      "[CV] criterion=entropy, max_depth=6, max_features=4, min_samples_split=8, n_estimators=100 \n",
      "[CV]  criterion=entropy, max_depth=6, max_features=4, min_samples_split=8, n_estimators=100, score=0.6323578428104794, total=  33.6s\n",
      "[CV] criterion=entropy, max_depth=6, max_features=4, min_samples_split=8, n_estimators=100 \n",
      "[CV]  criterion=entropy, max_depth=6, max_features=4, min_samples_split=8, n_estimators=100, score=0.6326244917005533, total=  33.5s\n",
      "[CV] criterion=entropy, max_depth=6, max_features=4, min_samples_split=8, n_estimators=100 \n",
      "[CV]  criterion=entropy, max_depth=6, max_features=4, min_samples_split=8, n_estimators=100, score=0.6372, total=  33.4s\n",
      "[CV] criterion=entropy, max_depth=6, max_features=4, min_samples_split=8, n_estimators=100 \n",
      "[CV]  criterion=entropy, max_depth=6, max_features=4, min_samples_split=8, n_estimators=100, score=0.6413333333333333, total=  33.6s\n",
      "[CV] criterion=entropy, max_depth=6, max_features=4, min_samples_split=8, n_estimators=100 \n",
      "[CV]  criterion=entropy, max_depth=6, max_features=4, min_samples_split=8, n_estimators=100, score=0.6326666666666667, total=  33.4s\n",
      "[CV] criterion=entropy, max_depth=6, max_features=4, min_samples_split=8, n_estimators=100 \n",
      "[CV]  criterion=entropy, max_depth=6, max_features=4, min_samples_split=8, n_estimators=100, score=0.6299333333333333, total=  33.6s\n",
      "[CV] criterion=entropy, max_depth=6, max_features=4, min_samples_split=8, n_estimators=100 \n",
      "[CV]  criterion=entropy, max_depth=6, max_features=4, min_samples_split=8, n_estimators=100, score=0.6331755450363358, total=  33.4s\n",
      "[CV] criterion=entropy, max_depth=6, max_features=4, min_samples_split=8, n_estimators=100 \n",
      "[CV]  criterion=entropy, max_depth=6, max_features=4, min_samples_split=8, n_estimators=100, score=0.631175411694113, total=  33.5s\n",
      "[CV] criterion=entropy, max_depth=6, max_features=4, min_samples_split=8, n_estimators=100 \n",
      "[CV]  criterion=entropy, max_depth=6, max_features=4, min_samples_split=8, n_estimators=100, score=0.6295086339089273, total=  33.5s\n",
      "[CV] criterion=entropy, max_depth=6, max_features=4, min_samples_split=10, n_estimators=100 \n",
      "[CV]  criterion=entropy, max_depth=6, max_features=4, min_samples_split=10, n_estimators=100, score=0.6340910605959603, total=  33.6s\n",
      "[CV] criterion=entropy, max_depth=6, max_features=4, min_samples_split=10, n_estimators=100 \n",
      "[CV]  criterion=entropy, max_depth=6, max_features=4, min_samples_split=10, n_estimators=100, score=0.6320911939204054, total=  33.6s\n",
      "[CV] criterion=entropy, max_depth=6, max_features=4, min_samples_split=10, n_estimators=100 \n",
      "[CV]  criterion=entropy, max_depth=6, max_features=4, min_samples_split=10, n_estimators=100, score=0.6332911139257383, total=  33.4s\n",
      "[CV] criterion=entropy, max_depth=6, max_features=4, min_samples_split=10, n_estimators=100 \n",
      "[CV]  criterion=entropy, max_depth=6, max_features=4, min_samples_split=10, n_estimators=100, score=0.6376666666666667, total=  33.5s\n",
      "[CV] criterion=entropy, max_depth=6, max_features=4, min_samples_split=10, n_estimators=100 \n",
      "[CV]  criterion=entropy, max_depth=6, max_features=4, min_samples_split=10, n_estimators=100, score=0.6412666666666667, total=  33.5s\n",
      "[CV] criterion=entropy, max_depth=6, max_features=4, min_samples_split=10, n_estimators=100 \n",
      "[CV]  criterion=entropy, max_depth=6, max_features=4, min_samples_split=10, n_estimators=100, score=0.633, total=  33.5s\n",
      "[CV] criterion=entropy, max_depth=6, max_features=4, min_samples_split=10, n_estimators=100 \n",
      "[CV]  criterion=entropy, max_depth=6, max_features=4, min_samples_split=10, n_estimators=100, score=0.6301333333333333, total=  33.5s\n",
      "[CV] criterion=entropy, max_depth=6, max_features=4, min_samples_split=10, n_estimators=100 \n",
      "[CV]  criterion=entropy, max_depth=6, max_features=4, min_samples_split=10, n_estimators=100, score=0.6327755183678911, total=  33.5s\n",
      "[CV] criterion=entropy, max_depth=6, max_features=4, min_samples_split=10, n_estimators=100 \n",
      "[CV]  criterion=entropy, max_depth=6, max_features=4, min_samples_split=10, n_estimators=100, score=0.6323088205880392, total=  33.5s\n",
      "[CV] criterion=entropy, max_depth=6, max_features=4, min_samples_split=10, n_estimators=100 \n",
      "[CV]  criterion=entropy, max_depth=6, max_features=4, min_samples_split=10, n_estimators=100, score=0.6297086472431496, total=  33.4s\n",
      "[CV] criterion=entropy, max_depth=6, max_features=6, min_samples_split=6, n_estimators=100 \n"
     ]
    },
    {
     "name": "stdout",
     "output_type": "stream",
     "text": [
      "[CV]  criterion=entropy, max_depth=6, max_features=6, min_samples_split=6, n_estimators=100, score=0.6344243717085528, total=  49.1s\n",
      "[CV] criterion=entropy, max_depth=6, max_features=6, min_samples_split=6, n_estimators=100 \n",
      "[CV]  criterion=entropy, max_depth=6, max_features=6, min_samples_split=6, n_estimators=100, score=0.6328244783681088, total=  49.5s\n",
      "[CV] criterion=entropy, max_depth=6, max_features=6, min_samples_split=6, n_estimators=100 \n",
      "[CV]  criterion=entropy, max_depth=6, max_features=6, min_samples_split=6, n_estimators=100, score=0.6339577361509233, total=  49.0s\n",
      "[CV] criterion=entropy, max_depth=6, max_features=6, min_samples_split=6, n_estimators=100 \n",
      "[CV]  criterion=entropy, max_depth=6, max_features=6, min_samples_split=6, n_estimators=100, score=0.6360666666666667, total=  49.1s\n",
      "[CV] criterion=entropy, max_depth=6, max_features=6, min_samples_split=6, n_estimators=100 \n",
      "[CV]  criterion=entropy, max_depth=6, max_features=6, min_samples_split=6, n_estimators=100, score=0.6386666666666667, total=  48.9s\n",
      "[CV] criterion=entropy, max_depth=6, max_features=6, min_samples_split=6, n_estimators=100 \n",
      "[CV]  criterion=entropy, max_depth=6, max_features=6, min_samples_split=6, n_estimators=100, score=0.6313333333333333, total=  48.9s\n",
      "[CV] criterion=entropy, max_depth=6, max_features=6, min_samples_split=6, n_estimators=100 \n",
      "[CV]  criterion=entropy, max_depth=6, max_features=6, min_samples_split=6, n_estimators=100, score=0.6317333333333334, total=  49.1s\n",
      "[CV] criterion=entropy, max_depth=6, max_features=6, min_samples_split=6, n_estimators=100 \n",
      "[CV]  criterion=entropy, max_depth=6, max_features=6, min_samples_split=6, n_estimators=100, score=0.6330422028135209, total=  49.1s\n",
      "[CV] criterion=entropy, max_depth=6, max_features=6, min_samples_split=6, n_estimators=100 \n",
      "[CV]  criterion=entropy, max_depth=6, max_features=6, min_samples_split=6, n_estimators=100, score=0.6307753850256683, total=  49.1s\n",
      "[CV] criterion=entropy, max_depth=6, max_features=6, min_samples_split=6, n_estimators=100 \n",
      "[CV]  criterion=entropy, max_depth=6, max_features=6, min_samples_split=6, n_estimators=100, score=0.6289085939062604, total=  49.1s\n",
      "[CV] criterion=entropy, max_depth=6, max_features=6, min_samples_split=8, n_estimators=100 \n",
      "[CV]  criterion=entropy, max_depth=6, max_features=6, min_samples_split=8, n_estimators=100, score=0.6342910472635158, total=  48.9s\n",
      "[CV] criterion=entropy, max_depth=6, max_features=6, min_samples_split=8, n_estimators=100 \n",
      "[CV]  criterion=entropy, max_depth=6, max_features=6, min_samples_split=8, n_estimators=100, score=0.6330911272581828, total=  49.1s\n",
      "[CV] criterion=entropy, max_depth=6, max_features=6, min_samples_split=8, n_estimators=100 \n",
      "[CV]  criterion=entropy, max_depth=6, max_features=6, min_samples_split=8, n_estimators=100, score=0.6336244250383308, total=  48.9s\n",
      "[CV] criterion=entropy, max_depth=6, max_features=6, min_samples_split=8, n_estimators=100 \n",
      "[CV]  criterion=entropy, max_depth=6, max_features=6, min_samples_split=8, n_estimators=100, score=0.6362, total=  50.1s\n",
      "[CV] criterion=entropy, max_depth=6, max_features=6, min_samples_split=8, n_estimators=100 \n",
      "[CV]  criterion=entropy, max_depth=6, max_features=6, min_samples_split=8, n_estimators=100, score=0.6388, total=  49.0s\n",
      "[CV] criterion=entropy, max_depth=6, max_features=6, min_samples_split=8, n_estimators=100 \n",
      "[CV]  criterion=entropy, max_depth=6, max_features=6, min_samples_split=8, n_estimators=100, score=0.6309333333333333, total=  49.0s\n",
      "[CV] criterion=entropy, max_depth=6, max_features=6, min_samples_split=8, n_estimators=100 \n",
      "[CV]  criterion=entropy, max_depth=6, max_features=6, min_samples_split=8, n_estimators=100, score=0.6318666666666667, total=  49.1s\n",
      "[CV] criterion=entropy, max_depth=6, max_features=6, min_samples_split=8, n_estimators=100 \n",
      "[CV]  criterion=entropy, max_depth=6, max_features=6, min_samples_split=8, n_estimators=100, score=0.6341756117074472, total=  49.1s\n",
      "[CV] criterion=entropy, max_depth=6, max_features=6, min_samples_split=8, n_estimators=100 \n",
      "[CV]  criterion=entropy, max_depth=6, max_features=6, min_samples_split=8, n_estimators=100, score=0.6313087539169278, total=  49.0s\n",
      "[CV] criterion=entropy, max_depth=6, max_features=6, min_samples_split=8, n_estimators=100 \n",
      "[CV]  criterion=entropy, max_depth=6, max_features=6, min_samples_split=8, n_estimators=100, score=0.6294419627975198, total=  49.2s\n",
      "[CV] criterion=entropy, max_depth=6, max_features=6, min_samples_split=10, n_estimators=100 \n",
      "[CV]  criterion=entropy, max_depth=6, max_features=6, min_samples_split=10, n_estimators=100, score=0.6340910605959603, total=  49.2s\n",
      "[CV] criterion=entropy, max_depth=6, max_features=6, min_samples_split=10, n_estimators=100 \n",
      "[CV]  criterion=entropy, max_depth=6, max_features=6, min_samples_split=10, n_estimators=100, score=0.6323578428104794, total=  49.1s\n",
      "[CV] criterion=entropy, max_depth=6, max_features=6, min_samples_split=10, n_estimators=100 \n",
      "[CV]  criterion=entropy, max_depth=6, max_features=6, min_samples_split=10, n_estimators=100, score=0.6336244250383308, total=  49.0s\n",
      "[CV] criterion=entropy, max_depth=6, max_features=6, min_samples_split=10, n_estimators=100 \n",
      "[CV]  criterion=entropy, max_depth=6, max_features=6, min_samples_split=10, n_estimators=100, score=0.6360666666666667, total=  49.0s\n",
      "[CV] criterion=entropy, max_depth=6, max_features=6, min_samples_split=10, n_estimators=100 \n",
      "[CV]  criterion=entropy, max_depth=6, max_features=6, min_samples_split=10, n_estimators=100, score=0.6392666666666666, total=  49.0s\n",
      "[CV] criterion=entropy, max_depth=6, max_features=6, min_samples_split=10, n_estimators=100 \n",
      "[CV]  criterion=entropy, max_depth=6, max_features=6, min_samples_split=10, n_estimators=100, score=0.6308666666666667, total=  49.1s\n",
      "[CV] criterion=entropy, max_depth=6, max_features=6, min_samples_split=10, n_estimators=100 \n",
      "[CV]  criterion=entropy, max_depth=6, max_features=6, min_samples_split=10, n_estimators=100, score=0.632, total=  48.9s\n",
      "[CV] criterion=entropy, max_depth=6, max_features=6, min_samples_split=10, n_estimators=100 \n",
      "[CV]  criterion=entropy, max_depth=6, max_features=6, min_samples_split=10, n_estimators=100, score=0.6337089139275952, total=  49.0s\n",
      "[CV] criterion=entropy, max_depth=6, max_features=6, min_samples_split=10, n_estimators=100 \n",
      "[CV]  criterion=entropy, max_depth=6, max_features=6, min_samples_split=10, n_estimators=100, score=0.6314420961397427, total=  49.3s\n",
      "[CV] criterion=entropy, max_depth=6, max_features=6, min_samples_split=10, n_estimators=100 \n",
      "[CV]  criterion=entropy, max_depth=6, max_features=6, min_samples_split=10, n_estimators=100, score=0.6286419094606307, total=  49.2s\n",
      "[CV] criterion=gini, max_depth=4, max_features=2, min_samples_split=6, n_estimators=100 \n",
      "[CV]  criterion=gini, max_depth=4, max_features=2, min_samples_split=6, n_estimators=100, score=0.6323578428104794, total=   9.0s\n",
      "[CV] criterion=gini, max_depth=4, max_features=2, min_samples_split=6, n_estimators=100 \n",
      "[CV]  criterion=gini, max_depth=4, max_features=2, min_samples_split=6, n_estimators=100, score=0.627491500566629, total=   9.0s\n",
      "[CV] criterion=gini, max_depth=4, max_features=2, min_samples_split=6, n_estimators=100 \n",
      "[CV]  criterion=gini, max_depth=4, max_features=2, min_samples_split=6, n_estimators=100, score=0.6288247450169989, total=   9.0s\n",
      "[CV] criterion=gini, max_depth=4, max_features=2, min_samples_split=6, n_estimators=100 \n",
      "[CV]  criterion=gini, max_depth=4, max_features=2, min_samples_split=6, n_estimators=100, score=0.6282666666666666, total=   9.0s\n",
      "[CV] criterion=gini, max_depth=4, max_features=2, min_samples_split=6, n_estimators=100 \n",
      "[CV]  criterion=gini, max_depth=4, max_features=2, min_samples_split=6, n_estimators=100, score=0.6342666666666666, total=   8.9s\n",
      "[CV] criterion=gini, max_depth=4, max_features=2, min_samples_split=6, n_estimators=100 \n",
      "[CV]  criterion=gini, max_depth=4, max_features=2, min_samples_split=6, n_estimators=100, score=0.6263333333333333, total=   9.0s\n",
      "[CV] criterion=gini, max_depth=4, max_features=2, min_samples_split=6, n_estimators=100 \n",
      "[CV]  criterion=gini, max_depth=4, max_features=2, min_samples_split=6, n_estimators=100, score=0.6287333333333334, total=   9.0s\n",
      "[CV] criterion=gini, max_depth=4, max_features=2, min_samples_split=6, n_estimators=100 \n"
     ]
    },
    {
     "name": "stdout",
     "output_type": "stream",
     "text": [
      "[CV]  criterion=gini, max_depth=4, max_features=2, min_samples_split=6, n_estimators=100, score=0.6266417761184079, total=   8.9s\n",
      "[CV] criterion=gini, max_depth=4, max_features=2, min_samples_split=6, n_estimators=100 \n",
      "[CV]  criterion=gini, max_depth=4, max_features=2, min_samples_split=6, n_estimators=100, score=0.6315754383625575, total=   9.0s\n",
      "[CV] criterion=gini, max_depth=4, max_features=2, min_samples_split=6, n_estimators=100 \n",
      "[CV]  criterion=gini, max_depth=4, max_features=2, min_samples_split=6, n_estimators=100, score=0.6280418694579639, total=   9.0s\n",
      "[CV] criterion=gini, max_depth=4, max_features=2, min_samples_split=8, n_estimators=100 \n",
      "[CV]  criterion=gini, max_depth=4, max_features=2, min_samples_split=8, n_estimators=100, score=0.6323578428104794, total=   9.0s\n",
      "[CV] criterion=gini, max_depth=4, max_features=2, min_samples_split=8, n_estimators=100 \n",
      "[CV]  criterion=gini, max_depth=4, max_features=2, min_samples_split=8, n_estimators=100, score=0.627491500566629, total=   9.0s\n",
      "[CV] criterion=gini, max_depth=4, max_features=2, min_samples_split=8, n_estimators=100 \n",
      "[CV]  criterion=gini, max_depth=4, max_features=2, min_samples_split=8, n_estimators=100, score=0.6288247450169989, total=   9.0s\n",
      "[CV] criterion=gini, max_depth=4, max_features=2, min_samples_split=8, n_estimators=100 \n",
      "[CV]  criterion=gini, max_depth=4, max_features=2, min_samples_split=8, n_estimators=100, score=0.6282666666666666, total=   9.0s\n",
      "[CV] criterion=gini, max_depth=4, max_features=2, min_samples_split=8, n_estimators=100 \n",
      "[CV]  criterion=gini, max_depth=4, max_features=2, min_samples_split=8, n_estimators=100, score=0.6342666666666666, total=   9.1s\n",
      "[CV] criterion=gini, max_depth=4, max_features=2, min_samples_split=8, n_estimators=100 \n",
      "[CV]  criterion=gini, max_depth=4, max_features=2, min_samples_split=8, n_estimators=100, score=0.6263333333333333, total=   9.0s\n",
      "[CV] criterion=gini, max_depth=4, max_features=2, min_samples_split=8, n_estimators=100 \n",
      "[CV]  criterion=gini, max_depth=4, max_features=2, min_samples_split=8, n_estimators=100, score=0.6287333333333334, total=   8.9s\n",
      "[CV] criterion=gini, max_depth=4, max_features=2, min_samples_split=8, n_estimators=100 \n",
      "[CV]  criterion=gini, max_depth=4, max_features=2, min_samples_split=8, n_estimators=100, score=0.6266417761184079, total=   8.9s\n",
      "[CV] criterion=gini, max_depth=4, max_features=2, min_samples_split=8, n_estimators=100 \n",
      "[CV]  criterion=gini, max_depth=4, max_features=2, min_samples_split=8, n_estimators=100, score=0.6315754383625575, total=   9.0s\n",
      "[CV] criterion=gini, max_depth=4, max_features=2, min_samples_split=8, n_estimators=100 \n",
      "[CV]  criterion=gini, max_depth=4, max_features=2, min_samples_split=8, n_estimators=100, score=0.6280418694579639, total=   9.0s\n",
      "[CV] criterion=gini, max_depth=4, max_features=2, min_samples_split=10, n_estimators=100 \n",
      "[CV]  criterion=gini, max_depth=4, max_features=2, min_samples_split=10, n_estimators=100, score=0.6323578428104794, total=   8.9s\n",
      "[CV] criterion=gini, max_depth=4, max_features=2, min_samples_split=10, n_estimators=100 \n",
      "[CV]  criterion=gini, max_depth=4, max_features=2, min_samples_split=10, n_estimators=100, score=0.627491500566629, total=   8.9s\n",
      "[CV] criterion=gini, max_depth=4, max_features=2, min_samples_split=10, n_estimators=100 \n",
      "[CV]  criterion=gini, max_depth=4, max_features=2, min_samples_split=10, n_estimators=100, score=0.6288247450169989, total=   8.9s\n",
      "[CV] criterion=gini, max_depth=4, max_features=2, min_samples_split=10, n_estimators=100 \n",
      "[CV]  criterion=gini, max_depth=4, max_features=2, min_samples_split=10, n_estimators=100, score=0.6282666666666666, total=   9.3s\n",
      "[CV] criterion=gini, max_depth=4, max_features=2, min_samples_split=10, n_estimators=100 \n",
      "[CV]  criterion=gini, max_depth=4, max_features=2, min_samples_split=10, n_estimators=100, score=0.6342666666666666, total=   9.0s\n",
      "[CV] criterion=gini, max_depth=4, max_features=2, min_samples_split=10, n_estimators=100 \n",
      "[CV]  criterion=gini, max_depth=4, max_features=2, min_samples_split=10, n_estimators=100, score=0.6263333333333333, total=   9.0s\n",
      "[CV] criterion=gini, max_depth=4, max_features=2, min_samples_split=10, n_estimators=100 \n",
      "[CV]  criterion=gini, max_depth=4, max_features=2, min_samples_split=10, n_estimators=100, score=0.6287333333333334, total=   9.0s\n",
      "[CV] criterion=gini, max_depth=4, max_features=2, min_samples_split=10, n_estimators=100 \n",
      "[CV]  criterion=gini, max_depth=4, max_features=2, min_samples_split=10, n_estimators=100, score=0.6266417761184079, total=   9.0s\n",
      "[CV] criterion=gini, max_depth=4, max_features=2, min_samples_split=10, n_estimators=100 \n",
      "[CV]  criterion=gini, max_depth=4, max_features=2, min_samples_split=10, n_estimators=100, score=0.6315754383625575, total=   8.9s\n",
      "[CV] criterion=gini, max_depth=4, max_features=2, min_samples_split=10, n_estimators=100 \n",
      "[CV]  criterion=gini, max_depth=4, max_features=2, min_samples_split=10, n_estimators=100, score=0.6280418694579639, total=   9.0s\n",
      "[CV] criterion=gini, max_depth=4, max_features=4, min_samples_split=6, n_estimators=100 \n",
      "[CV]  criterion=gini, max_depth=4, max_features=4, min_samples_split=6, n_estimators=100, score=0.6272915138990734, total=  16.0s\n",
      "[CV] criterion=gini, max_depth=4, max_features=4, min_samples_split=6, n_estimators=100 \n",
      "[CV]  criterion=gini, max_depth=4, max_features=4, min_samples_split=6, n_estimators=100, score=0.6248250116658889, total=  16.0s\n",
      "[CV] criterion=gini, max_depth=4, max_features=4, min_samples_split=6, n_estimators=100 \n",
      "[CV]  criterion=gini, max_depth=4, max_features=4, min_samples_split=6, n_estimators=100, score=0.625758282781148, total=  16.0s\n",
      "[CV] criterion=gini, max_depth=4, max_features=4, min_samples_split=6, n_estimators=100 \n",
      "[CV]  criterion=gini, max_depth=4, max_features=4, min_samples_split=6, n_estimators=100, score=0.6257333333333334, total=  16.0s\n",
      "[CV] criterion=gini, max_depth=4, max_features=4, min_samples_split=6, n_estimators=100 \n",
      "[CV]  criterion=gini, max_depth=4, max_features=4, min_samples_split=6, n_estimators=100, score=0.6325333333333333, total=  16.0s\n",
      "[CV] criterion=gini, max_depth=4, max_features=4, min_samples_split=6, n_estimators=100 \n",
      "[CV]  criterion=gini, max_depth=4, max_features=4, min_samples_split=6, n_estimators=100, score=0.621, total=  15.9s\n",
      "[CV] criterion=gini, max_depth=4, max_features=4, min_samples_split=6, n_estimators=100 \n",
      "[CV]  criterion=gini, max_depth=4, max_features=4, min_samples_split=6, n_estimators=100, score=0.6204, total=  16.0s\n",
      "[CV] criterion=gini, max_depth=4, max_features=4, min_samples_split=6, n_estimators=100 \n",
      "[CV]  criterion=gini, max_depth=4, max_features=4, min_samples_split=6, n_estimators=100, score=0.621041402760184, total=  16.0s\n",
      "[CV] criterion=gini, max_depth=4, max_features=4, min_samples_split=6, n_estimators=100 \n",
      "[CV]  criterion=gini, max_depth=4, max_features=4, min_samples_split=6, n_estimators=100, score=0.6263750916727782, total=  16.0s\n",
      "[CV] criterion=gini, max_depth=4, max_features=4, min_samples_split=6, n_estimators=100 \n",
      "[CV]  criterion=gini, max_depth=4, max_features=4, min_samples_split=6, n_estimators=100, score=0.6199079938662577, total=  16.0s\n",
      "[CV] criterion=gini, max_depth=4, max_features=4, min_samples_split=8, n_estimators=100 \n",
      "[CV]  criterion=gini, max_depth=4, max_features=4, min_samples_split=8, n_estimators=100, score=0.6272915138990734, total=  16.0s\n",
      "[CV] criterion=gini, max_depth=4, max_features=4, min_samples_split=8, n_estimators=100 \n",
      "[CV]  criterion=gini, max_depth=4, max_features=4, min_samples_split=8, n_estimators=100, score=0.6248250116658889, total=  16.1s\n",
      "[CV] criterion=gini, max_depth=4, max_features=4, min_samples_split=8, n_estimators=100 \n",
      "[CV]  criterion=gini, max_depth=4, max_features=4, min_samples_split=8, n_estimators=100, score=0.625758282781148, total=  16.1s\n",
      "[CV] criterion=gini, max_depth=4, max_features=4, min_samples_split=8, n_estimators=100 \n",
      "[CV]  criterion=gini, max_depth=4, max_features=4, min_samples_split=8, n_estimators=100, score=0.6257333333333334, total=  16.0s\n",
      "[CV] criterion=gini, max_depth=4, max_features=4, min_samples_split=8, n_estimators=100 \n",
      "[CV]  criterion=gini, max_depth=4, max_features=4, min_samples_split=8, n_estimators=100, score=0.6325333333333333, total=  16.0s\n",
      "[CV] criterion=gini, max_depth=4, max_features=4, min_samples_split=8, n_estimators=100 \n"
     ]
    },
    {
     "name": "stdout",
     "output_type": "stream",
     "text": [
      "[CV]  criterion=gini, max_depth=4, max_features=4, min_samples_split=8, n_estimators=100, score=0.621, total=  16.0s\n",
      "[CV] criterion=gini, max_depth=4, max_features=4, min_samples_split=8, n_estimators=100 \n",
      "[CV]  criterion=gini, max_depth=4, max_features=4, min_samples_split=8, n_estimators=100, score=0.6204, total=  16.0s\n",
      "[CV] criterion=gini, max_depth=4, max_features=4, min_samples_split=8, n_estimators=100 \n",
      "[CV]  criterion=gini, max_depth=4, max_features=4, min_samples_split=8, n_estimators=100, score=0.621041402760184, total=  16.0s\n",
      "[CV] criterion=gini, max_depth=4, max_features=4, min_samples_split=8, n_estimators=100 \n",
      "[CV]  criterion=gini, max_depth=4, max_features=4, min_samples_split=8, n_estimators=100, score=0.6261750783385559, total=  16.0s\n",
      "[CV] criterion=gini, max_depth=4, max_features=4, min_samples_split=8, n_estimators=100 \n",
      "[CV]  criterion=gini, max_depth=4, max_features=4, min_samples_split=8, n_estimators=100, score=0.6199079938662577, total=  16.0s\n",
      "[CV] criterion=gini, max_depth=4, max_features=4, min_samples_split=10, n_estimators=100 \n",
      "[CV]  criterion=gini, max_depth=4, max_features=4, min_samples_split=10, n_estimators=100, score=0.6272915138990734, total=  16.0s\n",
      "[CV] criterion=gini, max_depth=4, max_features=4, min_samples_split=10, n_estimators=100 \n",
      "[CV]  criterion=gini, max_depth=4, max_features=4, min_samples_split=10, n_estimators=100, score=0.6248250116658889, total=  16.0s\n",
      "[CV] criterion=gini, max_depth=4, max_features=4, min_samples_split=10, n_estimators=100 \n",
      "[CV]  criterion=gini, max_depth=4, max_features=4, min_samples_split=10, n_estimators=100, score=0.625758282781148, total=  16.0s\n",
      "[CV] criterion=gini, max_depth=4, max_features=4, min_samples_split=10, n_estimators=100 \n",
      "[CV]  criterion=gini, max_depth=4, max_features=4, min_samples_split=10, n_estimators=100, score=0.6257333333333334, total=  16.0s\n",
      "[CV] criterion=gini, max_depth=4, max_features=4, min_samples_split=10, n_estimators=100 \n",
      "[CV]  criterion=gini, max_depth=4, max_features=4, min_samples_split=10, n_estimators=100, score=0.6325333333333333, total=  16.0s\n",
      "[CV] criterion=gini, max_depth=4, max_features=4, min_samples_split=10, n_estimators=100 \n",
      "[CV]  criterion=gini, max_depth=4, max_features=4, min_samples_split=10, n_estimators=100, score=0.621, total=  16.3s\n",
      "[CV] criterion=gini, max_depth=4, max_features=4, min_samples_split=10, n_estimators=100 \n",
      "[CV]  criterion=gini, max_depth=4, max_features=4, min_samples_split=10, n_estimators=100, score=0.6204, total=  16.1s\n",
      "[CV] criterion=gini, max_depth=4, max_features=4, min_samples_split=10, n_estimators=100 \n",
      "[CV]  criterion=gini, max_depth=4, max_features=4, min_samples_split=10, n_estimators=100, score=0.621041402760184, total=  16.0s\n",
      "[CV] criterion=gini, max_depth=4, max_features=4, min_samples_split=10, n_estimators=100 \n",
      "[CV]  criterion=gini, max_depth=4, max_features=4, min_samples_split=10, n_estimators=100, score=0.6261750783385559, total=  16.0s\n",
      "[CV] criterion=gini, max_depth=4, max_features=4, min_samples_split=10, n_estimators=100 \n",
      "[CV]  criterion=gini, max_depth=4, max_features=4, min_samples_split=10, n_estimators=100, score=0.6198413227548504, total=  16.0s\n",
      "[CV] criterion=gini, max_depth=4, max_features=6, min_samples_split=6, n_estimators=100 \n",
      "[CV]  criterion=gini, max_depth=4, max_features=6, min_samples_split=6, n_estimators=100, score=0.6258249450036665, total=  23.1s\n",
      "[CV] criterion=gini, max_depth=4, max_features=6, min_samples_split=6, n_estimators=100 \n",
      "[CV]  criterion=gini, max_depth=4, max_features=6, min_samples_split=6, n_estimators=100, score=0.6228918072128524, total=  23.1s\n",
      "[CV] criterion=gini, max_depth=4, max_features=6, min_samples_split=6, n_estimators=100 \n",
      "[CV]  criterion=gini, max_depth=4, max_features=6, min_samples_split=6, n_estimators=100, score=0.6236917538830744, total=  23.1s\n",
      "[CV] criterion=gini, max_depth=4, max_features=6, min_samples_split=6, n_estimators=100 \n",
      "[CV]  criterion=gini, max_depth=4, max_features=6, min_samples_split=6, n_estimators=100, score=0.6256666666666667, total=  23.0s\n",
      "[CV] criterion=gini, max_depth=4, max_features=6, min_samples_split=6, n_estimators=100 \n",
      "[CV]  criterion=gini, max_depth=4, max_features=6, min_samples_split=6, n_estimators=100, score=0.6316, total=  23.0s\n",
      "[CV] criterion=gini, max_depth=4, max_features=6, min_samples_split=6, n_estimators=100 \n",
      "[CV]  criterion=gini, max_depth=4, max_features=6, min_samples_split=6, n_estimators=100, score=0.6183333333333333, total=  23.0s\n",
      "[CV] criterion=gini, max_depth=4, max_features=6, min_samples_split=6, n_estimators=100 \n",
      "[CV]  criterion=gini, max_depth=4, max_features=6, min_samples_split=6, n_estimators=100, score=0.6184, total=  23.0s\n",
      "[CV] criterion=gini, max_depth=4, max_features=6, min_samples_split=6, n_estimators=100 \n",
      "[CV]  criterion=gini, max_depth=4, max_features=6, min_samples_split=6, n_estimators=100, score=0.6207080472031469, total=  23.1s\n",
      "[CV] criterion=gini, max_depth=4, max_features=6, min_samples_split=6, n_estimators=100 \n",
      "[CV]  criterion=gini, max_depth=4, max_features=6, min_samples_split=6, n_estimators=100, score=0.6237749183278886, total=  23.0s\n",
      "[CV] criterion=gini, max_depth=4, max_features=6, min_samples_split=6, n_estimators=100 \n",
      "[CV]  criterion=gini, max_depth=4, max_features=6, min_samples_split=6, n_estimators=100, score=0.6199079938662577, total=  23.0s\n",
      "[CV] criterion=gini, max_depth=4, max_features=6, min_samples_split=8, n_estimators=100 \n",
      "[CV]  criterion=gini, max_depth=4, max_features=6, min_samples_split=8, n_estimators=100, score=0.6258249450036665, total=  23.0s\n",
      "[CV] criterion=gini, max_depth=4, max_features=6, min_samples_split=8, n_estimators=100 \n",
      "[CV]  criterion=gini, max_depth=4, max_features=6, min_samples_split=8, n_estimators=100, score=0.6228918072128524, total=  23.1s\n",
      "[CV] criterion=gini, max_depth=4, max_features=6, min_samples_split=8, n_estimators=100 \n",
      "[CV]  criterion=gini, max_depth=4, max_features=6, min_samples_split=8, n_estimators=100, score=0.6236917538830744, total=  23.1s\n",
      "[CV] criterion=gini, max_depth=4, max_features=6, min_samples_split=8, n_estimators=100 \n",
      "[CV]  criterion=gini, max_depth=4, max_features=6, min_samples_split=8, n_estimators=100, score=0.6256666666666667, total=  23.0s\n",
      "[CV] criterion=gini, max_depth=4, max_features=6, min_samples_split=8, n_estimators=100 \n",
      "[CV]  criterion=gini, max_depth=4, max_features=6, min_samples_split=8, n_estimators=100, score=0.6316, total=  23.0s\n",
      "[CV] criterion=gini, max_depth=4, max_features=6, min_samples_split=8, n_estimators=100 \n",
      "[CV]  criterion=gini, max_depth=4, max_features=6, min_samples_split=8, n_estimators=100, score=0.6183333333333333, total=  23.0s\n",
      "[CV] criterion=gini, max_depth=4, max_features=6, min_samples_split=8, n_estimators=100 \n",
      "[CV]  criterion=gini, max_depth=4, max_features=6, min_samples_split=8, n_estimators=100, score=0.6184, total=  22.9s\n",
      "[CV] criterion=gini, max_depth=4, max_features=6, min_samples_split=8, n_estimators=100 \n",
      "[CV]  criterion=gini, max_depth=4, max_features=6, min_samples_split=8, n_estimators=100, score=0.6207080472031469, total=  23.0s\n",
      "[CV] criterion=gini, max_depth=4, max_features=6, min_samples_split=8, n_estimators=100 \n",
      "[CV]  criterion=gini, max_depth=4, max_features=6, min_samples_split=8, n_estimators=100, score=0.6237749183278886, total=  23.0s\n",
      "[CV] criterion=gini, max_depth=4, max_features=6, min_samples_split=8, n_estimators=100 \n",
      "[CV]  criterion=gini, max_depth=4, max_features=6, min_samples_split=8, n_estimators=100, score=0.6199079938662577, total=  23.0s\n",
      "[CV] criterion=gini, max_depth=4, max_features=6, min_samples_split=10, n_estimators=100 \n",
      "[CV]  criterion=gini, max_depth=4, max_features=6, min_samples_split=10, n_estimators=100, score=0.6258249450036665, total=  23.0s\n",
      "[CV] criterion=gini, max_depth=4, max_features=6, min_samples_split=10, n_estimators=100 \n",
      "[CV]  criterion=gini, max_depth=4, max_features=6, min_samples_split=10, n_estimators=100, score=0.6228918072128524, total=  23.0s\n",
      "[CV] criterion=gini, max_depth=4, max_features=6, min_samples_split=10, n_estimators=100 \n",
      "[CV]  criterion=gini, max_depth=4, max_features=6, min_samples_split=10, n_estimators=100, score=0.6236917538830744, total=  23.0s\n",
      "[CV] criterion=gini, max_depth=4, max_features=6, min_samples_split=10, n_estimators=100 \n"
     ]
    },
    {
     "name": "stdout",
     "output_type": "stream",
     "text": [
      "[CV]  criterion=gini, max_depth=4, max_features=6, min_samples_split=10, n_estimators=100, score=0.6256666666666667, total=  23.0s\n",
      "[CV] criterion=gini, max_depth=4, max_features=6, min_samples_split=10, n_estimators=100 \n",
      "[CV]  criterion=gini, max_depth=4, max_features=6, min_samples_split=10, n_estimators=100, score=0.6316, total=  23.1s\n",
      "[CV] criterion=gini, max_depth=4, max_features=6, min_samples_split=10, n_estimators=100 \n",
      "[CV]  criterion=gini, max_depth=4, max_features=6, min_samples_split=10, n_estimators=100, score=0.6183333333333333, total=  22.9s\n",
      "[CV] criterion=gini, max_depth=4, max_features=6, min_samples_split=10, n_estimators=100 \n",
      "[CV]  criterion=gini, max_depth=4, max_features=6, min_samples_split=10, n_estimators=100, score=0.6184, total=  23.0s\n",
      "[CV] criterion=gini, max_depth=4, max_features=6, min_samples_split=10, n_estimators=100 \n",
      "[CV]  criterion=gini, max_depth=4, max_features=6, min_samples_split=10, n_estimators=100, score=0.6207080472031469, total=  22.9s\n",
      "[CV] criterion=gini, max_depth=4, max_features=6, min_samples_split=10, n_estimators=100 \n",
      "[CV]  criterion=gini, max_depth=4, max_features=6, min_samples_split=10, n_estimators=100, score=0.6237749183278886, total=  23.1s\n",
      "[CV] criterion=gini, max_depth=4, max_features=6, min_samples_split=10, n_estimators=100 \n",
      "[CV]  criterion=gini, max_depth=4, max_features=6, min_samples_split=10, n_estimators=100, score=0.6199079938662577, total=  22.9s\n",
      "[CV] criterion=gini, max_depth=6, max_features=2, min_samples_split=6, n_estimators=100 \n",
      "[CV]  criterion=gini, max_depth=6, max_features=2, min_samples_split=6, n_estimators=100, score=0.6423571761882542, total=  12.3s\n",
      "[CV] criterion=gini, max_depth=6, max_features=2, min_samples_split=6, n_estimators=100 \n",
      "[CV]  criterion=gini, max_depth=6, max_features=2, min_samples_split=6, n_estimators=100, score=0.6390907272848477, total=  12.2s\n",
      "[CV] criterion=gini, max_depth=6, max_features=2, min_samples_split=6, n_estimators=100 \n",
      "[CV]  criterion=gini, max_depth=6, max_features=2, min_samples_split=6, n_estimators=100, score=0.6397573495100327, total=  12.3s\n",
      "[CV] criterion=gini, max_depth=6, max_features=2, min_samples_split=6, n_estimators=100 \n",
      "[CV]  criterion=gini, max_depth=6, max_features=2, min_samples_split=6, n_estimators=100, score=0.6413333333333333, total=  12.3s\n",
      "[CV] criterion=gini, max_depth=6, max_features=2, min_samples_split=6, n_estimators=100 \n",
      "[CV]  criterion=gini, max_depth=6, max_features=2, min_samples_split=6, n_estimators=100, score=0.6444666666666666, total=  12.3s\n",
      "[CV] criterion=gini, max_depth=6, max_features=2, min_samples_split=6, n_estimators=100 \n",
      "[CV]  criterion=gini, max_depth=6, max_features=2, min_samples_split=6, n_estimators=100, score=0.6387333333333334, total=  12.3s\n",
      "[CV] criterion=gini, max_depth=6, max_features=2, min_samples_split=6, n_estimators=100 \n",
      "[CV]  criterion=gini, max_depth=6, max_features=2, min_samples_split=6, n_estimators=100, score=0.6412, total=  12.2s\n",
      "[CV] criterion=gini, max_depth=6, max_features=2, min_samples_split=6, n_estimators=100 \n",
      "[CV]  criterion=gini, max_depth=6, max_features=2, min_samples_split=6, n_estimators=100, score=0.6379091939462631, total=  12.3s\n",
      "[CV] criterion=gini, max_depth=6, max_features=2, min_samples_split=6, n_estimators=100 \n",
      "[CV]  criterion=gini, max_depth=6, max_features=2, min_samples_split=6, n_estimators=100, score=0.6433762250816721, total=  12.4s\n",
      "[CV] criterion=gini, max_depth=6, max_features=2, min_samples_split=6, n_estimators=100 \n",
      "[CV]  criterion=gini, max_depth=6, max_features=2, min_samples_split=6, n_estimators=100, score=0.6389092606173745, total=  12.3s\n",
      "[CV] criterion=gini, max_depth=6, max_features=2, min_samples_split=8, n_estimators=100 \n",
      "[CV]  criterion=gini, max_depth=6, max_features=2, min_samples_split=8, n_estimators=100, score=0.6420905272981802, total=  12.4s\n",
      "[CV] criterion=gini, max_depth=6, max_features=2, min_samples_split=8, n_estimators=100 \n",
      "[CV]  criterion=gini, max_depth=6, max_features=2, min_samples_split=8, n_estimators=100, score=0.6388907406172922, total=  12.4s\n",
      "[CV] criterion=gini, max_depth=6, max_features=2, min_samples_split=8, n_estimators=100 \n",
      "[CV]  criterion=gini, max_depth=6, max_features=2, min_samples_split=8, n_estimators=100, score=0.6405572961802547, total=  12.3s\n",
      "[CV] criterion=gini, max_depth=6, max_features=2, min_samples_split=8, n_estimators=100 \n",
      "[CV]  criterion=gini, max_depth=6, max_features=2, min_samples_split=8, n_estimators=100, score=0.6404666666666666, total=  12.4s\n",
      "[CV] criterion=gini, max_depth=6, max_features=2, min_samples_split=8, n_estimators=100 \n",
      "[CV]  criterion=gini, max_depth=6, max_features=2, min_samples_split=8, n_estimators=100, score=0.6446666666666667, total=  12.4s\n",
      "[CV] criterion=gini, max_depth=6, max_features=2, min_samples_split=8, n_estimators=100 \n",
      "[CV]  criterion=gini, max_depth=6, max_features=2, min_samples_split=8, n_estimators=100, score=0.6396666666666667, total=  12.3s\n",
      "[CV] criterion=gini, max_depth=6, max_features=2, min_samples_split=8, n_estimators=100 \n",
      "[CV]  criterion=gini, max_depth=6, max_features=2, min_samples_split=8, n_estimators=100, score=0.6412, total=  12.3s\n",
      "[CV] criterion=gini, max_depth=6, max_features=2, min_samples_split=8, n_estimators=100 \n",
      "[CV]  criterion=gini, max_depth=6, max_features=2, min_samples_split=8, n_estimators=100, score=0.6369757983865592, total=  12.3s\n",
      "[CV] criterion=gini, max_depth=6, max_features=2, min_samples_split=8, n_estimators=100 \n",
      "[CV]  criterion=gini, max_depth=6, max_features=2, min_samples_split=8, n_estimators=100, score=0.6435762384158944, total=  12.4s\n",
      "[CV] criterion=gini, max_depth=6, max_features=2, min_samples_split=8, n_estimators=100 \n",
      "[CV]  criterion=gini, max_depth=6, max_features=2, min_samples_split=8, n_estimators=100, score=0.6389759317287819, total=  12.3s\n",
      "[CV] criterion=gini, max_depth=6, max_features=2, min_samples_split=10, n_estimators=100 \n",
      "[CV]  criterion=gini, max_depth=6, max_features=2, min_samples_split=10, n_estimators=100, score=0.6434904339710686, total=  12.3s\n",
      "[CV] criterion=gini, max_depth=6, max_features=2, min_samples_split=10, n_estimators=100 \n",
      "[CV]  criterion=gini, max_depth=6, max_features=2, min_samples_split=10, n_estimators=100, score=0.6387574161722552, total=  12.4s\n",
      "[CV] criterion=gini, max_depth=6, max_features=2, min_samples_split=10, n_estimators=100 \n",
      "[CV]  criterion=gini, max_depth=6, max_features=2, min_samples_split=10, n_estimators=100, score=0.6411572561829212, total=  12.3s\n",
      "[CV] criterion=gini, max_depth=6, max_features=2, min_samples_split=10, n_estimators=100 \n",
      "[CV]  criterion=gini, max_depth=6, max_features=2, min_samples_split=10, n_estimators=100, score=0.6402666666666667, total=  12.4s\n",
      "[CV] criterion=gini, max_depth=6, max_features=2, min_samples_split=10, n_estimators=100 \n",
      "[CV]  criterion=gini, max_depth=6, max_features=2, min_samples_split=10, n_estimators=100, score=0.6431333333333333, total=  12.3s\n",
      "[CV] criterion=gini, max_depth=6, max_features=2, min_samples_split=10, n_estimators=100 \n",
      "[CV]  criterion=gini, max_depth=6, max_features=2, min_samples_split=10, n_estimators=100, score=0.6392, total=  12.3s\n",
      "[CV] criterion=gini, max_depth=6, max_features=2, min_samples_split=10, n_estimators=100 \n",
      "[CV]  criterion=gini, max_depth=6, max_features=2, min_samples_split=10, n_estimators=100, score=0.6416666666666667, total=  12.3s\n",
      "[CV] criterion=gini, max_depth=6, max_features=2, min_samples_split=10, n_estimators=100 \n",
      "[CV]  criterion=gini, max_depth=6, max_features=2, min_samples_split=10, n_estimators=100, score=0.6376425095006334, total=  12.3s\n",
      "[CV] criterion=gini, max_depth=6, max_features=2, min_samples_split=10, n_estimators=100 \n",
      "[CV]  criterion=gini, max_depth=6, max_features=2, min_samples_split=10, n_estimators=100, score=0.6434428961930795, total=  12.3s\n",
      "[CV] criterion=gini, max_depth=6, max_features=2, min_samples_split=10, n_estimators=100 \n",
      "[CV]  criterion=gini, max_depth=6, max_features=2, min_samples_split=10, n_estimators=100, score=0.639442629508634, total=  12.3s\n",
      "[CV] criterion=gini, max_depth=6, max_features=4, min_samples_split=6, n_estimators=100 \n",
      "[CV]  criterion=gini, max_depth=6, max_features=4, min_samples_split=6, n_estimators=100, score=0.6362909139390708, total=  22.5s\n",
      "[CV] criterion=gini, max_depth=6, max_features=4, min_samples_split=6, n_estimators=100 \n"
     ]
    },
    {
     "name": "stdout",
     "output_type": "stream",
     "text": [
      "[CV]  criterion=gini, max_depth=6, max_features=4, min_samples_split=6, n_estimators=100, score=0.6315578961402574, total=  22.5s\n",
      "[CV] criterion=gini, max_depth=6, max_features=4, min_samples_split=6, n_estimators=100 \n",
      "[CV]  criterion=gini, max_depth=6, max_features=4, min_samples_split=6, n_estimators=100, score=0.6336910872608493, total=  22.4s\n",
      "[CV] criterion=gini, max_depth=6, max_features=4, min_samples_split=6, n_estimators=100 \n",
      "[CV]  criterion=gini, max_depth=6, max_features=4, min_samples_split=6, n_estimators=100, score=0.6376, total=  22.4s\n",
      "[CV] criterion=gini, max_depth=6, max_features=4, min_samples_split=6, n_estimators=100 \n",
      "[CV]  criterion=gini, max_depth=6, max_features=4, min_samples_split=6, n_estimators=100, score=0.6416666666666667, total=  22.3s\n",
      "[CV] criterion=gini, max_depth=6, max_features=4, min_samples_split=6, n_estimators=100 \n",
      "[CV]  criterion=gini, max_depth=6, max_features=4, min_samples_split=6, n_estimators=100, score=0.6338666666666667, total=  22.4s\n",
      "[CV] criterion=gini, max_depth=6, max_features=4, min_samples_split=6, n_estimators=100 \n",
      "[CV]  criterion=gini, max_depth=6, max_features=4, min_samples_split=6, n_estimators=100, score=0.6314666666666666, total=  22.4s\n",
      "[CV] criterion=gini, max_depth=6, max_features=4, min_samples_split=6, n_estimators=100 \n",
      "[CV]  criterion=gini, max_depth=6, max_features=4, min_samples_split=6, n_estimators=100, score=0.6319087939195946, total=  22.4s\n",
      "[CV] criterion=gini, max_depth=6, max_features=4, min_samples_split=6, n_estimators=100 \n",
      "[CV]  criterion=gini, max_depth=6, max_features=4, min_samples_split=6, n_estimators=100, score=0.6345089672644842, total=  22.4s\n",
      "[CV] criterion=gini, max_depth=6, max_features=4, min_samples_split=6, n_estimators=100 \n",
      "[CV]  criterion=gini, max_depth=6, max_features=4, min_samples_split=6, n_estimators=100, score=0.6295086339089273, total=  22.4s\n",
      "[CV] criterion=gini, max_depth=6, max_features=4, min_samples_split=8, n_estimators=100 \n",
      "[CV]  criterion=gini, max_depth=6, max_features=4, min_samples_split=8, n_estimators=100, score=0.6358242783814413, total=  22.4s\n",
      "[CV] criterion=gini, max_depth=6, max_features=4, min_samples_split=8, n_estimators=100 \n",
      "[CV]  criterion=gini, max_depth=6, max_features=4, min_samples_split=8, n_estimators=100, score=0.6323578428104794, total=  22.4s\n",
      "[CV] criterion=gini, max_depth=6, max_features=4, min_samples_split=8, n_estimators=100 \n",
      "[CV]  criterion=gini, max_depth=6, max_features=4, min_samples_split=8, n_estimators=100, score=0.6345576961535898, total=  22.5s\n",
      "[CV] criterion=gini, max_depth=6, max_features=4, min_samples_split=8, n_estimators=100 \n",
      "[CV]  criterion=gini, max_depth=6, max_features=4, min_samples_split=8, n_estimators=100, score=0.6383333333333333, total=  22.4s\n",
      "[CV] criterion=gini, max_depth=6, max_features=4, min_samples_split=8, n_estimators=100 \n",
      "[CV]  criterion=gini, max_depth=6, max_features=4, min_samples_split=8, n_estimators=100, score=0.6418, total=  22.4s\n",
      "[CV] criterion=gini, max_depth=6, max_features=4, min_samples_split=8, n_estimators=100 \n",
      "[CV]  criterion=gini, max_depth=6, max_features=4, min_samples_split=8, n_estimators=100, score=0.6338666666666667, total=  22.4s\n",
      "[CV] criterion=gini, max_depth=6, max_features=4, min_samples_split=8, n_estimators=100 \n",
      "[CV]  criterion=gini, max_depth=6, max_features=4, min_samples_split=8, n_estimators=100, score=0.6306666666666667, total=  22.4s\n",
      "[CV] criterion=gini, max_depth=6, max_features=4, min_samples_split=8, n_estimators=100 \n",
      "[CV]  criterion=gini, max_depth=6, max_features=4, min_samples_split=8, n_estimators=100, score=0.6318421228081872, total=  22.4s\n",
      "[CV] criterion=gini, max_depth=6, max_features=4, min_samples_split=8, n_estimators=100 \n",
      "[CV]  criterion=gini, max_depth=6, max_features=4, min_samples_split=8, n_estimators=100, score=0.6345089672644842, total=  22.3s\n",
      "[CV] criterion=gini, max_depth=6, max_features=4, min_samples_split=8, n_estimators=100 \n",
      "[CV]  criterion=gini, max_depth=6, max_features=4, min_samples_split=8, n_estimators=100, score=0.6293086205747049, total=  22.4s\n",
      "[CV] criterion=gini, max_depth=6, max_features=4, min_samples_split=10, n_estimators=100 \n",
      "[CV]  criterion=gini, max_depth=6, max_features=4, min_samples_split=10, n_estimators=100, score=0.6354243050463303, total=  22.4s\n",
      "[CV] criterion=gini, max_depth=6, max_features=4, min_samples_split=10, n_estimators=100 \n",
      "[CV]  criterion=gini, max_depth=6, max_features=4, min_samples_split=10, n_estimators=100, score=0.6319578694753684, total=  22.4s\n",
      "[CV] criterion=gini, max_depth=6, max_features=4, min_samples_split=10, n_estimators=100 \n",
      "[CV]  criterion=gini, max_depth=6, max_features=4, min_samples_split=10, n_estimators=100, score=0.6344910339310713, total=  22.6s\n",
      "[CV] criterion=gini, max_depth=6, max_features=4, min_samples_split=10, n_estimators=100 \n",
      "[CV]  criterion=gini, max_depth=6, max_features=4, min_samples_split=10, n_estimators=100, score=0.6379333333333334, total=  22.4s\n",
      "[CV] criterion=gini, max_depth=6, max_features=4, min_samples_split=10, n_estimators=100 \n",
      "[CV]  criterion=gini, max_depth=6, max_features=4, min_samples_split=10, n_estimators=100, score=0.6416, total=  22.4s\n",
      "[CV] criterion=gini, max_depth=6, max_features=4, min_samples_split=10, n_estimators=100 \n",
      "[CV]  criterion=gini, max_depth=6, max_features=4, min_samples_split=10, n_estimators=100, score=0.6339333333333333, total=  22.3s\n",
      "[CV] criterion=gini, max_depth=6, max_features=4, min_samples_split=10, n_estimators=100 \n",
      "[CV]  criterion=gini, max_depth=6, max_features=4, min_samples_split=10, n_estimators=100, score=0.6305333333333333, total=  22.5s\n",
      "[CV] criterion=gini, max_depth=6, max_features=4, min_samples_split=10, n_estimators=100 \n",
      "[CV]  criterion=gini, max_depth=6, max_features=4, min_samples_split=10, n_estimators=100, score=0.6319087939195946, total=  22.4s\n",
      "[CV] criterion=gini, max_depth=6, max_features=4, min_samples_split=10, n_estimators=100 \n",
      "[CV]  criterion=gini, max_depth=6, max_features=4, min_samples_split=10, n_estimators=100, score=0.6341756117074472, total=  22.4s\n",
      "[CV] criterion=gini, max_depth=6, max_features=4, min_samples_split=10, n_estimators=100 \n",
      "[CV]  criterion=gini, max_depth=6, max_features=4, min_samples_split=10, n_estimators=100, score=0.6298419894659644, total=  22.4s\n",
      "[CV] criterion=gini, max_depth=6, max_features=6, min_samples_split=6, n_estimators=100 \n",
      "[CV]  criterion=gini, max_depth=6, max_features=6, min_samples_split=6, n_estimators=100, score=0.6339577361509233, total=  32.5s\n",
      "[CV] criterion=gini, max_depth=6, max_features=6, min_samples_split=6, n_estimators=100 \n",
      "[CV]  criterion=gini, max_depth=6, max_features=6, min_samples_split=6, n_estimators=100, score=0.6329578028131458, total=  32.6s\n",
      "[CV] criterion=gini, max_depth=6, max_features=6, min_samples_split=6, n_estimators=100 \n",
      "[CV]  criterion=gini, max_depth=6, max_features=6, min_samples_split=6, n_estimators=100, score=0.6345576961535898, total=  32.6s\n",
      "[CV] criterion=gini, max_depth=6, max_features=6, min_samples_split=6, n_estimators=100 \n",
      "[CV]  criterion=gini, max_depth=6, max_features=6, min_samples_split=6, n_estimators=100, score=0.6371333333333333, total=  32.5s\n",
      "[CV] criterion=gini, max_depth=6, max_features=6, min_samples_split=6, n_estimators=100 \n",
      "[CV]  criterion=gini, max_depth=6, max_features=6, min_samples_split=6, n_estimators=100, score=0.6386, total=  32.3s\n",
      "[CV] criterion=gini, max_depth=6, max_features=6, min_samples_split=6, n_estimators=100 \n",
      "[CV]  criterion=gini, max_depth=6, max_features=6, min_samples_split=6, n_estimators=100, score=0.6313333333333333, total=  32.4s\n",
      "[CV] criterion=gini, max_depth=6, max_features=6, min_samples_split=6, n_estimators=100 \n",
      "[CV]  criterion=gini, max_depth=6, max_features=6, min_samples_split=6, n_estimators=100, score=0.6311333333333333, total=  32.4s\n",
      "[CV] criterion=gini, max_depth=6, max_features=6, min_samples_split=6, n_estimators=100 \n",
      "[CV]  criterion=gini, max_depth=6, max_features=6, min_samples_split=6, n_estimators=100, score=0.6327088472564838, total=  32.6s\n",
      "[CV] criterion=gini, max_depth=6, max_features=6, min_samples_split=6, n_estimators=100 \n",
      "[CV]  criterion=gini, max_depth=6, max_features=6, min_samples_split=6, n_estimators=100, score=0.6318421228081872, total=  32.6s\n",
      "[CV] criterion=gini, max_depth=6, max_features=6, min_samples_split=6, n_estimators=100 \n"
     ]
    },
    {
     "name": "stdout",
     "output_type": "stream",
     "text": [
      "[CV]  criterion=gini, max_depth=6, max_features=6, min_samples_split=6, n_estimators=100, score=0.6275085005667045, total=  32.4s\n",
      "[CV] criterion=gini, max_depth=6, max_features=6, min_samples_split=8, n_estimators=100 \n",
      "[CV]  criterion=gini, max_depth=6, max_features=6, min_samples_split=8, n_estimators=100, score=0.6339577361509233, total=  32.5s\n",
      "[CV] criterion=gini, max_depth=6, max_features=6, min_samples_split=8, n_estimators=100 \n",
      "[CV]  criterion=gini, max_depth=6, max_features=6, min_samples_split=8, n_estimators=100, score=0.6327578161455903, total=  32.3s\n",
      "[CV] criterion=gini, max_depth=6, max_features=6, min_samples_split=8, n_estimators=100 \n",
      "[CV]  criterion=gini, max_depth=6, max_features=6, min_samples_split=8, n_estimators=100, score=0.6345576961535898, total=  32.5s\n",
      "[CV] criterion=gini, max_depth=6, max_features=6, min_samples_split=8, n_estimators=100 \n",
      "[CV]  criterion=gini, max_depth=6, max_features=6, min_samples_split=8, n_estimators=100, score=0.6368, total=  32.5s\n",
      "[CV] criterion=gini, max_depth=6, max_features=6, min_samples_split=8, n_estimators=100 \n",
      "[CV]  criterion=gini, max_depth=6, max_features=6, min_samples_split=8, n_estimators=100, score=0.6385333333333333, total=  32.5s\n",
      "[CV] criterion=gini, max_depth=6, max_features=6, min_samples_split=8, n_estimators=100 \n",
      "[CV]  criterion=gini, max_depth=6, max_features=6, min_samples_split=8, n_estimators=100, score=0.6312666666666666, total=  32.2s\n",
      "[CV] criterion=gini, max_depth=6, max_features=6, min_samples_split=8, n_estimators=100 \n",
      "[CV]  criterion=gini, max_depth=6, max_features=6, min_samples_split=8, n_estimators=100, score=0.6317333333333334, total=  32.3s\n",
      "[CV] criterion=gini, max_depth=6, max_features=6, min_samples_split=8, n_estimators=100 \n",
      "[CV]  criterion=gini, max_depth=6, max_features=6, min_samples_split=8, n_estimators=100, score=0.6332422161477432, total=  32.5s\n",
      "[CV] criterion=gini, max_depth=6, max_features=6, min_samples_split=8, n_estimators=100 \n",
      "[CV]  criterion=gini, max_depth=6, max_features=6, min_samples_split=8, n_estimators=100, score=0.6309753983598907, total=  32.5s\n",
      "[CV] criterion=gini, max_depth=6, max_features=6, min_samples_split=8, n_estimators=100 \n",
      "[CV]  criterion=gini, max_depth=6, max_features=6, min_samples_split=8, n_estimators=100, score=0.627908527235149, total=  32.6s\n",
      "[CV] criterion=gini, max_depth=6, max_features=6, min_samples_split=10, n_estimators=100 \n",
      "[CV]  criterion=gini, max_depth=6, max_features=6, min_samples_split=10, n_estimators=100, score=0.6342243850409973, total=  32.6s\n",
      "[CV] criterion=gini, max_depth=6, max_features=6, min_samples_split=10, n_estimators=100 \n",
      "[CV]  criterion=gini, max_depth=6, max_features=6, min_samples_split=10, n_estimators=100, score=0.6328244783681088, total=  32.6s\n",
      "[CV] criterion=gini, max_depth=6, max_features=6, min_samples_split=10, n_estimators=100 \n",
      "[CV]  criterion=gini, max_depth=6, max_features=6, min_samples_split=10, n_estimators=100, score=0.6346243583761083, total=  32.4s\n",
      "[CV] criterion=gini, max_depth=6, max_features=6, min_samples_split=10, n_estimators=100 \n",
      "[CV]  criterion=gini, max_depth=6, max_features=6, min_samples_split=10, n_estimators=100, score=0.6366, total=  32.6s\n",
      "[CV] criterion=gini, max_depth=6, max_features=6, min_samples_split=10, n_estimators=100 \n",
      "[CV]  criterion=gini, max_depth=6, max_features=6, min_samples_split=10, n_estimators=100, score=0.6383333333333333, total=  32.5s\n",
      "[CV] criterion=gini, max_depth=6, max_features=6, min_samples_split=10, n_estimators=100 \n",
      "[CV]  criterion=gini, max_depth=6, max_features=6, min_samples_split=10, n_estimators=100, score=0.6316666666666667, total=  32.5s\n",
      "[CV] criterion=gini, max_depth=6, max_features=6, min_samples_split=10, n_estimators=100 \n",
      "[CV]  criterion=gini, max_depth=6, max_features=6, min_samples_split=10, n_estimators=100, score=0.6318, total=  32.6s\n",
      "[CV] criterion=gini, max_depth=6, max_features=6, min_samples_split=10, n_estimators=100 \n",
      "[CV]  criterion=gini, max_depth=6, max_features=6, min_samples_split=10, n_estimators=100, score=0.6335089005933728, total=  32.4s\n",
      "[CV] criterion=gini, max_depth=6, max_features=6, min_samples_split=10, n_estimators=100 \n",
      "[CV]  criterion=gini, max_depth=6, max_features=6, min_samples_split=10, n_estimators=100, score=0.6316421094739649, total=  32.5s\n",
      "[CV] criterion=gini, max_depth=6, max_features=6, min_samples_split=10, n_estimators=100 \n",
      "[CV]  criterion=gini, max_depth=6, max_features=6, min_samples_split=10, n_estimators=100, score=0.6281085405693713, total=  32.6s\n"
     ]
    },
    {
     "name": "stderr",
     "output_type": "stream",
     "text": [
      "[Parallel(n_jobs=1)]: Done 360 out of 360 | elapsed: 149.0min finished\n"
     ]
    },
    {
     "name": "stdout",
     "output_type": "stream",
     "text": [
      "Best parameters for decision tree: {'criterion': 'gini', 'max_depth': 6, 'max_features': 2, 'min_samples_split': 10, 'n_estimators': 100}\n"
     ]
    }
   ],
   "source": [
    "# perform grid search to find the optimal parameters for our random forest model, after applying PCA\n",
    "rforest = ensemble.RandomForestClassifier(random_state=20)\n",
    "forest_param_grid = {'n_estimators':[100], 'max_depth':[4,6], 'min_samples_split':[6,8,10], \n",
    "                     'max_features':[2,4,6], 'criterion':['entropy', 'gini']}\n",
    "rforest_grid = GridSearchCV(rforest, forest_param_grid, cv=10, verbose=3)\n",
    "rforest_grid.fit(train_X_SmallPCA, train_Y_SmallPCA)\n",
    "print('Best parameters for decision tree:', rforest_grid.best_params_)"
   ]
  },
  {
   "cell_type": "code",
   "execution_count": 89,
   "metadata": {},
   "outputs": [
    {
     "name": "stdout",
     "output_type": "stream",
     "text": [
      "Best score for Random Forest: 0.64082\n"
     ]
    }
   ],
   "source": [
    "print('Best score for Random Forest:', rforest_grid.best_score_)"
   ]
  },
  {
   "cell_type": "code",
   "execution_count": null,
   "metadata": {},
   "outputs": [
    {
     "name": "stdout",
     "output_type": "stream",
     "text": [
      "Accuracy score for Random Forest Model: 0.6776318755918056\n",
      "\n",
      "Duration: 0:09:03.389027\n",
      "\n"
     ]
    }
   ],
   "source": [
    "#initialize and train our random forest model with PCA\n",
    "rand_forest_pca = ensemble.RandomForestClassifier(n_estimators=200, criterion='gini', max_depth=16, max_features=4,\n",
    "                                              min_samples_split=10)\n",
    "\n",
    "#set start time\n",
    "start_time_rforest = datetime.datetime.now()\n",
    "\n",
    "rand_forest_pca.fit(train_X_PCA, train_Y_PCA)\n",
    "\n",
    "# Classify, storing the result in a new variable.\n",
    "y_pred_rforest_pca = rand_forest_pca.predict(test_X_PCA)\n",
    "\n",
    "#get accuracy score from our model\n",
    "print('Accuracy score for Random Forest Model: ' + str(metrics.accuracy_score(test_Y_PCA, y_pred_rforest_pca)))\n",
    "\n",
    "#calculate end time\n",
    "end_time_rforest = datetime.datetime.now()\n",
    "\n",
    "#print the execution run time for our model\n",
    "print('\\nDuration: {}'.format(end_time_rforest - start_time_rforest))\n",
    "print()\n",
    "\n",
    "#get average accuracy score of our random forest through cross validation\n",
    "rforest_pca_cvs = cross_val_score(rand_forest_pca, pca_df, Y, cv=10, scoring='accuracy')\n",
    "print(rforest_pca_cvs)\n",
    "print('Average cross validated score from our Random Forest Model is: ' + str(np.mean(rforest_pca_cvs)))"
   ]
  },
  {
   "cell_type": "code",
   "execution_count": 104,
   "metadata": {},
   "outputs": [
    {
     "name": "stdout",
     "output_type": "stream",
     "text": [
      "Confusion Matrix: \n",
      " [[66721 33088]\n",
      " [34679 65113]]\n",
      "\n",
      "              precision    recall  f1-score   support\n",
      "\n",
      "     Class_0       0.66      0.67      0.66     99809\n",
      "     Class_1       0.66      0.65      0.66     99792\n",
      "\n",
      "   micro avg       0.66      0.66      0.66    199601\n",
      "   macro avg       0.66      0.66      0.66    199601\n",
      "weighted avg       0.66      0.66      0.66    199601\n",
      "\n"
     ]
    }
   ],
   "source": [
    "# create confusion matrix for random forest and PCA\n",
    "print(\"Confusion Matrix: \\n\", confusion_matrix(test_Y_PCA, y_pred_rforest_pca))\n",
    "print()\n",
    "\n",
    "# perform classification report of the logistic regression model\n",
    "class_names = ['Class_0', 'Class_1']\n",
    "rforest_report = classification_report(test_Y_PCA, y_pred_rforest_pca, target_names=class_names)\n",
    "print(rforest_report)"
   ]
  },
  {
   "cell_type": "code",
   "execution_count": 106,
   "metadata": {},
   "outputs": [
    {
     "name": "stdout",
     "output_type": "stream",
     "text": [
      "AUC Score: 0.718\n"
     ]
    },
    {
     "data": {
      "image/png": "[encoded data removed]",
      "text/plain": [
       "<Figure size 432x288 with 1 Axes>"
      ]
     },
     "metadata": {
      "needs_background": "light"
     },
     "output_type": "display_data"
    }
   ],
   "source": [
    "#Get AUC and create ROC\n",
    "# predict probabilities\n",
    "probs_rforest_pca = rand_forest_pca.predict_proba(test_X_PCA)\n",
    "# keep probabilities for the positive outcome only\n",
    "probs_rforest_pca = probs_rforest_pca[:, 1]\n",
    "# calculate AUC\n",
    "rforest_auc = roc_auc_score(test_Y_PCA, probs_rforest_pca)\n",
    "print('AUC Score: %.3f' % rforest_auc)\n",
    "# calculate roc curve\n",
    "fpr_rforest_pca, tpr_rforest_pca, thresholds_rforest_pca = roc_curve(test_Y_PCA, probs_rforest_pca)\n",
    "# plot no skill\n",
    "plt.plot([0, 1], [0, 1], linestyle='--')\n",
    "# plot the roc curve for the model\n",
    "plt.plot(fpr_rforest_pca, tpr_rforest_pca, marker='.')\n",
    "# show the plot\n",
    "plt.show()"
   ]
  },
  {
   "cell_type": "markdown",
   "metadata": {},
   "source": [
    "# Logistic Regression"
   ]
  },
  {
   "cell_type": "code",
   "execution_count": 107,
   "metadata": {},
   "outputs": [
    {
     "name": "stderr",
     "output_type": "stream",
     "text": [
      "C:\\Users\\sajee\\AppData\\Local\\Continuum\\anaconda3\\lib\\site-packages\\sklearn\\linear_model\\logistic.py:433: FutureWarning: Default solver will be changed to 'lbfgs' in 0.22. Specify a solver to silence this warning.\n",
      "  FutureWarning)\n"
     ]
    },
    {
     "name": "stdout",
     "output_type": "stream",
     "text": [
      "Accuracy score for Logistic regression Model after pca: 0.6100520538474257\n",
      "\n",
      "Duration: 0:00:01.170857\n",
      "\n"
     ]
    },
    {
     "name": "stderr",
     "output_type": "stream",
     "text": [
      "C:\\Users\\sajee\\AppData\\Local\\Continuum\\anaconda3\\lib\\site-packages\\sklearn\\linear_model\\logistic.py:433: FutureWarning: Default solver will be changed to 'lbfgs' in 0.22. Specify a solver to silence this warning.\n",
      "  FutureWarning)\n",
      "C:\\Users\\sajee\\AppData\\Local\\Continuum\\anaconda3\\lib\\site-packages\\sklearn\\linear_model\\logistic.py:433: FutureWarning: Default solver will be changed to 'lbfgs' in 0.22. Specify a solver to silence this warning.\n",
      "  FutureWarning)\n",
      "C:\\Users\\sajee\\AppData\\Local\\Continuum\\anaconda3\\lib\\site-packages\\sklearn\\linear_model\\logistic.py:433: FutureWarning: Default solver will be changed to 'lbfgs' in 0.22. Specify a solver to silence this warning.\n",
      "  FutureWarning)\n",
      "C:\\Users\\sajee\\AppData\\Local\\Continuum\\anaconda3\\lib\\site-packages\\sklearn\\linear_model\\logistic.py:433: FutureWarning: Default solver will be changed to 'lbfgs' in 0.22. Specify a solver to silence this warning.\n",
      "  FutureWarning)\n",
      "C:\\Users\\sajee\\AppData\\Local\\Continuum\\anaconda3\\lib\\site-packages\\sklearn\\linear_model\\logistic.py:433: FutureWarning: Default solver will be changed to 'lbfgs' in 0.22. Specify a solver to silence this warning.\n",
      "  FutureWarning)\n",
      "C:\\Users\\sajee\\AppData\\Local\\Continuum\\anaconda3\\lib\\site-packages\\sklearn\\linear_model\\logistic.py:433: FutureWarning: Default solver will be changed to 'lbfgs' in 0.22. Specify a solver to silence this warning.\n",
      "  FutureWarning)\n",
      "C:\\Users\\sajee\\AppData\\Local\\Continuum\\anaconda3\\lib\\site-packages\\sklearn\\linear_model\\logistic.py:433: FutureWarning: Default solver will be changed to 'lbfgs' in 0.22. Specify a solver to silence this warning.\n",
      "  FutureWarning)\n",
      "C:\\Users\\sajee\\AppData\\Local\\Continuum\\anaconda3\\lib\\site-packages\\sklearn\\linear_model\\logistic.py:433: FutureWarning: Default solver will be changed to 'lbfgs' in 0.22. Specify a solver to silence this warning.\n",
      "  FutureWarning)\n",
      "C:\\Users\\sajee\\AppData\\Local\\Continuum\\anaconda3\\lib\\site-packages\\sklearn\\linear_model\\logistic.py:433: FutureWarning: Default solver will be changed to 'lbfgs' in 0.22. Specify a solver to silence this warning.\n",
      "  FutureWarning)\n",
      "C:\\Users\\sajee\\AppData\\Local\\Continuum\\anaconda3\\lib\\site-packages\\sklearn\\linear_model\\logistic.py:433: FutureWarning: Default solver will be changed to 'lbfgs' in 0.22. Specify a solver to silence this warning.\n",
      "  FutureWarning)\n"
     ]
    },
    {
     "name": "stdout",
     "output_type": "stream",
     "text": [
      "[0.6141254  0.610631   0.61362725 0.61212425 0.60955661 0.60980711\n",
      " 0.61124749 0.61122244 0.61362725 0.60948146]\n",
      "Average cross validated score from our log regression model is: 0.611545028165346\n"
     ]
    }
   ],
   "source": [
    "#initialize and train our model after PCA\n",
    "LogReg_pca = LogisticRegression(C=1e9, random_state=12)\n",
    "\n",
    "#set start time\n",
    "start_time4 = datetime.datetime.now()\n",
    "\n",
    "#fit and train the model\n",
    "LogReg_pca.fit(train_X_PCA, train_Y_PCA)\n",
    "\n",
    "# Classify, storing the result in a new variable.\n",
    "y_pred_LogReg_pca = LogReg_pca.predict(test_X_PCA)\n",
    "\n",
    "#get accuracy score from our model\n",
    "print('Accuracy score for Logistic regression Model after pca: ' + str(metrics.accuracy_score(test_Y_PCA, y_pred_LogReg_pca)))\n",
    "\n",
    "#calculate end time\n",
    "end_time4 = datetime.datetime.now()\n",
    "\n",
    "#print the execution run time for our model\n",
    "print('\\nDuration: {}'.format(end_time4 - start_time4))\n",
    "print()\n",
    "\n",
    "#get average accuracy score using cross validation\n",
    "LogReg_cvs_pca = cross_val_score(LogReg_pca, pca_df, Y, cv=10, scoring='accuracy')\n",
    "print(LogReg_cvs_pca)\n",
    "\n",
    "print('Average cross validated score from our log regression model is: ' + str(np.mean(LogReg_cvs_pca)))"
   ]
  },
  {
   "cell_type": "code",
   "execution_count": 108,
   "metadata": {},
   "outputs": [
    {
     "name": "stdout",
     "output_type": "stream",
     "text": [
      "AUC Score: 0.653\n"
     ]
    },
    {
     "data": {
      "image/png": "[encoded data removed]",
      "text/plain": [
       "<Figure size 432x288 with 1 Axes>"
      ]
     },
     "metadata": {
      "needs_background": "light"
     },
     "output_type": "display_data"
    },
    {
     "name": "stdout",
     "output_type": "stream",
     "text": [
      "\n",
      "              precision    recall  f1-score   support\n",
      "\n",
      "     Class_0       0.61      0.60      0.60     99809\n",
      "     Class_1       0.61      0.62      0.61     99792\n",
      "\n",
      "   micro avg       0.61      0.61      0.61    199601\n",
      "   macro avg       0.61      0.61      0.61    199601\n",
      "weighted avg       0.61      0.61      0.61    199601\n",
      "\n",
      "\n"
     ]
    },
    {
     "data": {
      "text/plain": [
       "array([[59603, 40206],\n",
       "       [37628, 62164]], dtype=int64)"
      ]
     },
     "execution_count": 108,
     "metadata": {},
     "output_type": "execute_result"
    }
   ],
   "source": [
    "#Get AUC and create ROC\n",
    "# predict probabilities\n",
    "probs_LogReg_pca = LogReg_pca.predict_proba(test_X_PCA)\n",
    "# keep probabilities for the positive outcome only\n",
    "probs_LogReg_pca = probs_LogReg_pca[:, 1]\n",
    "# calculate AUC\n",
    "LogReg_pca_auc = roc_auc_score(test_Y_PCA, probs_LogReg_pca)\n",
    "print('AUC Score: %.3f' % LogReg_pca_auc)\n",
    "# calculate roc curve\n",
    "fpr_LogReg_pca, tpr_LogReg_pca, thresholds_LogReg_pca = roc_curve(test_Y_PCA, probs_LogReg_pca)\n",
    "# plot no skill\n",
    "plt.plot([0, 1], [0, 1], linestyle='--')\n",
    "# plot the roc curve for the model\n",
    "plt.plot(fpr_LogReg_pca, tpr_LogReg_pca, marker='.')\n",
    "# show the plot\n",
    "plt.show()\n",
    "print()\n",
    "\n",
    "# perform classification report of the logistic regression model\n",
    "class_names = ['Class_0', 'Class_1']\n",
    "LogReg_report_pca = classification_report(test_Y_PCA, y_pred_LogReg_pca, target_names=class_names)\n",
    "print(LogReg_report_pca)\n",
    "print()\n",
    "\n",
    "# create confusion matrix\n",
    "confusion_matrix(test_Y_PCA, y_pred_LogReg_pca)"
   ]
  },
  {
   "cell_type": "markdown",
   "metadata": {},
   "source": [
    "# KNN"
   ]
  },
  {
   "cell_type": "code",
   "execution_count": 109,
   "metadata": {},
   "outputs": [
    {
     "name": "stdout",
     "output_type": "stream",
     "text": [
      "Best parameters for data: {'n_neighbors': 15, 'weights': 'uniform'}\n"
     ]
    }
   ],
   "source": [
    "# perform grid search to find the optimal parameters for our KNN model using full data.\n",
    "KNN_model = KNeighborsClassifier()\n",
    "KNN_params = {'n_neighbors':[5,10,15], 'weights':['uniform', 'distance']}\n",
    "KNN_grid = GridSearchCV(KNN_model, KNN_params, cv=5)\n",
    "KNN_grid.fit(train_X_PCA, train_Y_PCA)\n",
    "print('Best parameters for data:', KNN_grid.best_params_)"
   ]
  },
  {
   "cell_type": "code",
   "execution_count": 124,
   "metadata": {},
   "outputs": [
    {
     "name": "stdout",
     "output_type": "stream",
     "text": [
      "Accuracy score for KNN Model: 0.6638744294868262\n",
      "\n",
      "Duration: 0:00:06.070446\n",
      "\n",
      "[0.66615523 0.66565424 0.66486097 0.66761022 0.66772921]\n",
      "Average cross validated score from our KNN model is: 0.666401974425172\n"
     ]
    }
   ],
   "source": [
    "#initialize and train our model using the training set\n",
    "KNN_pca = KNeighborsClassifier(n_neighbors=15, weights='uniform')\n",
    "\n",
    "#set start time\n",
    "starttime_knn = datetime.datetime.now()\n",
    "\n",
    "#fit and train the model\n",
    "KNN_pca.fit(train_X_PCA,train_Y_PCA)\n",
    "\n",
    "#Make predictions using test_X, and store results in new variable\n",
    "y_pred_KNN_pca = KNN_pca.predict(test_X_PCA)\n",
    "\n",
    "print('Accuracy score for KNN Model: ' + str(metrics.accuracy_score(test_Y_PCA, y_pred_KNN_pca)))\n",
    "\n",
    "#calculate end time\n",
    "endtime_knn = datetime.datetime.now()\n",
    "\n",
    "#print the execution run time for our model\n",
    "print('\\nDuration: {}'.format(endtime_knn - starttime_knn))\n",
    "print()\n",
    "\n",
    "\n",
    "KNN_cvs_pca = cross_val_score(KNN_pca, pca_df, Y, cv=5, scoring='accuracy')\n",
    "print(KNN_cvs_pca)\n",
    "print('Average cross validated score from our KNN model is: ' + str(np.mean(KNN_cvs_pca)))\n"
   ]
  },
  {
   "cell_type": "code",
   "execution_count": 126,
   "metadata": {},
   "outputs": [
    {
     "name": "stdout",
     "output_type": "stream",
     "text": [
      "AUC Score: 0.723\n"
     ]
    },
    {
     "data": {
      "image/png": "[encoded data removed]",
      "text/plain": [
       "<Figure size 432x288 with 1 Axes>"
      ]
     },
     "metadata": {
      "needs_background": "light"
     },
     "output_type": "display_data"
    },
    {
     "name": "stdout",
     "output_type": "stream",
     "text": [
      "              precision    recall  f1-score   support\n",
      "\n",
      "     Class_0       0.66      0.67      0.67     99809\n",
      "     Class_1       0.67      0.66      0.66     99792\n",
      "\n",
      "   micro avg       0.66      0.66      0.66    199601\n",
      "   macro avg       0.66      0.66      0.66    199601\n",
      "weighted avg       0.66      0.66      0.66    199601\n",
      "\n"
     ]
    },
    {
     "data": {
      "text/plain": [
       "array([[66977, 32832],\n",
       "       [34259, 65533]], dtype=int64)"
      ]
     },
     "execution_count": 126,
     "metadata": {},
     "output_type": "execute_result"
    }
   ],
   "source": [
    "#Get AUC and create ROC\n",
    "# predict probabilities\n",
    "probs_KNN_pca = KNN_pca.predict_proba(test_X_PCA)\n",
    "# keep probabilities for the positive outcome only\n",
    "probs_KNN_pca = probs_KNN_pca[:, 1]\n",
    "# calculate AUC\n",
    "KNN_pca_auc = roc_auc_score(test_Y_PCA, probs_KNN_pca)\n",
    "print('AUC Score: %.3f' % KNN_pca_auc)\n",
    "# calculate roc curve\n",
    "fpr_KNN_pca, tpr_KNN_pca, thresholds_KNN_pca = roc_curve(test_Y_PCA, probs_KNN_pca)\n",
    "# plot no skill\n",
    "plt.plot([0, 1], [0, 1], linestyle='--')\n",
    "# plot the roc curve for the model\n",
    "plt.plot(fpr_KNN_pca, tpr_KNN_pca, marker='.')\n",
    "# show the plot\n",
    "plt.show()\n",
    "\n",
    "# perform classification report of the KNN model\n",
    "class_names = ['Class_0', 'Class_1']\n",
    "KNN_report_pca = classification_report(test_Y_PCA, y_pred_KNN_pca, target_names=class_names)\n",
    "print(KNN_report_pca)\n",
    "\n",
    "# confusion Matrix\n",
    "confusion_matrix(test_Y_PCA, y_pred_KNN_pca)\n"
   ]
  },
  {
   "cell_type": "markdown",
   "metadata": {},
   "source": [
    "# Gradient Boosting"
   ]
  },
  {
   "cell_type": "code",
   "execution_count": null,
   "metadata": {},
   "outputs": [],
   "source": [
    "#Run gridsearchcv to find the best parameters for gradient boosting using PCA\n",
    "gboost_param_grid = {'n_estimators':[100,200], 'max_depth':[4,6,8], 'min_samples_leaf': [3, 5, 9], \n",
    "                     'learning_rate': [.05, .02, .01], 'subsample': [.7, .8, .9]}\n",
    "gb_model = ensemble.GradientBoostingClassifier(random_state=67)\n",
    "\n",
    "gb_grid = GridSearchCV(gb_model, gboost_param_grid, cv=5)\n",
    "gb_grid.fit(train_X_PCA, train_Y_PCA)\n",
    "print('Best parameters for Gradient Boost Model are:', gb_grid.best_params_)"
   ]
  },
  {
   "cell_type": "code",
   "execution_count": null,
   "metadata": {},
   "outputs": [],
   "source": [
    "print('Best parameters for Gradient Boost Model are:', gb_grid.best_params_)\n",
    "print('Best score for Gradient Boost Model are:', gb_grid.best_score_)"
   ]
  },
  {
   "cell_type": "code",
   "execution_count": null,
   "metadata": {},
   "outputs": [],
   "source": [
    "# Initialize and fit the model using PCA\n",
    "Grad_boost_pca = ensemble.GradientBoostingClassifier(learning_rate=0.02, max_depth=2, min_samples_leaf=5, \n",
    "                                                 n_estimators=200, subsample=0.7, random_state=67)\n",
    "\n",
    "#set start time\n",
    "start_time_gb = datetime.datetime.now()\n",
    "\n",
    "#fit and train the model\n",
    "Grad_boost_pca.fit(train_X_pca, train_Y_pca)\n",
    "\n",
    "# Classify, storing the result in a new variable.\n",
    "y_pred_Gboost_pca = Grad_boost.predict(test_X_pca)\n",
    "\n",
    "#get accuracy score from our model\n",
    "print('Accuracy score for Gradient Boost Model: ' + str(metrics.accuracy_score(test_Y_pca, y_pred_Gboost_pca)))\n",
    "\n",
    "#calculate end time\n",
    "end_time_gb = datetime.datetime.now()\n",
    "\n",
    "#print the execution run time for our model\n",
    "print('\\nDuration: {}'.format(end_time_gb - start_time_gb))\n",
    "print()\n",
    "\n",
    "#get average accuracy score using cross validation\n",
    "Grad_boost_cvs_pca = cross_val_score(Grad_boost_pca, X_pca, Y, cv=5, scoring='accuracy')\n",
    "print(Grad_boost_cvs_pca)\n",
    "\n",
    "print('Average cross validated score from our Gradient Boosting model is: ' + str(np.mean(Grad_boost_cvs_pca)))"
   ]
  },
  {
   "cell_type": "code",
   "execution_count": null,
   "metadata": {},
   "outputs": [],
   "source": [
    "# perform classification report of the Gradient Boosting model\n",
    "class_names = ['Class_0', 'Class_1']\n",
    "Gboost_report = classification_report(test_Y_pca, y_pred_Gboost_pca, target_names=class_names)\n",
    "print(Gboost_report)\n",
    "print()\n",
    "#confusion matrix\n",
    "print('Confusion Matrix:')\n",
    "confusion_matrix(test_Y_pca, y_pred_Gboost_pca)\n",
    "print()\n",
    "\n",
    "#Get AUC and create ROC\n",
    "# predict probabilities\n",
    "probs_Gboost_pca = Grad_boost_pca.predict_proba(test_X_pca)\n",
    "# keep probabilities for the positive outcome only\n",
    "probs_Gboost_pca = probs_Gboost_pca[:, 1]\n",
    "# calculate AUC\n",
    "Gboost_auc = roc_auc_score(test_Y_pca, probs_Gboost_pca)\n",
    "print('AUC Score: %.3f' % Gboost_auc)\n",
    "# calculate roc curve\n",
    "fpr_Gboost_pca, tpr_Gboost_pca, thresholds_Gboost_pca = roc_curve(test_Y_pca, probs_Gboost_pca)\n",
    "# plot no skill\n",
    "plt.plot([0, 1], [0, 1], linestyle='--')\n",
    "# plot the roc curve for the model\n",
    "plt.plot(fpr_Gboost_pca, tpr_Gboost_pca, marker='.')\n",
    "# show the plot\n",
    "plt.show()"
   ]
  },
  {
   "cell_type": "code",
   "execution_count": null,
   "metadata": {},
   "outputs": [],
   "source": []
  },
  {
   "cell_type": "markdown",
   "metadata": {},
   "source": [
    "# SelectKBest"
   ]
  },
  {
   "cell_type": "code",
   "execution_count": null,
   "metadata": {},
   "outputs": [],
   "source": [
    "kbest = SelectKBest(f_classif)\n",
    "pipeline = Pipeline([('kbest', kbest), ('lr', LogisticRegression())])\n",
    "grid_search = GridSearchCV(pipeline, {'kbest__k': [1,2,3,4], 'lr__C': np.logspace(-10, 10, 5)})\n",
    "grid_search.fit(train_X_pca, train_Y_pca)"
   ]
  },
  {
   "cell_type": "code",
   "execution_count": null,
   "metadata": {},
   "outputs": [],
   "source": [
    "#performing GridsearchCV to get the best parameters for SelectKBest.\n",
    "#Kbest = SelectKBest().fit_transform(X, Y)\n",
    "#K_params = {'k':[1,2,3,4,5,6], 'score_func':[chi2, f_classif]}\n",
    "#Kgrid = GridSearchCV(Kbest, K_params, cv=5, scoring='accuracy')\n",
    "#Kgrid.fit(X, Y)\n",
    "#print('Best parameters for SelectKBest:', Kgrid.best_params_)"
   ]
  },
  {
   "cell_type": "code",
   "execution_count": null,
   "metadata": {},
   "outputs": [],
   "source": [
    "#applying selectKBest.\n",
    "X_skb = SelectKBest(f_classif, k=6).fit_transform(X, Y)\n",
    "print(X_skb.shape)"
   ]
  },
  {
   "cell_type": "code",
   "execution_count": null,
   "metadata": {},
   "outputs": [],
   "source": [
    "#After applying SelectKBest, I split the data into a third set of train and test groups\n",
    "train_X_skb, test_X_skb, train_Y_skb, test_Y_skb = train_test_split(X_skb, Y, test_size=.3, random_state=20)"
   ]
  },
  {
   "cell_type": "markdown",
   "metadata": {},
   "source": []
  }
 ],
 "metadata": {
  "kernelspec": {
   "display_name": "Python 3",
   "language": "python",
   "name": "python3"
  },
  "language_info": {
   "codemirror_mode": {
    "name": "ipython",
    "version": 3
   },
   "file_extension": ".py",
   "mimetype": "text/x-python",
   "name": "python",
   "nbconvert_exporter": "python",
   "pygments_lexer": "ipython3",
   "version": "3.7.1"
  }
 },
 "nbformat": 4,
 "nbformat_minor": 2
}
